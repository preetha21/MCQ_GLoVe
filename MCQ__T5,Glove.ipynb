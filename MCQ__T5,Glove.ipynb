{
  "cells": [
    {
      "cell_type": "code",
      "execution_count": null,
      "metadata": {
        "colab": {
          "base_uri": "https://localhost:8080/"
        },
        "id": "I8Yl85GSmHDR",
        "outputId": "3e5b3573-2aa8-4a1c-83a3-6d8886675027"
      },
      "outputs": [
        {
          "output_type": "stream",
          "name": "stdout",
          "text": [
            "Requirement already satisfied: nltk in /usr/local/lib/python3.11/dist-packages (3.9.1)\n",
            "Requirement already satisfied: click in /usr/local/lib/python3.11/dist-packages (from nltk) (8.1.8)\n",
            "Requirement already satisfied: joblib in /usr/local/lib/python3.11/dist-packages (from nltk) (1.4.2)\n",
            "Requirement already satisfied: regex>=2021.8.3 in /usr/local/lib/python3.11/dist-packages (from nltk) (2024.11.6)\n",
            "Requirement already satisfied: tqdm in /usr/local/lib/python3.11/dist-packages (from nltk) (4.67.1)\n",
            "Requirement already satisfied: transformers in /usr/local/lib/python3.11/dist-packages (4.48.3)\n",
            "Requirement already satisfied: filelock in /usr/local/lib/python3.11/dist-packages (from transformers) (3.17.0)\n",
            "Requirement already satisfied: huggingface-hub<1.0,>=0.24.0 in /usr/local/lib/python3.11/dist-packages (from transformers) (0.28.1)\n",
            "Requirement already satisfied: numpy>=1.17 in /usr/local/lib/python3.11/dist-packages (from transformers) (2.0.2)\n",
            "Requirement already satisfied: packaging>=20.0 in /usr/local/lib/python3.11/dist-packages (from transformers) (24.2)\n",
            "Requirement already satisfied: pyyaml>=5.1 in /usr/local/lib/python3.11/dist-packages (from transformers) (6.0.2)\n",
            "Requirement already satisfied: regex!=2019.12.17 in /usr/local/lib/python3.11/dist-packages (from transformers) (2024.11.6)\n",
            "Requirement already satisfied: requests in /usr/local/lib/python3.11/dist-packages (from transformers) (2.32.3)\n",
            "Requirement already satisfied: tokenizers<0.22,>=0.21 in /usr/local/lib/python3.11/dist-packages (from transformers) (0.21.1)\n",
            "Requirement already satisfied: safetensors>=0.4.1 in /usr/local/lib/python3.11/dist-packages (from transformers) (0.5.3)\n",
            "Requirement already satisfied: tqdm>=4.27 in /usr/local/lib/python3.11/dist-packages (from transformers) (4.67.1)\n",
            "Requirement already satisfied: fsspec>=2023.5.0 in /usr/local/lib/python3.11/dist-packages (from huggingface-hub<1.0,>=0.24.0->transformers) (2024.10.0)\n",
            "Requirement already satisfied: typing-extensions>=3.7.4.3 in /usr/local/lib/python3.11/dist-packages (from huggingface-hub<1.0,>=0.24.0->transformers) (4.12.2)\n",
            "Requirement already satisfied: charset-normalizer<4,>=2 in /usr/local/lib/python3.11/dist-packages (from requests->transformers) (3.4.1)\n",
            "Requirement already satisfied: idna<4,>=2.5 in /usr/local/lib/python3.11/dist-packages (from requests->transformers) (3.10)\n",
            "Requirement already satisfied: urllib3<3,>=1.21.1 in /usr/local/lib/python3.11/dist-packages (from requests->transformers) (2.3.0)\n",
            "Requirement already satisfied: certifi>=2017.4.17 in /usr/local/lib/python3.11/dist-packages (from requests->transformers) (2025.1.31)\n"
          ]
        }
      ],
      "source": [
        "!pip install nltk\n",
        "!pip install transformers"
      ]
    },
    {
      "cell_type": "code",
      "execution_count": null,
      "metadata": {
        "id": "b4r7mKXeASar"
      },
      "outputs": [],
      "source": []
    },
    {
      "cell_type": "code",
      "execution_count": null,
      "metadata": {
        "colab": {
          "base_uri": "https://localhost:8080/"
        },
        "id": "LaWL1Tr2QfgA",
        "outputId": "986e1ef4-1845-4f80-e646-16e28efb8c90"
      },
      "outputs": [
        {
          "output_type": "stream",
          "name": "stdout",
          "text": [
            "Collecting en-core-web-lg==3.8.0\n",
            "  Downloading https://github.com/explosion/spacy-models/releases/download/en_core_web_lg-3.8.0/en_core_web_lg-3.8.0-py3-none-any.whl (400.7 MB)\n",
            "\u001b[2K     \u001b[90m━━━━━━━━━━━━━━━━━━━━━━━━━━━━━━━━━━━━━━━━\u001b[0m \u001b[32m400.7/400.7 MB\u001b[0m \u001b[31m4.3 MB/s\u001b[0m eta \u001b[36m0:00:00\u001b[0m\n",
            "\u001b[?25hInstalling collected packages: en-core-web-lg\n",
            "Successfully installed en-core-web-lg-3.8.0\n",
            "\u001b[38;5;2m✔ Download and installation successful\u001b[0m\n",
            "You can now load the package via spacy.load('en_core_web_lg')\n",
            "\u001b[38;5;3m⚠ Restart to reload dependencies\u001b[0m\n",
            "If you are in a Jupyter or Colab notebook, you may need to restart Python in\n",
            "order to load all the package's dependencies. You can do this by selecting the\n",
            "'Restart kernel' or 'Restart runtime' option.\n"
          ]
        }
      ],
      "source": [
        "!python -m spacy download en_core_web_lg"
      ]
    },
    {
      "cell_type": "code",
      "execution_count": null,
      "metadata": {
        "id": "f6dlqDtzNcGO"
      },
      "outputs": [],
      "source": [
        "import random\n",
        "import numpy as np\n",
        "import nltk"
      ]
    },
    {
      "cell_type": "markdown",
      "metadata": {
        "id": "4_hEn9esfynX"
      },
      "source": []
    },
    {
      "cell_type": "code",
      "execution_count": null,
      "metadata": {
        "colab": {
          "base_uri": "https://localhost:8080/"
        },
        "id": "COLhSd49NaEi",
        "outputId": "59b6a9ba-d86b-4656-bc33-0f0a3ebc22f3"
      },
      "outputs": [
        {
          "output_type": "stream",
          "name": "stderr",
          "text": [
            "[nltk_data] Downloading package stopwords to /root/nltk_data...\n",
            "[nltk_data]   Unzipping corpora/stopwords.zip.\n",
            "[nltk_data] Downloading package punkt to /root/nltk_data...\n",
            "[nltk_data]   Unzipping tokenizers/punkt.zip.\n"
          ]
        },
        {
          "output_type": "execute_result",
          "data": {
            "text/plain": [
              "True"
            ]
          },
          "metadata": {},
          "execution_count": 4
        }
      ],
      "source": [
        "nltk.download('stopwords')\n",
        "nltk.download('punkt')"
      ]
    },
    {
      "cell_type": "code",
      "execution_count": null,
      "metadata": {
        "id": "5at3VpHimQkU"
      },
      "outputs": [],
      "source": [
        "from nltk.tokenize import sent_tokenize, word_tokenize\n",
        "import spacy\n",
        "from spacy.lang.en.stop_words import STOP_WORDS\n",
        "from string import punctuation\n",
        "from nltk.corpus import stopwords\n",
        "from transformers import T5ForConditionalGeneration, T5Tokenizer\n",
        "import torch\n",
        "from heapq import nlargest"
      ]
    },
    {
      "cell_type": "code",
      "execution_count": null,
      "metadata": {
        "colab": {
          "base_uri": "https://localhost:8080/"
        },
        "id": "0UfsNsaDTLsj",
        "outputId": "1dcb5e34-1d57-465a-ce00-763d3f64aef3"
      },
      "outputs": [
        {
          "output_type": "stream",
          "name": "stdout",
          "text": [
            "Collecting PyPDF2\n",
            "  Downloading pypdf2-3.0.1-py3-none-any.whl.metadata (6.8 kB)\n",
            "Downloading pypdf2-3.0.1-py3-none-any.whl (232 kB)\n",
            "\u001b[?25l   \u001b[90m━━━━━━━━━━━━━━━━━━━━━━━━━━━━━━━━━━━━━━━━\u001b[0m \u001b[32m0.0/232.6 kB\u001b[0m \u001b[31m?\u001b[0m eta \u001b[36m-:--:--\u001b[0m\r\u001b[2K   \u001b[90m━━━━━━━━━━━━━━━━━━━━━━━━━━━━━━━━━━━━━━━━\u001b[0m \u001b[32m232.6/232.6 kB\u001b[0m \u001b[31m7.9 MB/s\u001b[0m eta \u001b[36m0:00:00\u001b[0m\n",
            "\u001b[?25hInstalling collected packages: PyPDF2\n",
            "Successfully installed PyPDF2-3.0.1\n"
          ]
        }
      ],
      "source": [
        "!pip install PyPDF2"
      ]
    },
    {
      "cell_type": "code",
      "execution_count": null,
      "metadata": {
        "colab": {
          "base_uri": "https://localhost:8080/",
          "height": 73
        },
        "id": "2qtvL-vT919i",
        "outputId": "012ab7f4-6164-4f74-fd77-367e28b0789e"
      },
      "outputs": [
        {
          "output_type": "display_data",
          "data": {
            "text/plain": [
              "<IPython.core.display.HTML object>"
            ],
            "text/html": [
              "\n",
              "     <input type=\"file\" id=\"files-8a320216-26b3-4924-9e40-3f183b88231d\" name=\"files[]\" multiple disabled\n",
              "        style=\"border:none\" />\n",
              "     <output id=\"result-8a320216-26b3-4924-9e40-3f183b88231d\">\n",
              "      Upload widget is only available when the cell has been executed in the\n",
              "      current browser session. Please rerun this cell to enable.\n",
              "      </output>\n",
              "      <script>// Copyright 2017 Google LLC\n",
              "//\n",
              "// Licensed under the Apache License, Version 2.0 (the \"License\");\n",
              "// you may not use this file except in compliance with the License.\n",
              "// You may obtain a copy of the License at\n",
              "//\n",
              "//      http://www.apache.org/licenses/LICENSE-2.0\n",
              "//\n",
              "// Unless required by applicable law or agreed to in writing, software\n",
              "// distributed under the License is distributed on an \"AS IS\" BASIS,\n",
              "// WITHOUT WARRANTIES OR CONDITIONS OF ANY KIND, either express or implied.\n",
              "// See the License for the specific language governing permissions and\n",
              "// limitations under the License.\n",
              "\n",
              "/**\n",
              " * @fileoverview Helpers for google.colab Python module.\n",
              " */\n",
              "(function(scope) {\n",
              "function span(text, styleAttributes = {}) {\n",
              "  const element = document.createElement('span');\n",
              "  element.textContent = text;\n",
              "  for (const key of Object.keys(styleAttributes)) {\n",
              "    element.style[key] = styleAttributes[key];\n",
              "  }\n",
              "  return element;\n",
              "}\n",
              "\n",
              "// Max number of bytes which will be uploaded at a time.\n",
              "const MAX_PAYLOAD_SIZE = 100 * 1024;\n",
              "\n",
              "function _uploadFiles(inputId, outputId) {\n",
              "  const steps = uploadFilesStep(inputId, outputId);\n",
              "  const outputElement = document.getElementById(outputId);\n",
              "  // Cache steps on the outputElement to make it available for the next call\n",
              "  // to uploadFilesContinue from Python.\n",
              "  outputElement.steps = steps;\n",
              "\n",
              "  return _uploadFilesContinue(outputId);\n",
              "}\n",
              "\n",
              "// This is roughly an async generator (not supported in the browser yet),\n",
              "// where there are multiple asynchronous steps and the Python side is going\n",
              "// to poll for completion of each step.\n",
              "// This uses a Promise to block the python side on completion of each step,\n",
              "// then passes the result of the previous step as the input to the next step.\n",
              "function _uploadFilesContinue(outputId) {\n",
              "  const outputElement = document.getElementById(outputId);\n",
              "  const steps = outputElement.steps;\n",
              "\n",
              "  const next = steps.next(outputElement.lastPromiseValue);\n",
              "  return Promise.resolve(next.value.promise).then((value) => {\n",
              "    // Cache the last promise value to make it available to the next\n",
              "    // step of the generator.\n",
              "    outputElement.lastPromiseValue = value;\n",
              "    return next.value.response;\n",
              "  });\n",
              "}\n",
              "\n",
              "/**\n",
              " * Generator function which is called between each async step of the upload\n",
              " * process.\n",
              " * @param {string} inputId Element ID of the input file picker element.\n",
              " * @param {string} outputId Element ID of the output display.\n",
              " * @return {!Iterable<!Object>} Iterable of next steps.\n",
              " */\n",
              "function* uploadFilesStep(inputId, outputId) {\n",
              "  const inputElement = document.getElementById(inputId);\n",
              "  inputElement.disabled = false;\n",
              "\n",
              "  const outputElement = document.getElementById(outputId);\n",
              "  outputElement.innerHTML = '';\n",
              "\n",
              "  const pickedPromise = new Promise((resolve) => {\n",
              "    inputElement.addEventListener('change', (e) => {\n",
              "      resolve(e.target.files);\n",
              "    });\n",
              "  });\n",
              "\n",
              "  const cancel = document.createElement('button');\n",
              "  inputElement.parentElement.appendChild(cancel);\n",
              "  cancel.textContent = 'Cancel upload';\n",
              "  const cancelPromise = new Promise((resolve) => {\n",
              "    cancel.onclick = () => {\n",
              "      resolve(null);\n",
              "    };\n",
              "  });\n",
              "\n",
              "  // Wait for the user to pick the files.\n",
              "  const files = yield {\n",
              "    promise: Promise.race([pickedPromise, cancelPromise]),\n",
              "    response: {\n",
              "      action: 'starting',\n",
              "    }\n",
              "  };\n",
              "\n",
              "  cancel.remove();\n",
              "\n",
              "  // Disable the input element since further picks are not allowed.\n",
              "  inputElement.disabled = true;\n",
              "\n",
              "  if (!files) {\n",
              "    return {\n",
              "      response: {\n",
              "        action: 'complete',\n",
              "      }\n",
              "    };\n",
              "  }\n",
              "\n",
              "  for (const file of files) {\n",
              "    const li = document.createElement('li');\n",
              "    li.append(span(file.name, {fontWeight: 'bold'}));\n",
              "    li.append(span(\n",
              "        `(${file.type || 'n/a'}) - ${file.size} bytes, ` +\n",
              "        `last modified: ${\n",
              "            file.lastModifiedDate ? file.lastModifiedDate.toLocaleDateString() :\n",
              "                                    'n/a'} - `));\n",
              "    const percent = span('0% done');\n",
              "    li.appendChild(percent);\n",
              "\n",
              "    outputElement.appendChild(li);\n",
              "\n",
              "    const fileDataPromise = new Promise((resolve) => {\n",
              "      const reader = new FileReader();\n",
              "      reader.onload = (e) => {\n",
              "        resolve(e.target.result);\n",
              "      };\n",
              "      reader.readAsArrayBuffer(file);\n",
              "    });\n",
              "    // Wait for the data to be ready.\n",
              "    let fileData = yield {\n",
              "      promise: fileDataPromise,\n",
              "      response: {\n",
              "        action: 'continue',\n",
              "      }\n",
              "    };\n",
              "\n",
              "    // Use a chunked sending to avoid message size limits. See b/62115660.\n",
              "    let position = 0;\n",
              "    do {\n",
              "      const length = Math.min(fileData.byteLength - position, MAX_PAYLOAD_SIZE);\n",
              "      const chunk = new Uint8Array(fileData, position, length);\n",
              "      position += length;\n",
              "\n",
              "      const base64 = btoa(String.fromCharCode.apply(null, chunk));\n",
              "      yield {\n",
              "        response: {\n",
              "          action: 'append',\n",
              "          file: file.name,\n",
              "          data: base64,\n",
              "        },\n",
              "      };\n",
              "\n",
              "      let percentDone = fileData.byteLength === 0 ?\n",
              "          100 :\n",
              "          Math.round((position / fileData.byteLength) * 100);\n",
              "      percent.textContent = `${percentDone}% done`;\n",
              "\n",
              "    } while (position < fileData.byteLength);\n",
              "  }\n",
              "\n",
              "  // All done.\n",
              "  yield {\n",
              "    response: {\n",
              "      action: 'complete',\n",
              "    }\n",
              "  };\n",
              "}\n",
              "\n",
              "scope.google = scope.google || {};\n",
              "scope.google.colab = scope.google.colab || {};\n",
              "scope.google.colab._files = {\n",
              "  _uploadFiles,\n",
              "  _uploadFilesContinue,\n",
              "};\n",
              "})(self);\n",
              "</script> "
            ]
          },
          "metadata": {}
        },
        {
          "output_type": "stream",
          "name": "stdout",
          "text": [
            "Saving ai.pdf to ai.pdf\n"
          ]
        }
      ],
      "source": [
        "from google.colab import files\n",
        "\n",
        "uploaded = files.upload()"
      ]
    },
    {
      "cell_type": "code",
      "execution_count": null,
      "metadata": {
        "id": "yl7qDK0iK2wn"
      },
      "outputs": [],
      "source": []
    },
    {
      "cell_type": "code",
      "execution_count": null,
      "metadata": {
        "id": "Fsbiie6k-BLi",
        "colab": {
          "base_uri": "https://localhost:8080/"
        },
        "outputId": "ba138de1-3fc6-4b49-97c3-3b9ab516c178"
      },
      "outputs": [
        {
          "output_type": "stream",
          "name": "stdout",
          "text": [
            "/content/ai.pdf\n"
          ]
        }
      ],
      "source": [
        "import os\n",
        "from PyPDF2 import PdfReader\n",
        "def Conversion(file_name):\n",
        "\tcurrent_directory = os.getcwd();\n",
        "\tfile_path = os.path.join(current_directory,file_name);\n",
        "\tprint(file_path)\n",
        "\textracted_text = \"\";\n",
        "\twith open(file_path, \"rb\") as pdf_file:\n",
        "\t\tpdf_reader = PdfReader(pdf_file)\n",
        "\t\tx = 1;\n",
        "\t\tfor page in pdf_reader.pages:\n",
        "\t\t\textracted_text += \"Page N0\"+ str(x) + '\\n';\n",
        "\t\t\textracted_text += page.extract_text();\n",
        "\t\t\tx += 1\n",
        "\treturn extracted_text;\n",
        "file_name = next(iter(uploaded))\n",
        "text = Conversion(file_name)\n"
      ]
    },
    {
      "cell_type": "code",
      "execution_count": null,
      "metadata": {
        "id": "h72do7KEmQfg",
        "colab": {
          "base_uri": "https://localhost:8080/",
          "height": 109
        },
        "outputId": "f1a50a98-75c7-4f6c-9b6c-85f9e11725db"
      },
      "outputs": [
        {
          "output_type": "execute_result",
          "data": {
            "text/plain": [
              "'Page N01\\n\\xa0\\n \\nArtificial Intelligence: The Engine of the Future\\n \\n1. Introduction to Artificial Intelligence (AI)\\n \\nArtificial Intelligence (AI) is a branch of computer science that aims to create machines capable of performing tasks that typically require \\nhuman intelligence. These tasks include learning from data, recognizing speech and images, understanding natural language, solving problems, \\nand making decisions. AI systems can adapt and improve over time, often outperforming humans in specific tasks by processing vast amounts \\nof information quickly and accurately.\\n \\nThe term \"Artificial Intelligence\" was coined by John McCarthy in 1956, marking the beginning of AI as an academic discipline. Over the \\ndecades, AI has evolved from simple rule-based programs to complex neural networks and autonomous systems, driven by breakthroughs in \\ncomputing power, algorithms, and data availability.\\n \\n \\n2. Key Components of AI\\n \\nModern AI consists of several interconnected disciplines:\\n \\n2.1 Machine Learning (ML)\\n Page N02\\nMachine learning is a subset of AI that enables systems to learn from data without being explicitly programmed. It’s based on statistical \\ntechniques that allow machines to improve performance as they are exposed to more data.\\n \\nSupervised Learning: The model learns from labeled data. For example, a spam filter learns to differentiate between spam and legitimate \\nemails by analyzing thousands of labeled examples.\\nUnsupervised Learning: The model finds patterns in unlabeled data, like grouping similar customer behaviors for marketing strategies.\\nReinforcement Learning: The model learns by interacting with its environment, receiving rewards for desirable actions — a technique used in \\ngame AI and robotics.\\n \\n2.2 Deep Learning\\n \\nDeep learning, a powerful form of machine learning, uses neural networks with multiple layers (\"deep\" networks) to analyze data. Inspired by the \\nhuman brain, these networks process raw data like images, sound, or text to automatically extract patterns and insights. Deep learning has \\nfueled breakthroughs in computer vision, speech recognition, and natural language processing.\\n \\n2.3 Natural Language Processing (NLP)\\n \\nNLP enables machines to understand, interpret, and generate human language. This technology powers virtual assistants like Siri and Alexa, \\nlanguage translation tools, sentiment analysis, and automated content generation. Advances in transformer models like BERT and GPT have \\ndramatically improved AI\\'s ability to handle nuanced language.\\n \\n2.4 Computer Vision\\n \\nComputer vision allows AI systems to interpret and analyze visual data — images and videos. This technology is essential in applications like \\nfacial recognition, medical imaging, autonomous vehicles, and even agriculture (e.g., identifying crop diseases).\\n Page N03\\n2.5 Robotics\\n \\nAI-powered robots combine physical capabilities with intelligent behavior. They’re designed for tasks ranging from manufacturing and logistics \\nto space exploration and surgical assistance. Boston Dynamics\\' robots, for instance, showcase advanced movement, balance, and decision-\\nmaking abilities.\\n \\n3. Real-World Applications of AI\\n \\nAI is transforming industries, reshaping how we work, live, and interact. Let’s explore some key sectors:\\n \\n3.1 Healthcare\\n \\nDisease Diagnosis: AI systems analyze medical images (e.g., X-rays, CT scans) to detect conditions like cancer with higher accuracy and \\nspeed than human doctors.\\nDrug Discovery: Machine learning accelerates the development of new drugs by simulating molecular interactions.\\nPersonalized Medicine: AI tailors treatments based on individual genetic profiles and medical histories.\\n \\n3.2 Education\\n \\nAdaptive Learning Platforms: AI personalizes lessons to match each student\\'s pace and learning style, improving engagement and \\noutcomes.\\nAutomated Grading: AI reduces the burden on teachers by grading essays and quizzes.\\nVirtual Tutors: Intelligent tutoring systems provide instant, personalized feedback to students.\\n \\n3.3 Business and FinancePage N04\\n \\nFraud Detection: AI identifies unusual patterns in financial transactions, preventing credit card fraud and money laundering.\\nAlgorithmic Trading: Financial institutions use AI algorithms to make rapid, data-driven investment decisions.\\nCustomer Service: Chatbots and virtual assistants handle customer queries efficiently, enhancing user experience.\\n \\n3.4 Transportation\\n \\nAutonomous Vehicles: Self-driving cars from companies like Tesla and Waymo rely on AI to navigate roads safely.\\nTraffic Management: AI optimizes traffic flow in cities, reducing congestion and emissions.\\n \\n3.5 Entertainment\\n \\nRecommendation Systems: Netflix, Spotify, and YouTube use AI to recommend content based on user behavior.\\nContent Generation: AI creates music, art, and even movie scripts, blurring the lines between human and machine creativity.\\n \\n4. Challenges and Limitations of AI\\n \\nDespite its progress, AI faces significant challenges:\\n \\n4.1 Data Dependency\\n \\nAI models require large datasets for training. Poor-quality, biased, or insufficient data can lead to inaccurate results.\\n \\n4.2 Interpretability and Explainability\\n Page N05\\nMany AI models, especially deep neural networks, function as \"black boxes\" — their decision-making processes are not easily interpretable by \\nhumans. This raises trust and accountability issues, particularly in critical fields like healthcare and criminal justice.\\n \\n4.3 Ethical and Social Implications\\n \\nBias and Fairness: AI can inherit biases present in the training data, leading to unfair decisions in hiring, lending, or law enforcement.\\nJob Displacement: Automation powered by AI may eliminate certain jobs, particularly in manufacturing and customer service. However, it \\nmay also create new roles that require human creativity and oversight.\\nPrivacy: AI systems often require extensive personal data, posing risks to user privacy and data security.\\n \\n5. The Future of AI\\n \\nAI’s future holds extraordinary possibilities, including:\\n \\n5.1 Artificial General Intelligence (AGI)\\n \\nCurrent AI systems, known as narrow AI, excel at specific tasks. AGI, however, refers to machines with human-like intelligence, capable of \\nperforming any intellectual task a human can do. Although AGI remains theoretical, research continues.\\n \\n5.2 AI and Quantum Computing\\n \\nQuantum computing has the potential to revolutionize AI by solving problems that are infeasible for classical computers. This could accelerate \\nbreakthroughs in drug discovery, climate modeling, and cryptography.\\n Page N06\\n5.3 Human-AI Collaboration\\n \\nFuture AI systems are expected to work alongside humans rather than replace them. AI could handle repetitive tasks while humans focus on \\ncreativity, strategy, and empathy — qualities machines lack.\\n \\n6. Conclusion\\n \\nArtificial Intelligence is redefining our world. From healthcare to entertainment, it enhances efficiency, personalizes experiences, and solves \\ncomplex problems. Yet, its challenges — data dependency, bias, and ethical concerns — require thoughtful management. With responsible \\ndevelopment, AI holds the promise of a smarter, more connected, and equitable future.'"
            ],
            "application/vnd.google.colaboratory.intrinsic+json": {
              "type": "string"
            }
          },
          "metadata": {},
          "execution_count": 9
        }
      ],
      "source": [
        "text"
      ]
    },
    {
      "cell_type": "code",
      "execution_count": null,
      "metadata": {
        "id": "t3I9WYU7mhKj",
        "colab": {
          "base_uri": "https://localhost:8080/",
          "height": 109
        },
        "outputId": "12a43a03-6193-4cb0-a280-035ffcf5fdd3"
      },
      "outputs": [
        {
          "output_type": "execute_result",
          "data": {
            "text/plain": [
              "'\\xa0 Artificial Intelligence: The Engine of the Future 1. Introduction to Artificial Intelligence (AI) Artificial Intelligence (AI) is a branch of computer science that aims to create machines capable of performing tasks that typically require human intelligence. These tasks include learning from data, recognizing speech and images, understanding natural language, solving problems, and making decisions. AI systems can adapt and improve over time, often outperforming humans in specific tasks by processing vast amounts of information quickly and accurately. The term \"Artificial Intelligence\" was coined by John McCarthy in 1956, marking the beginning of AI as an academic discipline. Over the decades, AI has evolved from simple rule-based programs to complex neural networks and autonomous systems, driven by breakthroughs in computing power, algorithms, and data availability.  2. Key Components of AI Modern AI consists of several interconnected disciplines: 2.1 Machine Learning (ML) Machine learning is a subset of AI that enables systems to learn from data without being explicitly programmed. It’s based on statistical techniques that allow machines to improve performance as they are exposed to more data. Supervised Learning: The model learns from labeled data. For example, a spam filter learns to differentiate between spam and legitimate emails by analyzing thousands of labeled examples.Unsupervised Learning: The model finds patterns in unlabeled data, like grouping similar customer behaviors for marketing strategies.Reinforcement Learning: The model learns by interacting with its environment, receiving rewards for desirable actions — a technique used in game AI and robotics. 2.2 Deep Learning Deep learning, a powerful form of machine learning, uses neural networks with multiple layers (\"deep\" networks) to analyze data. Inspired by the human brain, these networks process raw data like images, sound, or text to automatically extract patterns and insights. Deep learning has fueled breakthroughs in computer vision, speech recognition, and natural language processing. 2.3 Natural Language Processing (NLP) NLP enables machines to understand, interpret, and generate human language. This technology powers virtual assistants like Siri and Alexa, language translation tools, sentiment analysis, and automated content generation. Advances in transformer models like BERT and GPT have dramatically improved AI\\'s ability to handle nuanced language. 2.4 Computer Vision Computer vision allows AI systems to interpret and analyze visual data — images and videos. This technology is essential in applications like facial recognition, medical imaging, autonomous vehicles, and even agriculture (e.g., identifying crop diseases). 2.5 Robotics AI-powered robots combine physical capabilities with intelligent behavior. They’re designed for tasks ranging from manufacturing and logistics to space exploration and surgical assistance. Boston Dynamics\\' robots, for instance, showcase advanced movement, balance, and decision-making abilities. 3. Real-World Applications of AI AI is transforming industries, reshaping how we work, live, and interact. Let’s explore some key sectors: 3.1 Healthcare Disease Diagnosis: AI systems analyze medical images (e.g., X-rays, CT scans) to detect conditions like cancer with higher accuracy and speed than human doctors.Drug Discovery: Machine learning accelerates the development of new drugs by simulating molecular interactions.Personalized Medicine: AI tailors treatments based on individual genetic profiles and medical histories. 3.2 Education Adaptive Learning Platforms: AI personalizes lessons to match each student\\'s pace and learning style, improving engagement and outcomes.Automated Grading: AI reduces the burden on teachers by grading essays and quizzes.Virtual Tutors: Intelligent tutoring systems provide instant, personalized feedback to students. 3.3 Business and FinancePage N04 Fraud Detection: AI identifies unusual patterns in financial transactions, preventing credit card fraud and money laundering.Algorithmic Trading: Financial institutions use AI algorithms to make rapid, data-driven investment decisions.Customer Service: Chatbots and virtual assistants handle customer queries efficiently, enhancing user experience. 3.4 Transportation Autonomous Vehicles: Self-driving cars from companies like Tesla and Waymo rely on AI to navigate roads safely.Traffic Management: AI optimizes traffic flow in cities, reducing congestion and emissions. 3.5 Entertainment Recommendation Systems: Netflix, Spotify, and YouTube use AI to recommend content based on user behavior.Content Generation: AI creates music, art, and even movie scripts, blurring the lines between human and machine creativity. 4. Challenges and Limitations of AI Despite its progress, AI faces significant challenges: 4.1 Data Dependency AI models require large datasets for training. Poor-quality, biased, or insufficient data can lead to inaccurate results. 4.2 Interpretability and Explainability Many AI models, especially deep neural networks, function as \"black boxes\" — their decision-making processes are not easily interpretable by humans. This raises trust and accountability issues, particularly in critical fields like healthcare and criminal justice. 4.3 Ethical and Social Implications Bias and Fairness: AI can inherit biases present in the training data, leading to unfair decisions in hiring, lending, or law enforcement.Job Displacement: Automation powered by AI may eliminate certain jobs, particularly in manufacturing and customer service. However, it may also create new roles that require human creativity and oversight.Privacy: AI systems often require extensive personal data, posing risks to user privacy and data security. 5. The Future of AI AI’s future holds extraordinary possibilities, including: 5.1 Artificial General Intelligence (AGI) Current AI systems, known as narrow AI, excel at specific tasks. AGI, however, refers to machines with human-like intelligence, capable of performing any intellectual task a human can do. Although AGI remains theoretical, research continues. 5.2 AI and Quantum Computing Quantum computing has the potential to revolutionize AI by solving problems that are infeasible for classical computers. This could accelerate breakthroughs in drug discovery, climate modeling, and cryptography. 5.3 Human-AI Collaboration Future AI systems are expected to work alongside humans rather than replace them. AI could handle repetitive tasks while humans focus on creativity, strategy, and empathy — qualities machines lack. 6. Conclusion Artificial Intelligence is redefining our world. From healthcare to entertainment, it enhances efficiency, personalizes experiences, and solves complex problems. Yet, its challenges — data dependency, bias, and ethical concerns — require thoughtful management. With responsible development, AI holds the promise of a smarter, more connected, and equitable future.'"
            ],
            "application/vnd.google.colaboratory.intrinsic+json": {
              "type": "string"
            }
          },
          "metadata": {},
          "execution_count": 10
        }
      ],
      "source": [
        "import re\n",
        "def remove_page(text):\n",
        "  pattern = r'\\bPage\\s+N\\d{2}\\b'\n",
        "  c_text=re.sub(pattern,'',text)\n",
        "\n",
        "  c_text=c_text.replace('\\n','')\n",
        "  return c_text\n",
        "\n",
        "c_text=remove_page(text)\n",
        "text=c_text\n",
        "text\n"
      ]
    },
    {
      "cell_type": "code",
      "execution_count": null,
      "metadata": {
        "id": "2ZDeL4fQepSb",
        "colab": {
          "base_uri": "https://localhost:8080/"
        },
        "outputId": "b5aaace9-1232-4de0-c1f3-1d1c71dd8cd4"
      },
      "outputs": [
        {
          "output_type": "stream",
          "name": "stderr",
          "text": [
            "[nltk_data] Downloading package punkt_tab to /root/nltk_data...\n",
            "[nltk_data]   Unzipping tokenizers/punkt_tab.zip.\n"
          ]
        },
        {
          "output_type": "stream",
          "name": "stdout",
          "text": [
            "['Artificial', 'Intelligence', ':', 'The', 'Engine', 'of', 'the', 'Future', '1', '.', 'Introduction', 'to', 'Artificial', 'Intelligence', '(', 'AI', ')', 'Artificial', 'Intelligence', '(', 'AI', ')', 'is', 'a', 'branch', 'of', 'computer', 'science', 'that', 'aims', 'to', 'create', 'machines', 'capable', 'of', 'performing', 'tasks', 'that', 'typically', 'require', 'human', 'intelligence', '.', 'These', 'tasks', 'include', 'learning', 'from', 'data', ',', 'recognizing', 'speech', 'and', 'images', ',', 'understanding', 'natural', 'language', ',', 'solving', 'problems', ',', 'and', 'making', 'decisions', '.', 'AI', 'systems', 'can', 'adapt', 'and', 'improve', 'over', 'time', ',', 'often', 'outperforming', 'humans', 'in', 'specific', 'tasks', 'by', 'processing', 'vast', 'amounts', 'of', 'information', 'quickly', 'and', 'accurately', '.', 'The', 'term', '``', 'Artificial', 'Intelligence', \"''\", 'was', 'coined', 'by', 'John', 'McCarthy', 'in', '1956', ',', 'marking', 'the', 'beginning', 'of', 'AI', 'as', 'an', 'academic', 'discipline', '.', 'Over', 'the', 'decades', ',', 'AI', 'has', 'evolved', 'from', 'simple', 'rule-based', 'programs', 'to', 'complex', 'neural', 'networks', 'and', 'autonomous', 'systems', ',', 'driven', 'by', 'breakthroughs', 'in', 'computing', 'power', ',', 'algorithms', ',', 'and', 'data', 'availability', '.', '2', '.', 'Key', 'Components', 'of', 'AI', 'Modern', 'AI', 'consists', 'of', 'several', 'interconnected', 'disciplines', ':', '2.1', 'Machine', 'Learning', '(', 'ML', ')', 'Machine', 'learning', 'is', 'a', 'subset', 'of', 'AI', 'that', 'enables', 'systems', 'to', 'learn', 'from', 'data', 'without', 'being', 'explicitly', 'programmed', '.', 'It', '’', 's', 'based', 'on', 'statistical', 'techniques', 'that', 'allow', 'machines', 'to', 'improve', 'performance', 'as', 'they', 'are', 'exposed', 'to', 'more', 'data', '.', 'Supervised', 'Learning', ':', 'The', 'model', 'learns', 'from', 'labeled', 'data', '.', 'For', 'example', ',', 'a', 'spam', 'filter', 'learns', 'to', 'differentiate', 'between', 'spam', 'and', 'legitimate', 'emails', 'by', 'analyzing', 'thousands', 'of', 'labeled', 'examples.Unsupervised', 'Learning', ':', 'The', 'model', 'finds', 'patterns', 'in', 'unlabeled', 'data', ',', 'like', 'grouping', 'similar', 'customer', 'behaviors', 'for', 'marketing', 'strategies.Reinforcement', 'Learning', ':', 'The', 'model', 'learns', 'by', 'interacting', 'with', 'its', 'environment', ',', 'receiving', 'rewards', 'for', 'desirable', 'actions', '—', 'a', 'technique', 'used', 'in', 'game', 'AI', 'and', 'robotics', '.', '2.2', 'Deep', 'Learning', 'Deep', 'learning', ',', 'a', 'powerful', 'form', 'of', 'machine', 'learning', ',', 'uses', 'neural', 'networks', 'with', 'multiple', 'layers', '(', '``', 'deep', \"''\", 'networks', ')', 'to', 'analyze', 'data', '.', 'Inspired', 'by', 'the', 'human', 'brain', ',', 'these', 'networks', 'process', 'raw', 'data', 'like', 'images', ',', 'sound', ',', 'or', 'text', 'to', 'automatically', 'extract', 'patterns', 'and', 'insights', '.', 'Deep', 'learning', 'has', 'fueled', 'breakthroughs', 'in', 'computer', 'vision', ',', 'speech', 'recognition', ',', 'and', 'natural', 'language', 'processing', '.', '2.3', 'Natural', 'Language', 'Processing', '(', 'NLP', ')', 'NLP', 'enables', 'machines', 'to', 'understand', ',', 'interpret', ',', 'and', 'generate', 'human', 'language', '.', 'This', 'technology', 'powers', 'virtual', 'assistants', 'like', 'Siri', 'and', 'Alexa', ',', 'language', 'translation', 'tools', ',', 'sentiment', 'analysis', ',', 'and', 'automated', 'content', 'generation', '.', 'Advances', 'in', 'transformer', 'models', 'like', 'BERT', 'and', 'GPT', 'have', 'dramatically', 'improved', 'AI', \"'s\", 'ability', 'to', 'handle', 'nuanced', 'language', '.', '2.4', 'Computer', 'Vision', 'Computer', 'vision', 'allows', 'AI', 'systems', 'to', 'interpret', 'and', 'analyze', 'visual', 'data', '—', 'images', 'and', 'videos', '.', 'This', 'technology', 'is', 'essential', 'in', 'applications', 'like', 'facial', 'recognition', ',', 'medical', 'imaging', ',', 'autonomous', 'vehicles', ',', 'and', 'even', 'agriculture', '(', 'e.g.', ',', 'identifying', 'crop', 'diseases', ')', '.', '2.5', 'Robotics', 'AI-powered', 'robots', 'combine', 'physical', 'capabilities', 'with', 'intelligent', 'behavior', '.', 'They', '’', 're', 'designed', 'for', 'tasks', 'ranging', 'from', 'manufacturing', 'and', 'logistics', 'to', 'space', 'exploration', 'and', 'surgical', 'assistance', '.', 'Boston', 'Dynamics', \"'\", 'robots', ',', 'for', 'instance', ',', 'showcase', 'advanced', 'movement', ',', 'balance', ',', 'and', 'decision-making', 'abilities', '.', '3', '.', 'Real-World', 'Applications', 'of', 'AI', 'AI', 'is', 'transforming', 'industries', ',', 'reshaping', 'how', 'we', 'work', ',', 'live', ',', 'and', 'interact', '.', 'Let', '’', 's', 'explore', 'some', 'key', 'sectors', ':', '3.1', 'Healthcare', 'Disease', 'Diagnosis', ':', 'AI', 'systems', 'analyze', 'medical', 'images', '(', 'e.g.', ',', 'X-rays', ',', 'CT', 'scans', ')', 'to', 'detect', 'conditions', 'like', 'cancer', 'with', 'higher', 'accuracy', 'and', 'speed', 'than', 'human', 'doctors.Drug', 'Discovery', ':', 'Machine', 'learning', 'accelerates', 'the', 'development', 'of', 'new', 'drugs', 'by', 'simulating', 'molecular', 'interactions.Personalized', 'Medicine', ':', 'AI', 'tailors', 'treatments', 'based', 'on', 'individual', 'genetic', 'profiles', 'and', 'medical', 'histories', '.', '3.2', 'Education', 'Adaptive', 'Learning', 'Platforms', ':', 'AI', 'personalizes', 'lessons', 'to', 'match', 'each', 'student', \"'s\", 'pace', 'and', 'learning', 'style', ',', 'improving', 'engagement', 'and', 'outcomes.Automated', 'Grading', ':', 'AI', 'reduces', 'the', 'burden', 'on', 'teachers', 'by', 'grading', 'essays', 'and', 'quizzes.Virtual', 'Tutors', ':', 'Intelligent', 'tutoring', 'systems', 'provide', 'instant', ',', 'personalized', 'feedback', 'to', 'students', '.', '3.3', 'Business', 'and', 'FinancePage', 'N04', 'Fraud', 'Detection', ':', 'AI', 'identifies', 'unusual', 'patterns', 'in', 'financial', 'transactions', ',', 'preventing', 'credit', 'card', 'fraud', 'and', 'money', 'laundering.Algorithmic', 'Trading', ':', 'Financial', 'institutions', 'use', 'AI', 'algorithms', 'to', 'make', 'rapid', ',', 'data-driven', 'investment', 'decisions.Customer', 'Service', ':', 'Chatbots', 'and', 'virtual', 'assistants', 'handle', 'customer', 'queries', 'efficiently', ',', 'enhancing', 'user', 'experience', '.', '3.4', 'Transportation', 'Autonomous', 'Vehicles', ':', 'Self-driving', 'cars', 'from', 'companies', 'like', 'Tesla', 'and', 'Waymo', 'rely', 'on', 'AI', 'to', 'navigate', 'roads', 'safely.Traffic', 'Management', ':', 'AI', 'optimizes', 'traffic', 'flow', 'in', 'cities', ',', 'reducing', 'congestion', 'and', 'emissions', '.', '3.5', 'Entertainment', 'Recommendation', 'Systems', ':', 'Netflix', ',', 'Spotify', ',', 'and', 'YouTube', 'use', 'AI', 'to', 'recommend', 'content', 'based', 'on', 'user', 'behavior.Content', 'Generation', ':', 'AI', 'creates', 'music', ',', 'art', ',', 'and', 'even', 'movie', 'scripts', ',', 'blurring', 'the', 'lines', 'between', 'human', 'and', 'machine', 'creativity', '.', '4', '.', 'Challenges', 'and', 'Limitations', 'of', 'AI', 'Despite', 'its', 'progress', ',', 'AI', 'faces', 'significant', 'challenges', ':', '4.1', 'Data', 'Dependency', 'AI', 'models', 'require', 'large', 'datasets', 'for', 'training', '.', 'Poor-quality', ',', 'biased', ',', 'or', 'insufficient', 'data', 'can', 'lead', 'to', 'inaccurate', 'results', '.', '4.2', 'Interpretability', 'and', 'Explainability', 'Many', 'AI', 'models', ',', 'especially', 'deep', 'neural', 'networks', ',', 'function', 'as', '``', 'black', 'boxes', \"''\", '—', 'their', 'decision-making', 'processes', 'are', 'not', 'easily', 'interpretable', 'by', 'humans', '.', 'This', 'raises', 'trust', 'and', 'accountability', 'issues', ',', 'particularly', 'in', 'critical', 'fields', 'like', 'healthcare', 'and', 'criminal', 'justice', '.', '4.3', 'Ethical', 'and', 'Social', 'Implications', 'Bias', 'and', 'Fairness', ':', 'AI', 'can', 'inherit', 'biases', 'present', 'in', 'the', 'training', 'data', ',', 'leading', 'to', 'unfair', 'decisions', 'in', 'hiring', ',', 'lending', ',', 'or', 'law', 'enforcement.Job', 'Displacement', ':', 'Automation', 'powered', 'by', 'AI', 'may', 'eliminate', 'certain', 'jobs', ',', 'particularly', 'in', 'manufacturing', 'and', 'customer', 'service', '.', 'However', ',', 'it', 'may', 'also', 'create', 'new', 'roles', 'that', 'require', 'human', 'creativity', 'and', 'oversight.Privacy', ':', 'AI', 'systems', 'often', 'require', 'extensive', 'personal', 'data', ',', 'posing', 'risks', 'to', 'user', 'privacy', 'and', 'data', 'security', '.', '5', '.', 'The', 'Future', 'of', 'AI', 'AI', '’', 's', 'future', 'holds', 'extraordinary', 'possibilities', ',', 'including', ':', '5.1', 'Artificial', 'General', 'Intelligence', '(', 'AGI', ')', 'Current', 'AI', 'systems', ',', 'known', 'as', 'narrow', 'AI', ',', 'excel', 'at', 'specific', 'tasks', '.', 'AGI', ',', 'however', ',', 'refers', 'to', 'machines', 'with', 'human-like', 'intelligence', ',', 'capable', 'of', 'performing', 'any', 'intellectual', 'task', 'a', 'human', 'can', 'do', '.', 'Although', 'AGI', 'remains', 'theoretical', ',', 'research', 'continues', '.', '5.2', 'AI', 'and', 'Quantum', 'Computing', 'Quantum', 'computing', 'has', 'the', 'potential', 'to', 'revolutionize', 'AI', 'by', 'solving', 'problems', 'that', 'are', 'infeasible', 'for', 'classical', 'computers', '.', 'This', 'could', 'accelerate', 'breakthroughs', 'in', 'drug', 'discovery', ',', 'climate', 'modeling', ',', 'and', 'cryptography', '.', '5.3', 'Human-AI', 'Collaboration', 'Future', 'AI', 'systems', 'are', 'expected', 'to', 'work', 'alongside', 'humans', 'rather', 'than', 'replace', 'them', '.', 'AI', 'could', 'handle', 'repetitive', 'tasks', 'while', 'humans', 'focus', 'on', 'creativity', ',', 'strategy', ',', 'and', 'empathy', '—', 'qualities', 'machines', 'lack', '.', '6', '.', 'Conclusion', 'Artificial', 'Intelligence', 'is', 'redefining', 'our', 'world', '.', 'From', 'healthcare', 'to', 'entertainment', ',', 'it', 'enhances', 'efficiency', ',', 'personalizes', 'experiences', ',', 'and', 'solves', 'complex', 'problems', '.', 'Yet', ',', 'its', 'challenges', '—', 'data', 'dependency', ',', 'bias', ',', 'and', 'ethical', 'concerns', '—', 'require', 'thoughtful', 'management', '.', 'With', 'responsible', 'development', ',', 'AI', 'holds', 'the', 'promise', 'of', 'a', 'smarter', ',', 'more', 'connected', ',', 'and', 'equitable', 'future', '.']\n"
          ]
        }
      ],
      "source": [
        "##############3\n",
        "import nltk\n",
        "\n",
        "# Download the 'punkt_tab' resource\n",
        "nltk.download('punkt_tab')\n",
        "\n",
        "# Now you can use word_tokenize\n",
        "from nltk.tokenize import word_tokenize\n",
        "word_token = word_tokenize(text)\n",
        "print(word_token)"
      ]
    },
    {
      "cell_type": "code",
      "execution_count": null,
      "metadata": {
        "id": "58sADdwHmQbQ",
        "colab": {
          "base_uri": "https://localhost:8080/"
        },
        "outputId": "797ca5d4-7170-4cf8-fbe5-afc05e05756f"
      },
      "outputs": [
        {
          "output_type": "stream",
          "name": "stdout",
          "text": [
            "['Artificial', 'Intelligence', ':', 'The', 'Engine', 'of', 'the', 'Future', '1', '.', 'Introduction', 'to', 'Artificial', 'Intelligence', '(', 'AI', ')', 'Artificial', 'Intelligence', '(', 'AI', ')', 'is', 'a', 'branch', 'of', 'computer', 'science', 'that', 'aims', 'to', 'create', 'machines', 'capable', 'of', 'performing', 'tasks', 'that', 'typically', 'require', 'human', 'intelligence', '.', 'These', 'tasks', 'include', 'learning', 'from', 'data', ',', 'recognizing', 'speech', 'and', 'images', ',', 'understanding', 'natural', 'language', ',', 'solving', 'problems', ',', 'and', 'making', 'decisions', '.', 'AI', 'systems', 'can', 'adapt', 'and', 'improve', 'over', 'time', ',', 'often', 'outperforming', 'humans', 'in', 'specific', 'tasks', 'by', 'processing', 'vast', 'amounts', 'of', 'information', 'quickly', 'and', 'accurately', '.', 'The', 'term', '``', 'Artificial', 'Intelligence', \"''\", 'was', 'coined', 'by', 'John', 'McCarthy', 'in', '1956', ',', 'marking', 'the', 'beginning', 'of', 'AI', 'as', 'an', 'academic', 'discipline', '.', 'Over', 'the', 'decades', ',', 'AI', 'has', 'evolved', 'from', 'simple', 'rule-based', 'programs', 'to', 'complex', 'neural', 'networks', 'and', 'autonomous', 'systems', ',', 'driven', 'by', 'breakthroughs', 'in', 'computing', 'power', ',', 'algorithms', ',', 'and', 'data', 'availability', '.', '2', '.', 'Key', 'Components', 'of', 'AI', 'Modern', 'AI', 'consists', 'of', 'several', 'interconnected', 'disciplines', ':', '2.1', 'Machine', 'Learning', '(', 'ML', ')', 'Machine', 'learning', 'is', 'a', 'subset', 'of', 'AI', 'that', 'enables', 'systems', 'to', 'learn', 'from', 'data', 'without', 'being', 'explicitly', 'programmed', '.', 'It', '’', 's', 'based', 'on', 'statistical', 'techniques', 'that', 'allow', 'machines', 'to', 'improve', 'performance', 'as', 'they', 'are', 'exposed', 'to', 'more', 'data', '.', 'Supervised', 'Learning', ':', 'The', 'model', 'learns', 'from', 'labeled', 'data', '.', 'For', 'example', ',', 'a', 'spam', 'filter', 'learns', 'to', 'differentiate', 'between', 'spam', 'and', 'legitimate', 'emails', 'by', 'analyzing', 'thousands', 'of', 'labeled', 'examples.Unsupervised', 'Learning', ':', 'The', 'model', 'finds', 'patterns', 'in', 'unlabeled', 'data', ',', 'like', 'grouping', 'similar', 'customer', 'behaviors', 'for', 'marketing', 'strategies.Reinforcement', 'Learning', ':', 'The', 'model', 'learns', 'by', 'interacting', 'with', 'its', 'environment', ',', 'receiving', 'rewards', 'for', 'desirable', 'actions', '—', 'a', 'technique', 'used', 'in', 'game', 'AI', 'and', 'robotics', '.', '2.2', 'Deep', 'Learning', 'Deep', 'learning', ',', 'a', 'powerful', 'form', 'of', 'machine', 'learning', ',', 'uses', 'neural', 'networks', 'with', 'multiple', 'layers', '(', '``', 'deep', \"''\", 'networks', ')', 'to', 'analyze', 'data', '.', 'Inspired', 'by', 'the', 'human', 'brain', ',', 'these', 'networks', 'process', 'raw', 'data', 'like', 'images', ',', 'sound', ',', 'or', 'text', 'to', 'automatically', 'extract', 'patterns', 'and', 'insights', '.', 'Deep', 'learning', 'has', 'fueled', 'breakthroughs', 'in', 'computer', 'vision', ',', 'speech', 'recognition', ',', 'and', 'natural', 'language', 'processing', '.', '2.3', 'Natural', 'Language', 'Processing', '(', 'NLP', ')', 'NLP', 'enables', 'machines', 'to', 'understand', ',', 'interpret', ',', 'and', 'generate', 'human', 'language', '.', 'This', 'technology', 'powers', 'virtual', 'assistants', 'like', 'Siri', 'and', 'Alexa', ',', 'language', 'translation', 'tools', ',', 'sentiment', 'analysis', ',', 'and', 'automated', 'content', 'generation', '.', 'Advances', 'in', 'transformer', 'models', 'like', 'BERT', 'and', 'GPT', 'have', 'dramatically', 'improved', 'AI', \"'s\", 'ability', 'to', 'handle', 'nuanced', 'language', '.', '2.4', 'Computer', 'Vision', 'Computer', 'vision', 'allows', 'AI', 'systems', 'to', 'interpret', 'and', 'analyze', 'visual', 'data', '—', 'images', 'and', 'videos', '.', 'This', 'technology', 'is', 'essential', 'in', 'applications', 'like', 'facial', 'recognition', ',', 'medical', 'imaging', ',', 'autonomous', 'vehicles', ',', 'and', 'even', 'agriculture', '(', 'e.g.', ',', 'identifying', 'crop', 'diseases', ')', '.', '2.5', 'Robotics', 'AI-powered', 'robots', 'combine', 'physical', 'capabilities', 'with', 'intelligent', 'behavior', '.', 'They', '’', 're', 'designed', 'for', 'tasks', 'ranging', 'from', 'manufacturing', 'and', 'logistics', 'to', 'space', 'exploration', 'and', 'surgical', 'assistance', '.', 'Boston', 'Dynamics', \"'\", 'robots', ',', 'for', 'instance', ',', 'showcase', 'advanced', 'movement', ',', 'balance', ',', 'and', 'decision-making', 'abilities', '.', '3', '.', 'Real-World', 'Applications', 'of', 'AI', 'AI', 'is', 'transforming', 'industries', ',', 'reshaping', 'how', 'we', 'work', ',', 'live', ',', 'and', 'interact', '.', 'Let', '’', 's', 'explore', 'some', 'key', 'sectors', ':', '3.1', 'Healthcare', 'Disease', 'Diagnosis', ':', 'AI', 'systems', 'analyze', 'medical', 'images', '(', 'e.g.', ',', 'X-rays', ',', 'CT', 'scans', ')', 'to', 'detect', 'conditions', 'like', 'cancer', 'with', 'higher', 'accuracy', 'and', 'speed', 'than', 'human', 'doctors.Drug', 'Discovery', ':', 'Machine', 'learning', 'accelerates', 'the', 'development', 'of', 'new', 'drugs', 'by', 'simulating', 'molecular', 'interactions.Personalized', 'Medicine', ':', 'AI', 'tailors', 'treatments', 'based', 'on', 'individual', 'genetic', 'profiles', 'and', 'medical', 'histories', '.', '3.2', 'Education', 'Adaptive', 'Learning', 'Platforms', ':', 'AI', 'personalizes', 'lessons', 'to', 'match', 'each', 'student', \"'s\", 'pace', 'and', 'learning', 'style', ',', 'improving', 'engagement', 'and', 'outcomes.Automated', 'Grading', ':', 'AI', 'reduces', 'the', 'burden', 'on', 'teachers', 'by', 'grading', 'essays', 'and', 'quizzes.Virtual', 'Tutors', ':', 'Intelligent', 'tutoring', 'systems', 'provide', 'instant', ',', 'personalized', 'feedback', 'to', 'students', '.', '3.3', 'Business', 'and', 'FinancePage', 'N04', 'Fraud', 'Detection', ':', 'AI', 'identifies', 'unusual', 'patterns', 'in', 'financial', 'transactions', ',', 'preventing', 'credit', 'card', 'fraud', 'and', 'money', 'laundering.Algorithmic', 'Trading', ':', 'Financial', 'institutions', 'use', 'AI', 'algorithms', 'to', 'make', 'rapid', ',', 'data-driven', 'investment', 'decisions.Customer', 'Service', ':', 'Chatbots', 'and', 'virtual', 'assistants', 'handle', 'customer', 'queries', 'efficiently', ',', 'enhancing', 'user', 'experience', '.', '3.4', 'Transportation', 'Autonomous', 'Vehicles', ':', 'Self-driving', 'cars', 'from', 'companies', 'like', 'Tesla', 'and', 'Waymo', 'rely', 'on', 'AI', 'to', 'navigate', 'roads', 'safely.Traffic', 'Management', ':', 'AI', 'optimizes', 'traffic', 'flow', 'in', 'cities', ',', 'reducing', 'congestion', 'and', 'emissions', '.', '3.5', 'Entertainment', 'Recommendation', 'Systems', ':', 'Netflix', ',', 'Spotify', ',', 'and', 'YouTube', 'use', 'AI', 'to', 'recommend', 'content', 'based', 'on', 'user', 'behavior.Content', 'Generation', ':', 'AI', 'creates', 'music', ',', 'art', ',', 'and', 'even', 'movie', 'scripts', ',', 'blurring', 'the', 'lines', 'between', 'human', 'and', 'machine', 'creativity', '.', '4', '.', 'Challenges', 'and', 'Limitations', 'of', 'AI', 'Despite', 'its', 'progress', ',', 'AI', 'faces', 'significant', 'challenges', ':', '4.1', 'Data', 'Dependency', 'AI', 'models', 'require', 'large', 'datasets', 'for', 'training', '.', 'Poor-quality', ',', 'biased', ',', 'or', 'insufficient', 'data', 'can', 'lead', 'to', 'inaccurate', 'results', '.', '4.2', 'Interpretability', 'and', 'Explainability', 'Many', 'AI', 'models', ',', 'especially', 'deep', 'neural', 'networks', ',', 'function', 'as', '``', 'black', 'boxes', \"''\", '—', 'their', 'decision-making', 'processes', 'are', 'not', 'easily', 'interpretable', 'by', 'humans', '.', 'This', 'raises', 'trust', 'and', 'accountability', 'issues', ',', 'particularly', 'in', 'critical', 'fields', 'like', 'healthcare', 'and', 'criminal', 'justice', '.', '4.3', 'Ethical', 'and', 'Social', 'Implications', 'Bias', 'and', 'Fairness', ':', 'AI', 'can', 'inherit', 'biases', 'present', 'in', 'the', 'training', 'data', ',', 'leading', 'to', 'unfair', 'decisions', 'in', 'hiring', ',', 'lending', ',', 'or', 'law', 'enforcement.Job', 'Displacement', ':', 'Automation', 'powered', 'by', 'AI', 'may', 'eliminate', 'certain', 'jobs', ',', 'particularly', 'in', 'manufacturing', 'and', 'customer', 'service', '.', 'However', ',', 'it', 'may', 'also', 'create', 'new', 'roles', 'that', 'require', 'human', 'creativity', 'and', 'oversight.Privacy', ':', 'AI', 'systems', 'often', 'require', 'extensive', 'personal', 'data', ',', 'posing', 'risks', 'to', 'user', 'privacy', 'and', 'data', 'security', '.', '5', '.', 'The', 'Future', 'of', 'AI', 'AI', '’', 's', 'future', 'holds', 'extraordinary', 'possibilities', ',', 'including', ':', '5.1', 'Artificial', 'General', 'Intelligence', '(', 'AGI', ')', 'Current', 'AI', 'systems', ',', 'known', 'as', 'narrow', 'AI', ',', 'excel', 'at', 'specific', 'tasks', '.', 'AGI', ',', 'however', ',', 'refers', 'to', 'machines', 'with', 'human-like', 'intelligence', ',', 'capable', 'of', 'performing', 'any', 'intellectual', 'task', 'a', 'human', 'can', 'do', '.', 'Although', 'AGI', 'remains', 'theoretical', ',', 'research', 'continues', '.', '5.2', 'AI', 'and', 'Quantum', 'Computing', 'Quantum', 'computing', 'has', 'the', 'potential', 'to', 'revolutionize', 'AI', 'by', 'solving', 'problems', 'that', 'are', 'infeasible', 'for', 'classical', 'computers', '.', 'This', 'could', 'accelerate', 'breakthroughs', 'in', 'drug', 'discovery', ',', 'climate', 'modeling', ',', 'and', 'cryptography', '.', '5.3', 'Human-AI', 'Collaboration', 'Future', 'AI', 'systems', 'are', 'expected', 'to', 'work', 'alongside', 'humans', 'rather', 'than', 'replace', 'them', '.', 'AI', 'could', 'handle', 'repetitive', 'tasks', 'while', 'humans', 'focus', 'on', 'creativity', ',', 'strategy', ',', 'and', 'empathy', '—', 'qualities', 'machines', 'lack', '.', '6', '.', 'Conclusion', 'Artificial', 'Intelligence', 'is', 'redefining', 'our', 'world', '.', 'From', 'healthcare', 'to', 'entertainment', ',', 'it', 'enhances', 'efficiency', ',', 'personalizes', 'experiences', ',', 'and', 'solves', 'complex', 'problems', '.', 'Yet', ',', 'its', 'challenges', '—', 'data', 'dependency', ',', 'bias', ',', 'and', 'ethical', 'concerns', '—', 'require', 'thoughtful', 'management', '.', 'With', 'responsible', 'development', ',', 'AI', 'holds', 'the', 'promise', 'of', 'a', 'smarter', ',', 'more', 'connected', ',', 'and', 'equitable', 'future', '.']\n"
          ]
        }
      ],
      "source": [
        "word_token = word_tokenize(text)\n",
        "print(word_token)"
      ]
    },
    {
      "cell_type": "code",
      "execution_count": null,
      "metadata": {
        "id": "v_IWKblLmQXV"
      },
      "outputs": [],
      "source": [
        "stop_words = nltk.corpus.stopwords.words('english')"
      ]
    },
    {
      "cell_type": "code",
      "execution_count": null,
      "metadata": {
        "id": "L0lrpi8smQUx",
        "colab": {
          "base_uri": "https://localhost:8080/"
        },
        "outputId": "5fc7fe3f-e6a8-4632-d3e3-d09103dae93c"
      },
      "outputs": [
        {
          "output_type": "stream",
          "name": "stdout",
          "text": [
            "['a', 'about', 'above', 'after', 'again', 'against', 'ain', 'all', 'am', 'an', 'and', 'any', 'are', 'aren', \"aren't\", 'as', 'at', 'be', 'because', 'been', 'before', 'being', 'below', 'between', 'both', 'but', 'by', 'can', 'couldn', \"couldn't\", 'd', 'did', 'didn', \"didn't\", 'do', 'does', 'doesn', \"doesn't\", 'doing', 'don', \"don't\", 'down', 'during', 'each', 'few', 'for', 'from', 'further', 'had', 'hadn', \"hadn't\", 'has', 'hasn', \"hasn't\", 'have', 'haven', \"haven't\", 'having', 'he', \"he'd\", \"he'll\", 'her', 'here', 'hers', 'herself', \"he's\", 'him', 'himself', 'his', 'how', 'i', \"i'd\", 'if', \"i'll\", \"i'm\", 'in', 'into', 'is', 'isn', \"isn't\", 'it', \"it'd\", \"it'll\", \"it's\", 'its', 'itself', \"i've\", 'just', 'll', 'm', 'ma', 'me', 'mightn', \"mightn't\", 'more', 'most', 'mustn', \"mustn't\", 'my', 'myself', 'needn', \"needn't\", 'no', 'nor', 'not', 'now', 'o', 'of', 'off', 'on', 'once', 'only', 'or', 'other', 'our', 'ours', 'ourselves', 'out', 'over', 'own', 're', 's', 'same', 'shan', \"shan't\", 'she', \"she'd\", \"she'll\", \"she's\", 'should', 'shouldn', \"shouldn't\", \"should've\", 'so', 'some', 'such', 't', 'than', 'that', \"that'll\", 'the', 'their', 'theirs', 'them', 'themselves', 'then', 'there', 'these', 'they', \"they'd\", \"they'll\", \"they're\", \"they've\", 'this', 'those', 'through', 'to', 'too', 'under', 'until', 'up', 've', 'very', 'was', 'wasn', \"wasn't\", 'we', \"we'd\", \"we'll\", \"we're\", 'were', 'weren', \"weren't\", \"we've\", 'what', 'when', 'where', 'which', 'while', 'who', 'whom', 'why', 'will', 'with', 'won', \"won't\", 'wouldn', \"wouldn't\", 'y', 'you', \"you'd\", \"you'll\", 'your', \"you're\", 'yours', 'yourself', 'yourselves', \"you've\"]\n"
          ]
        }
      ],
      "source": [
        "stop = list(stop_words)\n",
        "print(stop)"
      ]
    },
    {
      "cell_type": "code",
      "execution_count": null,
      "metadata": {
        "id": "OACKmFKdw0_k"
      },
      "outputs": [],
      "source": []
    },
    {
      "cell_type": "code",
      "execution_count": null,
      "metadata": {
        "id": "NKB8OTMamQS5",
        "colab": {
          "base_uri": "https://localhost:8080/"
        },
        "outputId": "503cf8b5-86e0-44fa-adec-e7be097d4fc1"
      },
      "outputs": [
        {
          "output_type": "stream",
          "name": "stdout",
          "text": [
            "['onto', 'hers', 'this', 'was', \"'d\", 'those', 'twelve', 'yours', 'really', 'latterly', 'nobody', 'made', 'various', 'ten', 'seem', 'alone', 'every', 'still', 'via', 'cannot', 'at', 'somewhere', 'something', 'thereafter', 'then', 'anywhere', 'several', 'whole', 'very', 'nor', 'wherever', 'your', 'how', 'whereby', 'twenty', 'you', 'name', 'before', 'nevertheless', 'above', 'out', 'until', \"'re\", 'get', 'its', 'less', 'under', 'not', 'it', 'yet', 'just', 'as', 'fifteen', 'namely', 'might', 'do', 'five', 'he', 'move', 'what', 'in', 'may', 'within', 'his', 'go', 'hereafter', 'more', 'become', 'are', 'and', 'whither', 'afterwards', 'elsewhere', 'two', 'seeming', 'would', '‘re', 'only', 'amount', 'their', 'n‘t', 'around', 'itself', 'another', 'other', '’d', 'among', 'now', 'each', 'hundred', 'am', 'being', 'himself', 'during', 'whom', '’m', 'across', 'seemed', 'neither', 'sometime', 'me', 'else', 'must', 'ever', 'all', 'regarding', 'ca', 'next', 'behind', 'well', '’ll', 'off', 'toward', 'should', 'empty', 'these', 'mostly', 'much', 'beside', 'thence', 'keep', 'does', 'thru', 'further', 'beforehand', 'take', 'when', 'such', 'however', 'but', 'became', 'somehow', '‘d', 'fifty', 'see', 'serious', 'who', 'over', 'anyhow', 'after', 'eleven', 'hereby', 'together', 'yourselves', 'seems', 'that', 'her', 'formerly', 'on', 'ourselves', 'here', 'against', 'them', 'everything', 'anyway', 'again', 'hence', 'least', 'many', 're', 'whether', 'too', 'put', 'three', 'thus', 'noone', \"'m\", 'although', 'side', 'about', 'thereupon', 'between', 'whose', \"'ll\", 'whereafter', 'due', 'since', 'whoever', 'they', 'whatever', 'first', 'done', 'anything', 'could', 'into', 'along', 'few', 'four', 'often', '’ve', 'a', 'for', 'been', 'will', 'can', 'because', 'most', 'full', 'one', 'sometimes', 'from', '‘s', 'did', 'an', 'mine', 'than', 'or', 'either', 'through', 'which', 'front', 'ours', 'therefore', 'have', 'be', 'yourself', 'say', '’re', \"'ve\", 'upon', 'wherein', 'thereby', 'whenever', 'there', 'herself', 'eight', 'my', 'becomes', 'others', 'back', 'without', 'used', 'using', 'besides', 'down', 'never', 'third', 'becoming', 'to', 'except', 'top', '’s', 'last', 'nine', 'show', 'nowhere', 'quite', 'meanwhile', '‘m', 'both', 'she', 'otherwise', 'where', 'everywhere', 'part', 'six', 'with', 'moreover', 'throughout', 'below', 'had', 'give', '‘ve', 'while', 'though', 'themselves', 'herein', 'rather', 'latter', 'almost', 'already', 'everyone', 'the', 'whereupon', \"'s\", 'any', 'same', 'amongst', 'please', 'our', 'once', 'so', 'bottom', 'has', 'former', 'own', 'anyone', 'of', 'sixty', 'by', 'n’t', 'some', 'towards', 'whereas', 'myself', 'no', 'doing', 'why', 'always', 'perhaps', 'i', 'hereupon', 'is', 'make', 'unless', 'indeed', 'up', 'we', 'call', 'also', 'beyond', 'therein', 'someone', 'even', 'if', 'whence', '‘ll', 'per', 'were', 'none', \"n't\", 'him', 'enough', 'forty', 'nothing', 'us']\n"
          ]
        }
      ],
      "source": [
        "st = list(STOP_WORDS)\n",
        "print(st)"
      ]
    },
    {
      "cell_type": "code",
      "execution_count": null,
      "metadata": {
        "id": "zK4wO9kSmQQw",
        "colab": {
          "base_uri": "https://localhost:8080/"
        },
        "outputId": "cece4ba9-a813-4e60-e30f-c2e359aab261"
      },
      "outputs": [
        {
          "output_type": "stream",
          "name": "stdout",
          "text": [
            "['a', 'about', 'above', 'after', 'again', 'against', 'ain', 'all', 'am', 'an', 'and', 'any', 'are', 'aren', \"aren't\", 'as', 'at', 'be', 'because', 'been', 'before', 'being', 'below', 'between', 'both', 'but', 'by', 'can', 'couldn', \"couldn't\", 'd', 'did', 'didn', \"didn't\", 'do', 'does', 'doesn', \"doesn't\", 'doing', 'don', \"don't\", 'down', 'during', 'each', 'few', 'for', 'from', 'further', 'had', 'hadn', \"hadn't\", 'has', 'hasn', \"hasn't\", 'have', 'haven', \"haven't\", 'having', 'he', \"he'd\", \"he'll\", 'her', 'here', 'hers', 'herself', \"he's\", 'him', 'himself', 'his', 'how', 'i', \"i'd\", 'if', \"i'll\", \"i'm\", 'in', 'into', 'is', 'isn', \"isn't\", 'it', \"it'd\", \"it'll\", \"it's\", 'its', 'itself', \"i've\", 'just', 'll', 'm', 'ma', 'me', 'mightn', \"mightn't\", 'more', 'most', 'mustn', \"mustn't\", 'my', 'myself', 'needn', \"needn't\", 'no', 'nor', 'not', 'now', 'o', 'of', 'off', 'on', 'once', 'only', 'or', 'other', 'our', 'ours', 'ourselves', 'out', 'over', 'own', 're', 's', 'same', 'shan', \"shan't\", 'she', \"she'd\", \"she'll\", \"she's\", 'should', 'shouldn', \"shouldn't\", \"should've\", 'so', 'some', 'such', 't', 'than', 'that', \"that'll\", 'the', 'their', 'theirs', 'them', 'themselves', 'then', 'there', 'these', 'they', \"they'd\", \"they'll\", \"they're\", \"they've\", 'this', 'those', 'through', 'to', 'too', 'under', 'until', 'up', 've', 'very', 'was', 'wasn', \"wasn't\", 'we', \"we'd\", \"we'll\", \"we're\", 'were', 'weren', \"weren't\", \"we've\", 'what', 'when', 'where', 'which', 'while', 'who', 'whom', 'why', 'will', 'with', 'won', \"won't\", 'wouldn', \"wouldn't\", 'y', 'you', \"you'd\", \"you'll\", 'your', \"you're\", 'yours', 'yourself', 'yourselves', \"you've\", 'onto', \"'d\", 'twelve', 'really', 'latterly', 'nobody', 'made', 'various', 'ten', 'seem', 'alone', 'every', 'still', 'via', 'cannot', 'somewhere', 'something', 'thereafter', 'anywhere', 'several', 'whole', 'wherever', 'whereby', 'twenty', 'name', 'nevertheless', \"'re\", 'get', 'less', 'yet', 'fifteen', 'namely', 'might', 'five', 'move', 'may', 'within', 'go', 'hereafter', 'become', 'whither', 'afterwards', 'elsewhere', 'two', 'seeming', 'would', '‘re', 'amount', 'n‘t', 'around', 'another', '’d', 'among', 'hundred', '’m', 'across', 'seemed', 'neither', 'sometime', 'else', 'must', 'ever', 'regarding', 'ca', 'next', 'behind', 'well', '’ll', 'toward', 'empty', 'mostly', 'much', 'beside', 'thence', 'keep', 'thru', 'beforehand', 'take', 'however', 'became', 'somehow', '‘d', 'fifty', 'see', 'serious', 'anyhow', 'eleven', 'hereby', 'together', 'seems', 'formerly', 'everything', 'anyway', 'hence', 'least', 'many', 'whether', 'put', 'three', 'thus', 'noone', \"'m\", 'although', 'side', 'thereupon', 'whose', \"'ll\", 'whereafter', 'due', 'since', 'whoever', 'whatever', 'first', 'done', 'anything', 'could', 'along', 'four', 'often', '’ve', 'full', 'one', 'sometimes', '‘s', 'mine', 'either', 'front', 'therefore', 'say', '’re', \"'ve\", 'upon', 'wherein', 'thereby', 'whenever', 'eight', 'becomes', 'others', 'back', 'without', 'used', 'using', 'besides', 'never', 'third', 'becoming', 'except', 'top', '’s', 'last', 'nine', 'show', 'nowhere', 'quite', 'meanwhile', '‘m', 'otherwise', 'everywhere', 'part', 'six', 'moreover', 'throughout', 'give', '‘ve', 'though', 'herein', 'rather', 'latter', 'almost', 'already', 'everyone', 'whereupon', \"'s\", 'amongst', 'please', 'bottom', 'former', 'anyone', 'sixty', 'n’t', 'towards', 'whereas', 'always', 'perhaps', 'hereupon', 'make', 'unless', 'indeed', 'call', 'also', 'beyond', 'therein', 'someone', 'even', 'whence', '‘ll', 'per', 'none', \"n't\", 'enough', 'forty', 'nothing', 'us']\n"
          ]
        }
      ],
      "source": [
        "for element in st:\n",
        "    if element not in stop:\n",
        "        stop.append(element)\n",
        "\n",
        "print(stop)\n"
      ]
    },
    {
      "cell_type": "code",
      "execution_count": null,
      "metadata": {
        "id": "6B6wCkekmtkW"
      },
      "outputs": [],
      "source": [
        "punctuation_chars = set(punctuation)\n",
        "punctuation_chars.remove('-')\n",
        "# punctuation_chars.add('\\n')\n",
        "punctuation=list(punctuation_chars)"
      ]
    },
    {
      "cell_type": "code",
      "execution_count": null,
      "metadata": {
        "id": "qRQhfHPMmQOB"
      },
      "outputs": [],
      "source": [
        "nlp = spacy.load(\"en_core_web_lg\")"
      ]
    },
    {
      "cell_type": "code",
      "execution_count": null,
      "metadata": {
        "id": "apdE8vczmtgj",
        "colab": {
          "base_uri": "https://localhost:8080/"
        },
        "outputId": "48ad030f-951a-4ee6-a556-2c1da6f749d6"
      },
      "outputs": [
        {
          "output_type": "stream",
          "name": "stdout",
          "text": [
            "  Artificial Intelligence: The Engine of the Future 1. Introduction to Artificial Intelligence (AI) Artificial Intelligence (AI) is a branch of computer science that aims to create machines capable of performing tasks that typically require human intelligence. These tasks include learning from data, recognizing speech and images, understanding natural language, solving problems, and making decisions. AI systems can adapt and improve over time, often outperforming humans in specific tasks by processing vast amounts of information quickly and accurately. The term \"Artificial Intelligence\" was coined by John McCarthy in 1956, marking the beginning of AI as an academic discipline. Over the decades, AI has evolved from simple rule-based programs to complex neural networks and autonomous systems, driven by breakthroughs in computing power, algorithms, and data availability.  2. Key Components of AI Modern AI consists of several interconnected disciplines: 2.1 Machine Learning (ML) Machine learning is a subset of AI that enables systems to learn from data without being explicitly programmed. It’s based on statistical techniques that allow machines to improve performance as they are exposed to more data. Supervised Learning: The model learns from labeled data. For example, a spam filter learns to differentiate between spam and legitimate emails by analyzing thousands of labeled examples.Unsupervised Learning: The model finds patterns in unlabeled data, like grouping similar customer behaviors for marketing strategies.Reinforcement Learning: The model learns by interacting with its environment, receiving rewards for desirable actions — a technique used in game AI and robotics. 2.2 Deep Learning Deep learning, a powerful form of machine learning, uses neural networks with multiple layers (\"deep\" networks) to analyze data. Inspired by the human brain, these networks process raw data like images, sound, or text to automatically extract patterns and insights. Deep learning has fueled breakthroughs in computer vision, speech recognition, and natural language processing. 2.3 Natural Language Processing (NLP) NLP enables machines to understand, interpret, and generate human language. This technology powers virtual assistants like Siri and Alexa, language translation tools, sentiment analysis, and automated content generation. Advances in transformer models like BERT and GPT have dramatically improved AI's ability to handle nuanced language. 2.4 Computer Vision Computer vision allows AI systems to interpret and analyze visual data — images and videos. This technology is essential in applications like facial recognition, medical imaging, autonomous vehicles, and even agriculture (e.g., identifying crop diseases). 2.5 Robotics AI-powered robots combine physical capabilities with intelligent behavior. They’re designed for tasks ranging from manufacturing and logistics to space exploration and surgical assistance. Boston Dynamics' robots, for instance, showcase advanced movement, balance, and decision-making abilities. 3. Real-World Applications of AI AI is transforming industries, reshaping how we work, live, and interact. Let’s explore some key sectors: 3.1 Healthcare Disease Diagnosis: AI systems analyze medical images (e.g., X-rays, CT scans) to detect conditions like cancer with higher accuracy and speed than human doctors.Drug Discovery: Machine learning accelerates the development of new drugs by simulating molecular interactions.Personalized Medicine: AI tailors treatments based on individual genetic profiles and medical histories. 3.2 Education Adaptive Learning Platforms: AI personalizes lessons to match each student's pace and learning style, improving engagement and outcomes.Automated Grading: AI reduces the burden on teachers by grading essays and quizzes.Virtual Tutors: Intelligent tutoring systems provide instant, personalized feedback to students. 3.3 Business and FinancePage N04 Fraud Detection: AI identifies unusual patterns in financial transactions, preventing credit card fraud and money laundering.Algorithmic Trading: Financial institutions use AI algorithms to make rapid, data-driven investment decisions.Customer Service: Chatbots and virtual assistants handle customer queries efficiently, enhancing user experience. 3.4 Transportation Autonomous Vehicles: Self-driving cars from companies like Tesla and Waymo rely on AI to navigate roads safely.Traffic Management: AI optimizes traffic flow in cities, reducing congestion and emissions. 3.5 Entertainment Recommendation Systems: Netflix, Spotify, and YouTube use AI to recommend content based on user behavior.Content Generation: AI creates music, art, and even movie scripts, blurring the lines between human and machine creativity. 4. Challenges and Limitations of AI Despite its progress, AI faces significant challenges: 4.1 Data Dependency AI models require large datasets for training. Poor-quality, biased, or insufficient data can lead to inaccurate results. 4.2 Interpretability and Explainability Many AI models, especially deep neural networks, function as \"black boxes\" — their decision-making processes are not easily interpretable by humans. This raises trust and accountability issues, particularly in critical fields like healthcare and criminal justice. 4.3 Ethical and Social Implications Bias and Fairness: AI can inherit biases present in the training data, leading to unfair decisions in hiring, lending, or law enforcement.Job Displacement: Automation powered by AI may eliminate certain jobs, particularly in manufacturing and customer service. However, it may also create new roles that require human creativity and oversight.Privacy: AI systems often require extensive personal data, posing risks to user privacy and data security. 5. The Future of AI AI’s future holds extraordinary possibilities, including: 5.1 Artificial General Intelligence (AGI) Current AI systems, known as narrow AI, excel at specific tasks. AGI, however, refers to machines with human-like intelligence, capable of performing any intellectual task a human can do. Although AGI remains theoretical, research continues. 5.2 AI and Quantum Computing Quantum computing has the potential to revolutionize AI by solving problems that are infeasible for classical computers. This could accelerate breakthroughs in drug discovery, climate modeling, and cryptography. 5.3 Human-AI Collaboration Future AI systems are expected to work alongside humans rather than replace them. AI could handle repetitive tasks while humans focus on creativity, strategy, and empathy — qualities machines lack. 6. Conclusion Artificial Intelligence is redefining our world. From healthcare to entertainment, it enhances efficiency, personalizes experiences, and solves complex problems. Yet, its challenges — data dependency, bias, and ethical concerns — require thoughtful management. With responsible development, AI holds the promise of a smarter, more connected, and equitable future.\n"
          ]
        }
      ],
      "source": [
        "doc=nlp(text)\n",
        "print(doc)"
      ]
    },
    {
      "cell_type": "code",
      "execution_count": null,
      "metadata": {
        "id": "oxi6fe8zmteW",
        "colab": {
          "base_uri": "https://localhost:8080/"
        },
        "outputId": "059529c6-92ee-4710-a223-7e4d702e6aa1"
      },
      "outputs": [
        {
          "output_type": "stream",
          "name": "stdout",
          "text": [
            "[  Artificial Intelligence: The Engine of the Future 1., Introduction to Artificial Intelligence (AI) Artificial Intelligence (AI) is a branch of computer science that aims to create machines capable of performing tasks that typically require human intelligence., These tasks include learning from data, recognizing speech and images, understanding natural language, solving problems, and making decisions., AI systems can adapt and improve over time, often outperforming humans in specific tasks by processing vast amounts of information quickly and accurately., The term \"Artificial Intelligence\" was coined by John McCarthy in 1956, marking the beginning of AI as an academic discipline., Over the decades, AI has evolved from simple rule-based programs to complex neural networks and autonomous systems, driven by breakthroughs in computing power, algorithms, and data availability.  , 2., Key Components of AI Modern AI consists of several interconnected disciplines: 2.1 Machine Learning (ML) Machine learning is a subset of AI that enables systems to learn from data without being explicitly programmed., It’s based on statistical techniques that allow machines to improve performance as they are exposed to more data., Supervised Learning: The model learns from labeled data., For example, a spam filter learns to differentiate between spam and legitimate emails by analyzing thousands of labeled examples., Unsupervised Learning: The model finds patterns in unlabeled data, like grouping similar customer behaviors for marketing strategies., Reinforcement Learning: The model learns by interacting with its environment, receiving rewards for desirable actions — a technique used in game AI and robotics., 2.2 Deep Learning Deep learning, a powerful form of machine learning, uses neural networks with multiple layers (\"deep\" networks) to analyze data., Inspired by the human brain, these networks process raw data like images, sound, or text to automatically extract patterns and insights., Deep learning has fueled breakthroughs in computer vision, speech recognition, and natural language processing., 2.3 Natural Language Processing (NLP) NLP enables machines to understand, interpret, and generate human language., This technology powers virtual assistants like Siri and Alexa, language translation tools, sentiment analysis, and automated content generation., Advances in transformer models like BERT and GPT have dramatically improved AI's ability to handle nuanced language., 2.4 Computer Vision Computer vision allows AI systems to interpret and analyze visual data — images and videos., This technology is essential in applications like facial recognition, medical imaging, autonomous vehicles, and even agriculture (e.g., identifying crop diseases)., 2.5 Robotics AI-powered robots combine physical capabilities with intelligent behavior., They’re designed for tasks ranging from manufacturing and logistics to space exploration and surgical assistance., Boston Dynamics' robots, for instance, showcase advanced movement, balance, and decision-making abilities., 3. Real-World Applications of AI AI is transforming industries, reshaping how we work, live, and interact., Let’s explore some key sectors: 3.1 Healthcare Disease Diagnosis: AI systems analyze medical images (e.g., X-rays, CT scans) to detect conditions like cancer with higher accuracy and speed than human doctors., Drug Discovery: Machine learning accelerates the development of new drugs by simulating molecular interactions., Personalized Medicine: AI tailors treatments based on individual genetic profiles and medical histories., 3.2 Education Adaptive Learning Platforms: AI personalizes lessons to match each student's pace and learning style, improving engagement and outcomes., Automated Grading: AI reduces the burden on teachers by grading essays and quizzes., Virtual Tutors: Intelligent tutoring systems provide instant, personalized feedback to students., 3.3 Business and FinancePage N04 Fraud Detection: AI identifies unusual patterns in financial transactions, preventing credit card fraud and money laundering., Algorithmic Trading: Financial institutions use AI algorithms to make rapid, data-driven investment decisions., Customer Service: Chatbots and virtual assistants handle customer queries efficiently, enhancing user experience., 3.4 Transportation Autonomous Vehicles: Self-driving cars from companies like Tesla and Waymo rely on AI to navigate roads safely., Traffic Management: AI optimizes traffic flow in cities, reducing congestion and emissions., 3.5 Entertainment Recommendation Systems: Netflix, Spotify, and YouTube use AI to recommend content based on user behavior., Content Generation: AI creates music, art, and even movie scripts, blurring the lines between human and machine creativity., 4., Challenges and Limitations of AI, Despite its progress, AI faces significant challenges: 4.1 Data Dependency AI models require large datasets for training., Poor-quality, biased, or insufficient data can lead to inaccurate results., 4.2 Interpretability and Explainability Many AI models, especially deep neural networks, function as \"black boxes\" — their decision-making processes are not easily interpretable by humans., This raises trust and accountability issues, particularly in critical fields like healthcare and criminal justice., 4.3 Ethical and Social Implications Bias and Fairness: AI can inherit biases present in the training data, leading to unfair decisions in hiring, lending, or law enforcement., Job Displacement: Automation powered by AI may eliminate certain jobs, particularly in manufacturing and customer service., However, it may also create new roles that require human creativity and oversight., Privacy: AI systems often require extensive personal data, posing risks to user privacy and data security., 5., The Future of AI AI’s future holds extraordinary possibilities, including: 5.1 Artificial General Intelligence (AGI) Current AI systems, known as narrow AI, excel at specific tasks., AGI, however, refers to machines with human-like intelligence, capable of performing any intellectual task a human can do., Although AGI remains theoretical, research continues., 5.2 AI and Quantum Computing Quantum computing has the potential to revolutionize AI by solving problems that are infeasible for classical computers., This could accelerate breakthroughs in drug discovery, climate modeling, and cryptography., 5.3 Human-AI Collaboration Future AI systems are expected to work alongside humans rather than replace them., AI could handle repetitive tasks while humans focus on creativity, strategy, and empathy — qualities machines lack., 6., Conclusion Artificial Intelligence is redefining our world., From healthcare to entertainment, it enhances efficiency, personalizes experiences, and solves complex problems., Yet, its challenges — data dependency, bias, and ethical concerns — require thoughtful management., With responsible development, AI holds the promise of a smarter, more connected, and equitable future.]\n"
          ]
        }
      ],
      "source": [
        "sentence_tokens = [sent for sent in doc.sents]\n",
        "print(sentence_tokens)"
      ]
    },
    {
      "cell_type": "code",
      "execution_count": null,
      "metadata": {
        "id": "Dl109wammtcO",
        "colab": {
          "base_uri": "https://localhost:8080/"
        },
        "outputId": "b170e66a-4211-4b65-e5ae-f99d4076ec3b"
      },
      "outputs": [
        {
          "output_type": "stream",
          "name": "stdout",
          "text": [
            "  artificial intelligence: the engine of the future 1. Introduction to artificial intelligence (ai) artificial intelligence (ai) is a branch of computer science that aims to create machines capable of performing tasks that typically require human intelligence. These tasks include learning from data, recognizing speech and images, understanding natural language, solving problems, and making decisions. Ai systems can adapt and improve over time, often outperforming humans in specific tasks by processing vast amounts of information quickly and accurately. The term \"artificial intelligence\" was coined by john mccarthy in 1956, marking the beginning of ai as an academic discipline. Over the decades, ai has evolved from simple rule-based programs to complex neural networks and autonomous systems, driven by breakthroughs in computing power, algorithms, and data availability.   2. Key components of ai modern ai consists of several interconnected disciplines: 2. 1 machine learning (ml) machine learning is a subset of ai that enables systems to learn from data without being explicitly programmed. It’s based on statistical techniques that allow machines to improve performance as they are exposed to more data. Supervised learning: the model learns from labeled data. For example, a spam filter learns to differentiate between spam and legitimate emails by analyzing thousands of labeled examples. Unsupervised learning: the model finds patterns in unlabeled data, like grouping similar customer behaviors for marketing strategies. Reinforcement learning: the model learns by interacting with its environment, receiving rewards for desirable actions — a technique used in game ai and robotics. 2. 2 deep learning deep learning, a powerful form of machine learning, uses neural networks with multiple layers (\"deep\" networks) to analyze data. Inspired by the human brain, these networks process raw data like images, sound, or text to automatically extract patterns and insights. Deep learning has fueled breakthroughs in computer vision, speech recognition, and natural language processing. 2. 3 natural language processing (nlp) nlp enables machines to understand, interpret, and generate human language. This technology powers virtual assistants like siri and alexa, language translation tools, sentiment analysis, and automated content generation. Advances in transformer models like bert and gpt have dramatically improved ai's ability to handle nuanced language. 2. 4 computer vision computer vision allows ai systems to interpret and analyze visual data — images and videos. This technology is essential in applications like facial recognition, medical imaging, autonomous vehicles, and even agriculture (e. G. , identifying crop diseases). 2. 5 robotics ai-powered robots combine physical capabilities with intelligent behavior. They’re designed for tasks ranging from manufacturing and logistics to space exploration and surgical assistance. Boston dynamics' robots, for instance, showcase advanced movement, balance, and decision-making abilities. 3.  real-world applications of ai ai is transforming industries, reshaping how we work, live, and interact. Let’s explore some key sectors: 3. 1 healthcare disease diagnosis: ai systems analyze medical images (e. G. , x-rays, ct scans) to detect conditions like cancer with higher accuracy and speed than human doctors. Drug discovery: machine learning accelerates the development of new drugs by simulating molecular interactions. Personalized medicine: ai tailors treatments based on individual genetic profiles and medical histories. 3. 2 education adaptive learning platforms: ai personalizes lessons to match each student's pace and learning style, improving engagement and outcomes. Automated grading: ai reduces the burden on teachers by grading essays and quizzes. Virtual tutors: intelligent tutoring systems provide instant, personalized feedback to students. \n",
            "\n",
            "\n",
            "Algorithmic trading: financial institutions use ai algorithms to make rapid, data-driven investment decisions. Customer service: chatbots and virtual assistants handle customer queries efficiently, enhancing user experience. 3. 4 transportation autonomous vehicles: self-driving cars from companies like tesla and waymo rely on ai to navigate roads safely. Traffic management: ai optimizes traffic flow in cities, reducing congestion and emissions. 3. 5 entertainment recommendation systems: netflix, spotify, and youtube use ai to recommend content based on user behavior. Content generation: ai creates music, art, and even movie scripts, blurring the lines between human and machine creativity. 4. Challenges and limitations of aidespite its progress, ai faces significant challenges: 4. 1 data dependency ai models require large datasets for training. Poor-quality, biased, or insufficient data can lead to inaccurate results. 4. 2 interpretability and explainability many ai models, especially deep neural networks, function as \"black boxes\" — their decision-making processes are not easily interpretable by humans. This raises trust and accountability issues, particularly in critical fields like healthcare and criminal justice. 4. 3 ethical and social implications bias and fairness: ai can inherit biases present in the training data, leading to unfair decisions in hiring, lending, or law enforcement. Job displacement: automation powered by ai may eliminate certain jobs, particularly in manufacturing and customer service. However, it may also create new roles that require human creativity and oversight. Privacy: ai systems often require extensive personal data, posing risks to user privacy and data security. 5. The future of ai ai’s future holds extraordinary possibilities, including: 5. 1 artificial general intelligence (agi) current ai systems, known as narrow ai, excel at specific tasks. Agi, however, refers to machines with human-like intelligence, capable of performing any intellectual task a human can do. Although agi remains theoretical, research continues. 5. 2 ai and quantum computing quantum computing has the potential to revolutionize ai by solving problems that are infeasible for classical computers. This could accelerate breakthroughs in drug discovery, climate modeling, and cryptography. 5. 3 human-ai collaboration future ai systems are expected to work alongside humans rather than replace them. Ai could handle repetitive tasks while humans focus on creativity, strategy, and empathy — qualities machines lack. 6. Conclusion artificial intelligence is redefining our world. From healthcare to entertainment, it enhances efficiency, personalizes experiences, and solves complex problems. Yet, its challenges — data dependency, bias, and ethical concerns — require thoughtful management. With responsible development, ai holds the promise of a smarter, more connected, and equitable future. \n",
            "\n",
            "\n"
          ]
        }
      ],
      "source": [
        "para=\"\"\n",
        "count=0;\n",
        "para_list=[]\n",
        "for x in sentence_tokens:\n",
        "  if count>30:\n",
        "    para_list.append(para)\n",
        "    para=\"\"\n",
        "    count=0\n",
        "  else:\n",
        "    para=para+str(x)\n",
        "    count=count+1;\n",
        "if para!=\"\":\n",
        "  para_list.append(para)\n",
        "\n",
        "text_list=[[paragraph] for paragraph in para_list]\n",
        "#text_list\n",
        "\n",
        "capitalized_paragraphs = []\n",
        "for paragraph in text_list:\n",
        "    paragraph_text = paragraph[0]\n",
        "    doc = nlp(paragraph_text)\n",
        "    capitalized_text = '. '.join([sent.capitalize() for sent in paragraph_text.split('.')])\n",
        "    capitalized_paragraphs.append([capitalized_text])\n",
        "text_list = capitalized_paragraphs;\n",
        "for paragraph in capitalized_paragraphs:\n",
        "    print(paragraph[0])\n",
        "    print(\"\\n\")\n"
      ]
    },
    {
      "cell_type": "code",
      "execution_count": null,
      "metadata": {
        "id": "X6UEXtphuAXN",
        "colab": {
          "base_uri": "https://localhost:8080/"
        },
        "outputId": "7be15c44-c1bd-4b90-8402-5a6c35ad90b9"
      },
      "outputs": [
        {
          "output_type": "execute_result",
          "data": {
            "text/plain": [
              "[['\\xa0 artificial intelligence: the engine of the future 1. Introduction to artificial intelligence (ai) artificial intelligence (ai) is a branch of computer science that aims to create machines capable of performing tasks that typically require human intelligence. These tasks include learning from data, recognizing speech and images, understanding natural language, solving problems, and making decisions. Ai systems can adapt and improve over time, often outperforming humans in specific tasks by processing vast amounts of information quickly and accurately. The term \"artificial intelligence\" was coined by john mccarthy in 1956, marking the beginning of ai as an academic discipline. Over the decades, ai has evolved from simple rule-based programs to complex neural networks and autonomous systems, driven by breakthroughs in computing power, algorithms, and data availability.   2. Key components of ai modern ai consists of several interconnected disciplines: 2. 1 machine learning (ml) machine learning is a subset of ai that enables systems to learn from data without being explicitly programmed. It’s based on statistical techniques that allow machines to improve performance as they are exposed to more data. Supervised learning: the model learns from labeled data. For example, a spam filter learns to differentiate between spam and legitimate emails by analyzing thousands of labeled examples. Unsupervised learning: the model finds patterns in unlabeled data, like grouping similar customer behaviors for marketing strategies. Reinforcement learning: the model learns by interacting with its environment, receiving rewards for desirable actions — a technique used in game ai and robotics. 2. 2 deep learning deep learning, a powerful form of machine learning, uses neural networks with multiple layers (\"deep\" networks) to analyze data. Inspired by the human brain, these networks process raw data like images, sound, or text to automatically extract patterns and insights. Deep learning has fueled breakthroughs in computer vision, speech recognition, and natural language processing. 2. 3 natural language processing (nlp) nlp enables machines to understand, interpret, and generate human language. This technology powers virtual assistants like siri and alexa, language translation tools, sentiment analysis, and automated content generation. Advances in transformer models like bert and gpt have dramatically improved ai\\'s ability to handle nuanced language. 2. 4 computer vision computer vision allows ai systems to interpret and analyze visual data — images and videos. This technology is essential in applications like facial recognition, medical imaging, autonomous vehicles, and even agriculture (e. G. , identifying crop diseases). 2. 5 robotics ai-powered robots combine physical capabilities with intelligent behavior. They’re designed for tasks ranging from manufacturing and logistics to space exploration and surgical assistance. Boston dynamics\\' robots, for instance, showcase advanced movement, balance, and decision-making abilities. 3.  real-world applications of ai ai is transforming industries, reshaping how we work, live, and interact. Let’s explore some key sectors: 3. 1 healthcare disease diagnosis: ai systems analyze medical images (e. G. , x-rays, ct scans) to detect conditions like cancer with higher accuracy and speed than human doctors. Drug discovery: machine learning accelerates the development of new drugs by simulating molecular interactions. Personalized medicine: ai tailors treatments based on individual genetic profiles and medical histories. 3. 2 education adaptive learning platforms: ai personalizes lessons to match each student\\'s pace and learning style, improving engagement and outcomes. Automated grading: ai reduces the burden on teachers by grading essays and quizzes. Virtual tutors: intelligent tutoring systems provide instant, personalized feedback to students. '],\n",
              " ['Algorithmic trading: financial institutions use ai algorithms to make rapid, data-driven investment decisions. Customer service: chatbots and virtual assistants handle customer queries efficiently, enhancing user experience. 3. 4 transportation autonomous vehicles: self-driving cars from companies like tesla and waymo rely on ai to navigate roads safely. Traffic management: ai optimizes traffic flow in cities, reducing congestion and emissions. 3. 5 entertainment recommendation systems: netflix, spotify, and youtube use ai to recommend content based on user behavior. Content generation: ai creates music, art, and even movie scripts, blurring the lines between human and machine creativity. 4. Challenges and limitations of aidespite its progress, ai faces significant challenges: 4. 1 data dependency ai models require large datasets for training. Poor-quality, biased, or insufficient data can lead to inaccurate results. 4. 2 interpretability and explainability many ai models, especially deep neural networks, function as \"black boxes\" — their decision-making processes are not easily interpretable by humans. This raises trust and accountability issues, particularly in critical fields like healthcare and criminal justice. 4. 3 ethical and social implications bias and fairness: ai can inherit biases present in the training data, leading to unfair decisions in hiring, lending, or law enforcement. Job displacement: automation powered by ai may eliminate certain jobs, particularly in manufacturing and customer service. However, it may also create new roles that require human creativity and oversight. Privacy: ai systems often require extensive personal data, posing risks to user privacy and data security. 5. The future of ai ai’s future holds extraordinary possibilities, including: 5. 1 artificial general intelligence (agi) current ai systems, known as narrow ai, excel at specific tasks. Agi, however, refers to machines with human-like intelligence, capable of performing any intellectual task a human can do. Although agi remains theoretical, research continues. 5. 2 ai and quantum computing quantum computing has the potential to revolutionize ai by solving problems that are infeasible for classical computers. This could accelerate breakthroughs in drug discovery, climate modeling, and cryptography. 5. 3 human-ai collaboration future ai systems are expected to work alongside humans rather than replace them. Ai could handle repetitive tasks while humans focus on creativity, strategy, and empathy — qualities machines lack. 6. Conclusion artificial intelligence is redefining our world. From healthcare to entertainment, it enhances efficiency, personalizes experiences, and solves complex problems. Yet, its challenges — data dependency, bias, and ethical concerns — require thoughtful management. With responsible development, ai holds the promise of a smarter, more connected, and equitable future. ']]"
            ]
          },
          "metadata": {},
          "execution_count": 22
        }
      ],
      "source": [
        "text_list"
      ]
    },
    {
      "cell_type": "code",
      "execution_count": null,
      "metadata": {
        "id": "n8PQP21amtZu",
        "colab": {
          "base_uri": "https://localhost:8080/"
        },
        "outputId": "bce1cad0-6cee-40bd-e607-ab6a3ea772a7"
      },
      "outputs": [
        {
          "output_type": "stream",
          "name": "stdout",
          "text": [
            "{'artificial': 3, 'intelligence:': 1, 'engine': 1, 'future': 1, '1.': 1, 'Introduction': 1, 'intelligence': 2, '(ai)': 2, 'branch': 1, 'computer': 4, 'science': 1, 'aims': 1, 'create': 1, 'machines': 3, 'capable': 1, 'performing': 1, 'tasks': 4, 'typically': 1, 'require': 1, 'human': 4, 'intelligence.': 1, 'include': 1, 'learning': 8, 'data,': 2, 'recognizing': 1, 'speech': 2, 'images,': 2, 'understanding': 1, 'natural': 3, 'language,': 1, 'solving': 1, 'problems,': 1, 'making': 1, 'decisions.': 1, 'Ai': 1, 'systems': 5, 'adapt': 1, 'improve': 2, 'time,': 1, 'outperforming': 1, 'humans': 1, 'specific': 1, 'processing': 2, 'vast': 1, 'amounts': 1, 'information': 1, 'quickly': 1, 'accurately.': 1, 'term': 1, '\"artificial': 1, 'intelligence\"': 1, 'coined': 1, 'john': 1, 'mccarthy': 1, '1956,': 1, 'marking': 1, 'beginning': 1, 'ai': 13, 'academic': 1, 'discipline.': 1, 'decades,': 1, 'evolved': 1, 'simple': 1, 'rule-based': 1, 'programs': 1, 'complex': 1, 'neural': 2, 'networks': 3, 'autonomous': 2, 'systems,': 1, 'driven': 1, 'breakthroughs': 2, 'computing': 1, 'power,': 1, 'algorithms,': 1, 'data': 4, 'availability.': 1, '2.': 6, 'Key': 1, 'components': 1, 'modern': 1, 'consists': 1, 'interconnected': 1, 'disciplines:': 1, '1': 2, 'machine': 4, '(ml)': 1, 'subset': 1, 'enables': 2, 'learn': 1, 'explicitly': 1, 'programmed.': 1, 'It’s': 1, 'based': 2, 'statistical': 1, 'techniques': 1, 'allow': 1, 'performance': 1, 'exposed': 1, 'data.': 3, 'Supervised': 1, 'learning:': 3, 'model': 3, 'learns': 3, 'labeled': 2, 'example,': 1, 'spam': 2, 'filter': 1, 'differentiate': 1, 'legitimate': 1, 'emails': 1, 'analyzing': 1, 'thousands': 1, 'examples.': 1, 'Unsupervised': 1, 'finds': 1, 'patterns': 2, 'unlabeled': 1, 'like': 6, 'grouping': 1, 'similar': 1, 'customer': 1, 'behaviors': 1, 'marketing': 1, 'strategies.': 1, 'Reinforcement': 1, 'interacting': 1, 'environment,': 1, 'receiving': 1, 'rewards': 1, 'desirable': 1, 'actions': 1, '—': 2, 'technique': 1, 'game': 1, 'robotics.': 1, '2': 2, 'deep': 2, 'learning,': 2, 'powerful': 1, 'form': 1, 'uses': 1, 'multiple': 1, 'layers': 1, '(\"deep\"': 1, 'networks)': 1, 'analyze': 3, 'Inspired': 1, 'brain,': 1, 'process': 1, 'raw': 1, 'sound,': 1, 'text': 1, 'automatically': 1, 'extract': 1, 'insights.': 1, 'Deep': 1, 'fueled': 1, 'vision,': 1, 'recognition,': 2, 'language': 3, 'processing.': 1, '3': 1, '(nlp)': 1, 'nlp': 1, 'understand,': 1, 'interpret,': 1, 'generate': 1, 'language.': 2, 'technology': 2, 'powers': 1, 'virtual': 1, 'assistants': 1, 'siri': 1, 'alexa,': 1, 'translation': 1, 'tools,': 1, 'sentiment': 1, 'analysis,': 1, 'automated': 1, 'content': 1, 'generation.': 1, 'Advances': 1, 'transformer': 1, 'models': 1, 'bert': 1, 'gpt': 1, 'dramatically': 1, 'improved': 1, \"ai's\": 1, 'ability': 1, 'handle': 1, 'nuanced': 1, '4': 1, 'vision': 2, 'allows': 1, 'interpret': 1, 'visual': 1, 'images': 2, 'videos.': 1, 'essential': 1, 'applications': 2, 'facial': 1, 'medical': 3, 'imaging,': 1, 'vehicles,': 1, 'agriculture': 1, '(e.': 2, 'G.': 2, 'identifying': 1, 'crop': 1, 'diseases).': 1, '5': 1, 'robotics': 1, 'ai-powered': 1, 'robots': 1, 'combine': 1, 'physical': 1, 'capabilities': 1, 'intelligent': 2, 'behavior.': 1, 'They’re': 1, 'designed': 1, 'ranging': 1, 'manufacturing': 1, 'logistics': 1, 'space': 1, 'exploration': 1, 'surgical': 1, 'assistance.': 1, 'Boston': 1, \"dynamics'\": 1, 'robots,': 1, 'instance,': 1, 'showcase': 1, 'advanced': 1, 'movement,': 1, 'balance,': 1, 'decision-making': 1, 'abilities.': 1, '3.': 3, 'real-world': 1, 'transforming': 1, 'industries,': 1, 'reshaping': 1, 'work,': 1, 'live,': 1, 'interact.': 1, 'Let’s': 1, 'explore': 1, 'key': 1, 'sectors:': 1, 'healthcare': 1, 'disease': 1, 'diagnosis:': 1, 'x-rays,': 1, 'ct': 1, 'scans)': 1, 'detect': 1, 'conditions': 1, 'cancer': 1, 'higher': 1, 'accuracy': 1, 'speed': 1, 'doctors.': 1, 'Drug': 1, 'discovery:': 1, 'accelerates': 1, 'development': 1, 'new': 1, 'drugs': 1, 'simulating': 1, 'molecular': 1, 'interactions.': 1, 'Personalized': 1, 'medicine:': 1, 'tailors': 1, 'treatments': 1, 'individual': 1, 'genetic': 1, 'profiles': 1, 'histories.': 1, 'education': 1, 'adaptive': 1, 'platforms:': 1, 'personalizes': 1, 'lessons': 1, 'match': 1, \"student's\": 1, 'pace': 1, 'style,': 1, 'improving': 1, 'engagement': 1, 'outcomes.': 1, 'Automated': 1, 'grading:': 1, 'reduces': 1, 'burden': 1, 'teachers': 1, 'grading': 1, 'essays': 1, 'quizzes.': 1, 'Virtual': 1, 'tutors:': 1, 'tutoring': 1, 'provide': 1, 'instant,': 1, 'personalized': 1, 'feedback': 1, 'students.': 1}\n",
            "\n",
            "{'Algorithmic': 1, 'trading:': 1, 'financial': 1, 'institutions': 1, 'use': 2, 'ai': 17, 'algorithms': 1, 'rapid,': 1, 'data-driven': 1, 'investment': 1, 'decisions.': 1, 'Customer': 1, 'service:': 1, 'chatbots': 1, 'virtual': 1, 'assistants': 1, 'handle': 2, 'customer': 2, 'queries': 1, 'efficiently,': 1, 'enhancing': 1, 'user': 3, 'experience.': 1, '3.': 2, '4': 1, 'transportation': 1, 'autonomous': 1, 'vehicles:': 1, 'self-driving': 1, 'cars': 1, 'companies': 1, 'like': 2, 'tesla': 1, 'waymo': 1, 'rely': 1, 'navigate': 1, 'roads': 1, 'safely.': 1, 'Traffic': 1, 'management:': 1, 'optimizes': 1, 'traffic': 1, 'flow': 1, 'cities,': 1, 'reducing': 1, 'congestion': 1, 'emissions.': 1, '5': 1, 'entertainment': 1, 'recommendation': 1, 'systems:': 1, 'netflix,': 1, 'spotify,': 1, 'youtube': 1, 'recommend': 1, 'content': 1, 'based': 1, 'behavior.': 1, 'Content': 1, 'generation:': 1, 'creates': 1, 'music,': 1, 'art,': 1, 'movie': 1, 'scripts,': 1, 'blurring': 1, 'lines': 1, 'human': 3, 'machine': 1, 'creativity.': 1, '4.': 4, 'Challenges': 1, 'limitations': 1, 'aidespite': 1, 'progress,': 1, 'faces': 1, 'significant': 1, 'challenges:': 1, '1': 2, 'data': 4, 'dependency': 1, 'models': 1, 'require': 4, 'large': 1, 'datasets': 1, 'training.': 1, 'Poor-quality,': 1, 'biased,': 1, 'insufficient': 1, 'lead': 1, 'inaccurate': 1, 'results.': 1, '2': 2, 'interpretability': 1, 'explainability': 1, 'models,': 1, 'especially': 1, 'deep': 1, 'neural': 1, 'networks,': 1, 'function': 1, '\"black': 1, 'boxes\"': 1, '—': 4, 'decision-making': 1, 'processes': 1, 'easily': 1, 'interpretable': 1, 'humans.': 1, 'raises': 1, 'trust': 1, 'accountability': 1, 'issues,': 1, 'particularly': 2, 'critical': 1, 'fields': 1, 'healthcare': 2, 'criminal': 1, 'justice.': 1, '3': 2, 'ethical': 2, 'social': 1, 'implications': 1, 'bias': 1, 'fairness:': 1, 'inherit': 1, 'biases': 1, 'present': 1, 'training': 1, 'data,': 2, 'leading': 1, 'unfair': 1, 'decisions': 1, 'hiring,': 1, 'lending,': 1, 'law': 1, 'enforcement.': 1, 'Job': 1, 'displacement:': 1, 'automation': 1, 'powered': 1, 'eliminate': 1, 'certain': 1, 'jobs,': 1, 'manufacturing': 1, 'service.': 1, 'However,': 1, 'create': 1, 'new': 1, 'roles': 1, 'creativity': 1, 'oversight.': 1, 'Privacy:': 1, 'systems': 2, 'extensive': 1, 'personal': 1, 'posing': 1, 'risks': 1, 'privacy': 1, 'security.': 1, '5.': 4, 'future': 3, 'ai’s': 1, 'holds': 2, 'extraordinary': 1, 'possibilities,': 1, 'including:': 1, 'artificial': 2, 'general': 1, 'intelligence': 2, '(agi)': 1, 'current': 1, 'systems,': 1, 'known': 1, 'narrow': 1, 'ai,': 1, 'excel': 1, 'specific': 1, 'tasks.': 1, 'Agi,': 1, 'however,': 1, 'refers': 1, 'machines': 2, 'human-like': 1, 'intelligence,': 1, 'capable': 1, 'performing': 1, 'intellectual': 1, 'task': 1, 'do.': 1, 'agi': 1, 'remains': 1, 'theoretical,': 1, 'research': 1, 'continues.': 1, 'quantum': 2, 'computing': 2, 'potential': 1, 'revolutionize': 1, 'solving': 1, 'problems': 1, 'infeasible': 1, 'classical': 1, 'computers.': 1, 'accelerate': 1, 'breakthroughs': 1, 'drug': 1, 'discovery,': 1, 'climate': 1, 'modeling,': 1, 'cryptography.': 1, 'human-ai': 1, 'collaboration': 1, 'expected': 1, 'work': 1, 'alongside': 1, 'humans': 2, 'replace': 1, 'them.': 1, 'Ai': 1, 'repetitive': 1, 'tasks': 1, 'focus': 1, 'creativity,': 1, 'strategy,': 1, 'empathy': 1, 'qualities': 1, 'lack.': 1, '6.': 1, 'Conclusion': 1, 'redefining': 1, 'world.': 1, 'entertainment,': 1, 'enhances': 1, 'efficiency,': 1, 'personalizes': 1, 'experiences,': 1, 'solves': 1, 'complex': 1, 'problems.': 1, 'Yet,': 1, 'challenges': 1, 'dependency,': 1, 'bias,': 1, 'concerns': 1, 'thoughtful': 1, 'management.': 1, 'responsible': 1, 'development,': 1, 'promise': 1, 'smarter,': 1, 'connected,': 1, 'equitable': 1, 'future.': 1}\n",
            "\n"
          ]
        }
      ],
      "source": [
        "word_freq_list = []\n",
        "for i in text_list:\n",
        "    word_freq = {}\n",
        "    for sentence in i:\n",
        "        words = sentence.split()\n",
        "        for word in words:\n",
        "            if word.lower() not in stop and word.lower() not in punctuation and word != \"\\n\":\n",
        "                if word not in word_freq:\n",
        "                    word_freq[word] = 1\n",
        "                else:\n",
        "                    word_freq[word] += 1\n",
        "    word_freq_list.append(word_freq)\n",
        "for idx, word_freq in enumerate(word_freq_list, 1):\n",
        "    print(word_freq)\n",
        "    print()"
      ]
    },
    {
      "cell_type": "code",
      "execution_count": null,
      "metadata": {
        "id": "zg011EggmQMY",
        "colab": {
          "base_uri": "https://localhost:8080/"
        },
        "outputId": "f461367f-4e3f-4991-9d60-2653c9c9b4c1"
      },
      "outputs": [
        {
          "output_type": "stream",
          "name": "stdout",
          "text": [
            "13\n",
            "17\n"
          ]
        }
      ],
      "source": [
        "max_frequencies = []\n",
        "for word_freq in word_freq_list:\n",
        "  max_frequency = max(word_freq.values(), default=0)\n",
        "  max_frequencies.append(max_frequency)\n",
        "for idx, max_freq in enumerate(max_frequencies, 1):\n",
        "    print(max_freq)\n"
      ]
    },
    {
      "cell_type": "code",
      "execution_count": null,
      "metadata": {
        "id": "h9D-GcITmlpm",
        "colab": {
          "base_uri": "https://localhost:8080/"
        },
        "outputId": "49c7585e-c53b-44e5-b6ac-c8004c058e66"
      },
      "outputs": [
        {
          "output_type": "stream",
          "name": "stdout",
          "text": [
            "{'artificial': 0.23076923076923078, 'intelligence:': 0.07692307692307693, 'engine': 0.07692307692307693, 'future': 0.07692307692307693, '1.': 0.07692307692307693, 'Introduction': 0.07692307692307693, 'intelligence': 0.15384615384615385, '(ai)': 0.15384615384615385, 'branch': 0.07692307692307693, 'computer': 0.3076923076923077, 'science': 0.07692307692307693, 'aims': 0.07692307692307693, 'create': 0.07692307692307693, 'machines': 0.23076923076923078, 'capable': 0.07692307692307693, 'performing': 0.07692307692307693, 'tasks': 0.3076923076923077, 'typically': 0.07692307692307693, 'require': 0.07692307692307693, 'human': 0.3076923076923077, 'intelligence.': 0.07692307692307693, 'include': 0.07692307692307693, 'learning': 0.6153846153846154, 'data,': 0.15384615384615385, 'recognizing': 0.07692307692307693, 'speech': 0.15384615384615385, 'images,': 0.15384615384615385, 'understanding': 0.07692307692307693, 'natural': 0.23076923076923078, 'language,': 0.07692307692307693, 'solving': 0.07692307692307693, 'problems,': 0.07692307692307693, 'making': 0.07692307692307693, 'decisions.': 0.07692307692307693, 'Ai': 0.07692307692307693, 'systems': 0.38461538461538464, 'adapt': 0.07692307692307693, 'improve': 0.15384615384615385, 'time,': 0.07692307692307693, 'outperforming': 0.07692307692307693, 'humans': 0.07692307692307693, 'specific': 0.07692307692307693, 'processing': 0.15384615384615385, 'vast': 0.07692307692307693, 'amounts': 0.07692307692307693, 'information': 0.07692307692307693, 'quickly': 0.07692307692307693, 'accurately.': 0.07692307692307693, 'term': 0.07692307692307693, '\"artificial': 0.07692307692307693, 'intelligence\"': 0.07692307692307693, 'coined': 0.07692307692307693, 'john': 0.07692307692307693, 'mccarthy': 0.07692307692307693, '1956,': 0.07692307692307693, 'marking': 0.07692307692307693, 'beginning': 0.07692307692307693, 'ai': 1.0, 'academic': 0.07692307692307693, 'discipline.': 0.07692307692307693, 'decades,': 0.07692307692307693, 'evolved': 0.07692307692307693, 'simple': 0.07692307692307693, 'rule-based': 0.07692307692307693, 'programs': 0.07692307692307693, 'complex': 0.07692307692307693, 'neural': 0.15384615384615385, 'networks': 0.23076923076923078, 'autonomous': 0.15384615384615385, 'systems,': 0.07692307692307693, 'driven': 0.07692307692307693, 'breakthroughs': 0.15384615384615385, 'computing': 0.07692307692307693, 'power,': 0.07692307692307693, 'algorithms,': 0.07692307692307693, 'data': 0.3076923076923077, 'availability.': 0.07692307692307693, '2.': 0.46153846153846156, 'Key': 0.07692307692307693, 'components': 0.07692307692307693, 'modern': 0.07692307692307693, 'consists': 0.07692307692307693, 'interconnected': 0.07692307692307693, 'disciplines:': 0.07692307692307693, '1': 0.15384615384615385, 'machine': 0.3076923076923077, '(ml)': 0.07692307692307693, 'subset': 0.07692307692307693, 'enables': 0.15384615384615385, 'learn': 0.07692307692307693, 'explicitly': 0.07692307692307693, 'programmed.': 0.07692307692307693, 'It’s': 0.07692307692307693, 'based': 0.15384615384615385, 'statistical': 0.07692307692307693, 'techniques': 0.07692307692307693, 'allow': 0.07692307692307693, 'performance': 0.07692307692307693, 'exposed': 0.07692307692307693, 'data.': 0.23076923076923078, 'Supervised': 0.07692307692307693, 'learning:': 0.23076923076923078, 'model': 0.23076923076923078, 'learns': 0.23076923076923078, 'labeled': 0.15384615384615385, 'example,': 0.07692307692307693, 'spam': 0.15384615384615385, 'filter': 0.07692307692307693, 'differentiate': 0.07692307692307693, 'legitimate': 0.07692307692307693, 'emails': 0.07692307692307693, 'analyzing': 0.07692307692307693, 'thousands': 0.07692307692307693, 'examples.': 0.07692307692307693, 'Unsupervised': 0.07692307692307693, 'finds': 0.07692307692307693, 'patterns': 0.15384615384615385, 'unlabeled': 0.07692307692307693, 'like': 0.46153846153846156, 'grouping': 0.07692307692307693, 'similar': 0.07692307692307693, 'customer': 0.07692307692307693, 'behaviors': 0.07692307692307693, 'marketing': 0.07692307692307693, 'strategies.': 0.07692307692307693, 'Reinforcement': 0.07692307692307693, 'interacting': 0.07692307692307693, 'environment,': 0.07692307692307693, 'receiving': 0.07692307692307693, 'rewards': 0.07692307692307693, 'desirable': 0.07692307692307693, 'actions': 0.07692307692307693, '—': 0.15384615384615385, 'technique': 0.07692307692307693, 'game': 0.07692307692307693, 'robotics.': 0.07692307692307693, '2': 0.15384615384615385, 'deep': 0.15384615384615385, 'learning,': 0.15384615384615385, 'powerful': 0.07692307692307693, 'form': 0.07692307692307693, 'uses': 0.07692307692307693, 'multiple': 0.07692307692307693, 'layers': 0.07692307692307693, '(\"deep\"': 0.07692307692307693, 'networks)': 0.07692307692307693, 'analyze': 0.23076923076923078, 'Inspired': 0.07692307692307693, 'brain,': 0.07692307692307693, 'process': 0.07692307692307693, 'raw': 0.07692307692307693, 'sound,': 0.07692307692307693, 'text': 0.07692307692307693, 'automatically': 0.07692307692307693, 'extract': 0.07692307692307693, 'insights.': 0.07692307692307693, 'Deep': 0.07692307692307693, 'fueled': 0.07692307692307693, 'vision,': 0.07692307692307693, 'recognition,': 0.15384615384615385, 'language': 0.23076923076923078, 'processing.': 0.07692307692307693, '3': 0.07692307692307693, '(nlp)': 0.07692307692307693, 'nlp': 0.07692307692307693, 'understand,': 0.07692307692307693, 'interpret,': 0.07692307692307693, 'generate': 0.07692307692307693, 'language.': 0.15384615384615385, 'technology': 0.15384615384615385, 'powers': 0.07692307692307693, 'virtual': 0.07692307692307693, 'assistants': 0.07692307692307693, 'siri': 0.07692307692307693, 'alexa,': 0.07692307692307693, 'translation': 0.07692307692307693, 'tools,': 0.07692307692307693, 'sentiment': 0.07692307692307693, 'analysis,': 0.07692307692307693, 'automated': 0.07692307692307693, 'content': 0.07692307692307693, 'generation.': 0.07692307692307693, 'Advances': 0.07692307692307693, 'transformer': 0.07692307692307693, 'models': 0.07692307692307693, 'bert': 0.07692307692307693, 'gpt': 0.07692307692307693, 'dramatically': 0.07692307692307693, 'improved': 0.07692307692307693, \"ai's\": 0.07692307692307693, 'ability': 0.07692307692307693, 'handle': 0.07692307692307693, 'nuanced': 0.07692307692307693, '4': 0.07692307692307693, 'vision': 0.15384615384615385, 'allows': 0.07692307692307693, 'interpret': 0.07692307692307693, 'visual': 0.07692307692307693, 'images': 0.15384615384615385, 'videos.': 0.07692307692307693, 'essential': 0.07692307692307693, 'applications': 0.15384615384615385, 'facial': 0.07692307692307693, 'medical': 0.23076923076923078, 'imaging,': 0.07692307692307693, 'vehicles,': 0.07692307692307693, 'agriculture': 0.07692307692307693, '(e.': 0.15384615384615385, 'G.': 0.15384615384615385, 'identifying': 0.07692307692307693, 'crop': 0.07692307692307693, 'diseases).': 0.07692307692307693, '5': 0.07692307692307693, 'robotics': 0.07692307692307693, 'ai-powered': 0.07692307692307693, 'robots': 0.07692307692307693, 'combine': 0.07692307692307693, 'physical': 0.07692307692307693, 'capabilities': 0.07692307692307693, 'intelligent': 0.15384615384615385, 'behavior.': 0.07692307692307693, 'They’re': 0.07692307692307693, 'designed': 0.07692307692307693, 'ranging': 0.07692307692307693, 'manufacturing': 0.07692307692307693, 'logistics': 0.07692307692307693, 'space': 0.07692307692307693, 'exploration': 0.07692307692307693, 'surgical': 0.07692307692307693, 'assistance.': 0.07692307692307693, 'Boston': 0.07692307692307693, \"dynamics'\": 0.07692307692307693, 'robots,': 0.07692307692307693, 'instance,': 0.07692307692307693, 'showcase': 0.07692307692307693, 'advanced': 0.07692307692307693, 'movement,': 0.07692307692307693, 'balance,': 0.07692307692307693, 'decision-making': 0.07692307692307693, 'abilities.': 0.07692307692307693, '3.': 0.23076923076923078, 'real-world': 0.07692307692307693, 'transforming': 0.07692307692307693, 'industries,': 0.07692307692307693, 'reshaping': 0.07692307692307693, 'work,': 0.07692307692307693, 'live,': 0.07692307692307693, 'interact.': 0.07692307692307693, 'Let’s': 0.07692307692307693, 'explore': 0.07692307692307693, 'key': 0.07692307692307693, 'sectors:': 0.07692307692307693, 'healthcare': 0.07692307692307693, 'disease': 0.07692307692307693, 'diagnosis:': 0.07692307692307693, 'x-rays,': 0.07692307692307693, 'ct': 0.07692307692307693, 'scans)': 0.07692307692307693, 'detect': 0.07692307692307693, 'conditions': 0.07692307692307693, 'cancer': 0.07692307692307693, 'higher': 0.07692307692307693, 'accuracy': 0.07692307692307693, 'speed': 0.07692307692307693, 'doctors.': 0.07692307692307693, 'Drug': 0.07692307692307693, 'discovery:': 0.07692307692307693, 'accelerates': 0.07692307692307693, 'development': 0.07692307692307693, 'new': 0.07692307692307693, 'drugs': 0.07692307692307693, 'simulating': 0.07692307692307693, 'molecular': 0.07692307692307693, 'interactions.': 0.07692307692307693, 'Personalized': 0.07692307692307693, 'medicine:': 0.07692307692307693, 'tailors': 0.07692307692307693, 'treatments': 0.07692307692307693, 'individual': 0.07692307692307693, 'genetic': 0.07692307692307693, 'profiles': 0.07692307692307693, 'histories.': 0.07692307692307693, 'education': 0.07692307692307693, 'adaptive': 0.07692307692307693, 'platforms:': 0.07692307692307693, 'personalizes': 0.07692307692307693, 'lessons': 0.07692307692307693, 'match': 0.07692307692307693, \"student's\": 0.07692307692307693, 'pace': 0.07692307692307693, 'style,': 0.07692307692307693, 'improving': 0.07692307692307693, 'engagement': 0.07692307692307693, 'outcomes.': 0.07692307692307693, 'Automated': 0.07692307692307693, 'grading:': 0.07692307692307693, 'reduces': 0.07692307692307693, 'burden': 0.07692307692307693, 'teachers': 0.07692307692307693, 'grading': 0.07692307692307693, 'essays': 0.07692307692307693, 'quizzes.': 0.07692307692307693, 'Virtual': 0.07692307692307693, 'tutors:': 0.07692307692307693, 'tutoring': 0.07692307692307693, 'provide': 0.07692307692307693, 'instant,': 0.07692307692307693, 'personalized': 0.07692307692307693, 'feedback': 0.07692307692307693, 'students.': 0.07692307692307693}\n",
            "{'Algorithmic': 0.058823529411764705, 'trading:': 0.058823529411764705, 'financial': 0.058823529411764705, 'institutions': 0.058823529411764705, 'use': 0.11764705882352941, 'ai': 1.0, 'algorithms': 0.058823529411764705, 'rapid,': 0.058823529411764705, 'data-driven': 0.058823529411764705, 'investment': 0.058823529411764705, 'decisions.': 0.058823529411764705, 'Customer': 0.058823529411764705, 'service:': 0.058823529411764705, 'chatbots': 0.058823529411764705, 'virtual': 0.058823529411764705, 'assistants': 0.058823529411764705, 'handle': 0.11764705882352941, 'customer': 0.11764705882352941, 'queries': 0.058823529411764705, 'efficiently,': 0.058823529411764705, 'enhancing': 0.058823529411764705, 'user': 0.17647058823529413, 'experience.': 0.058823529411764705, '3.': 0.11764705882352941, '4': 0.058823529411764705, 'transportation': 0.058823529411764705, 'autonomous': 0.058823529411764705, 'vehicles:': 0.058823529411764705, 'self-driving': 0.058823529411764705, 'cars': 0.058823529411764705, 'companies': 0.058823529411764705, 'like': 0.11764705882352941, 'tesla': 0.058823529411764705, 'waymo': 0.058823529411764705, 'rely': 0.058823529411764705, 'navigate': 0.058823529411764705, 'roads': 0.058823529411764705, 'safely.': 0.058823529411764705, 'Traffic': 0.058823529411764705, 'management:': 0.058823529411764705, 'optimizes': 0.058823529411764705, 'traffic': 0.058823529411764705, 'flow': 0.058823529411764705, 'cities,': 0.058823529411764705, 'reducing': 0.058823529411764705, 'congestion': 0.058823529411764705, 'emissions.': 0.058823529411764705, '5': 0.058823529411764705, 'entertainment': 0.058823529411764705, 'recommendation': 0.058823529411764705, 'systems:': 0.058823529411764705, 'netflix,': 0.058823529411764705, 'spotify,': 0.058823529411764705, 'youtube': 0.058823529411764705, 'recommend': 0.058823529411764705, 'content': 0.058823529411764705, 'based': 0.058823529411764705, 'behavior.': 0.058823529411764705, 'Content': 0.058823529411764705, 'generation:': 0.058823529411764705, 'creates': 0.058823529411764705, 'music,': 0.058823529411764705, 'art,': 0.058823529411764705, 'movie': 0.058823529411764705, 'scripts,': 0.058823529411764705, 'blurring': 0.058823529411764705, 'lines': 0.058823529411764705, 'human': 0.17647058823529413, 'machine': 0.058823529411764705, 'creativity.': 0.058823529411764705, '4.': 0.23529411764705882, 'Challenges': 0.058823529411764705, 'limitations': 0.058823529411764705, 'aidespite': 0.058823529411764705, 'progress,': 0.058823529411764705, 'faces': 0.058823529411764705, 'significant': 0.058823529411764705, 'challenges:': 0.058823529411764705, '1': 0.11764705882352941, 'data': 0.23529411764705882, 'dependency': 0.058823529411764705, 'models': 0.058823529411764705, 'require': 0.23529411764705882, 'large': 0.058823529411764705, 'datasets': 0.058823529411764705, 'training.': 0.058823529411764705, 'Poor-quality,': 0.058823529411764705, 'biased,': 0.058823529411764705, 'insufficient': 0.058823529411764705, 'lead': 0.058823529411764705, 'inaccurate': 0.058823529411764705, 'results.': 0.058823529411764705, '2': 0.11764705882352941, 'interpretability': 0.058823529411764705, 'explainability': 0.058823529411764705, 'models,': 0.058823529411764705, 'especially': 0.058823529411764705, 'deep': 0.058823529411764705, 'neural': 0.058823529411764705, 'networks,': 0.058823529411764705, 'function': 0.058823529411764705, '\"black': 0.058823529411764705, 'boxes\"': 0.058823529411764705, '—': 0.23529411764705882, 'decision-making': 0.058823529411764705, 'processes': 0.058823529411764705, 'easily': 0.058823529411764705, 'interpretable': 0.058823529411764705, 'humans.': 0.058823529411764705, 'raises': 0.058823529411764705, 'trust': 0.058823529411764705, 'accountability': 0.058823529411764705, 'issues,': 0.058823529411764705, 'particularly': 0.11764705882352941, 'critical': 0.058823529411764705, 'fields': 0.058823529411764705, 'healthcare': 0.11764705882352941, 'criminal': 0.058823529411764705, 'justice.': 0.058823529411764705, '3': 0.11764705882352941, 'ethical': 0.11764705882352941, 'social': 0.058823529411764705, 'implications': 0.058823529411764705, 'bias': 0.058823529411764705, 'fairness:': 0.058823529411764705, 'inherit': 0.058823529411764705, 'biases': 0.058823529411764705, 'present': 0.058823529411764705, 'training': 0.058823529411764705, 'data,': 0.11764705882352941, 'leading': 0.058823529411764705, 'unfair': 0.058823529411764705, 'decisions': 0.058823529411764705, 'hiring,': 0.058823529411764705, 'lending,': 0.058823529411764705, 'law': 0.058823529411764705, 'enforcement.': 0.058823529411764705, 'Job': 0.058823529411764705, 'displacement:': 0.058823529411764705, 'automation': 0.058823529411764705, 'powered': 0.058823529411764705, 'eliminate': 0.058823529411764705, 'certain': 0.058823529411764705, 'jobs,': 0.058823529411764705, 'manufacturing': 0.058823529411764705, 'service.': 0.058823529411764705, 'However,': 0.058823529411764705, 'create': 0.058823529411764705, 'new': 0.058823529411764705, 'roles': 0.058823529411764705, 'creativity': 0.058823529411764705, 'oversight.': 0.058823529411764705, 'Privacy:': 0.058823529411764705, 'systems': 0.11764705882352941, 'extensive': 0.058823529411764705, 'personal': 0.058823529411764705, 'posing': 0.058823529411764705, 'risks': 0.058823529411764705, 'privacy': 0.058823529411764705, 'security.': 0.058823529411764705, '5.': 0.23529411764705882, 'future': 0.17647058823529413, 'ai’s': 0.058823529411764705, 'holds': 0.11764705882352941, 'extraordinary': 0.058823529411764705, 'possibilities,': 0.058823529411764705, 'including:': 0.058823529411764705, 'artificial': 0.11764705882352941, 'general': 0.058823529411764705, 'intelligence': 0.11764705882352941, '(agi)': 0.058823529411764705, 'current': 0.058823529411764705, 'systems,': 0.058823529411764705, 'known': 0.058823529411764705, 'narrow': 0.058823529411764705, 'ai,': 0.058823529411764705, 'excel': 0.058823529411764705, 'specific': 0.058823529411764705, 'tasks.': 0.058823529411764705, 'Agi,': 0.058823529411764705, 'however,': 0.058823529411764705, 'refers': 0.058823529411764705, 'machines': 0.11764705882352941, 'human-like': 0.058823529411764705, 'intelligence,': 0.058823529411764705, 'capable': 0.058823529411764705, 'performing': 0.058823529411764705, 'intellectual': 0.058823529411764705, 'task': 0.058823529411764705, 'do.': 0.058823529411764705, 'agi': 0.058823529411764705, 'remains': 0.058823529411764705, 'theoretical,': 0.058823529411764705, 'research': 0.058823529411764705, 'continues.': 0.058823529411764705, 'quantum': 0.11764705882352941, 'computing': 0.11764705882352941, 'potential': 0.058823529411764705, 'revolutionize': 0.058823529411764705, 'solving': 0.058823529411764705, 'problems': 0.058823529411764705, 'infeasible': 0.058823529411764705, 'classical': 0.058823529411764705, 'computers.': 0.058823529411764705, 'accelerate': 0.058823529411764705, 'breakthroughs': 0.058823529411764705, 'drug': 0.058823529411764705, 'discovery,': 0.058823529411764705, 'climate': 0.058823529411764705, 'modeling,': 0.058823529411764705, 'cryptography.': 0.058823529411764705, 'human-ai': 0.058823529411764705, 'collaboration': 0.058823529411764705, 'expected': 0.058823529411764705, 'work': 0.058823529411764705, 'alongside': 0.058823529411764705, 'humans': 0.11764705882352941, 'replace': 0.058823529411764705, 'them.': 0.058823529411764705, 'Ai': 0.058823529411764705, 'repetitive': 0.058823529411764705, 'tasks': 0.058823529411764705, 'focus': 0.058823529411764705, 'creativity,': 0.058823529411764705, 'strategy,': 0.058823529411764705, 'empathy': 0.058823529411764705, 'qualities': 0.058823529411764705, 'lack.': 0.058823529411764705, '6.': 0.058823529411764705, 'Conclusion': 0.058823529411764705, 'redefining': 0.058823529411764705, 'world.': 0.058823529411764705, 'entertainment,': 0.058823529411764705, 'enhances': 0.058823529411764705, 'efficiency,': 0.058823529411764705, 'personalizes': 0.058823529411764705, 'experiences,': 0.058823529411764705, 'solves': 0.058823529411764705, 'complex': 0.058823529411764705, 'problems.': 0.058823529411764705, 'Yet,': 0.058823529411764705, 'challenges': 0.058823529411764705, 'dependency,': 0.058823529411764705, 'bias,': 0.058823529411764705, 'concerns': 0.058823529411764705, 'thoughtful': 0.058823529411764705, 'management.': 0.058823529411764705, 'responsible': 0.058823529411764705, 'development,': 0.058823529411764705, 'promise': 0.058823529411764705, 'smarter,': 0.058823529411764705, 'connected,': 0.058823529411764705, 'equitable': 0.058823529411764705, 'future.': 0.058823529411764705}\n"
          ]
        }
      ],
      "source": [
        "for idx, word_freq in enumerate(word_freq_list, 1):\n",
        "    max_frequency = max(word_freq.values(), default=1)\n",
        "    for word in word_freq.keys():\n",
        "        word_freq[word] /= max_frequencies[idx - 1]\n",
        "    print(word_freq)\n"
      ]
    },
    {
      "cell_type": "code",
      "execution_count": null,
      "metadata": {
        "id": "1tfE1pVQmlne"
      },
      "outputs": [],
      "source": [
        "sents=sent_tokenize(str(text_list[0][0]))"
      ]
    },
    {
      "cell_type": "code",
      "execution_count": null,
      "metadata": {
        "id": "vYmAmCQcmllm",
        "colab": {
          "base_uri": "https://localhost:8080/",
          "height": 36
        },
        "outputId": "d8459985-21a6-4409-a4f3-796a516226d2"
      },
      "outputs": [
        {
          "output_type": "execute_result",
          "data": {
            "text/plain": [
              "'\\xa0 artificial intelligence: the engine of the future 1.'"
            ],
            "application/vnd.google.colaboratory.intrinsic+json": {
              "type": "string"
            }
          },
          "metadata": {},
          "execution_count": 27
        }
      ],
      "source": [
        "sents[0]"
      ]
    },
    {
      "cell_type": "code",
      "execution_count": null,
      "metadata": {
        "id": "vDZqfTPdmljW"
      },
      "outputs": [],
      "source": []
    },
    {
      "cell_type": "code",
      "execution_count": null,
      "metadata": {
        "id": "pmAzG6UBmlc-",
        "colab": {
          "base_uri": "https://localhost:8080/"
        },
        "outputId": "100afdea-3df0-47e4-8dd3-630561edbb1f"
      },
      "outputs": [
        {
          "output_type": "stream",
          "name": "stdout",
          "text": [
            "[['\\xa0 artificial intelligence: the engine of the future 1.', 'Introduction to artificial intelligence (ai) artificial intelligence (ai) is a branch of computer science that aims to create machines capable of performing tasks that typically require human intelligence.', 'These tasks include learning from data, recognizing speech and images, understanding natural language, solving problems, and making decisions.', 'Ai systems can adapt and improve over time, often outperforming humans in specific tasks by processing vast amounts of information quickly and accurately.', 'The term \"artificial intelligence\" was coined by john mccarthy in 1956, marking the beginning of ai as an academic discipline.', 'Over the decades, ai has evolved from simple rule-based programs to complex neural networks and autonomous systems, driven by breakthroughs in computing power, algorithms, and data availability.', 'Key components of ai modern ai consists of several interconnected disciplines: 2.', '1 machine learning (ml) machine learning is a subset of ai that enables systems to learn from data without being explicitly programmed.', 'It’s based on statistical techniques that allow machines to improve performance as they are exposed to more data.', 'Supervised learning: the model learns from labeled data.', 'For example, a spam filter learns to differentiate between spam and legitimate emails by analyzing thousands of labeled examples.', 'Unsupervised learning: the model finds patterns in unlabeled data, like grouping similar customer behaviors for marketing strategies.', 'Reinforcement learning: the model learns by interacting with its environment, receiving rewards for desirable actions — a technique used in game ai and robotics.', '2 deep learning deep learning, a powerful form of machine learning, uses neural networks with multiple layers (\"deep\" networks) to analyze data.', 'Inspired by the human brain, these networks process raw data like images, sound, or text to automatically extract patterns and insights.', 'Deep learning has fueled breakthroughs in computer vision, speech recognition, and natural language processing.', '3 natural language processing (nlp) nlp enables machines to understand, interpret, and generate human language.', 'This technology powers virtual assistants like siri and alexa, language translation tools, sentiment analysis, and automated content generation.', \"Advances in transformer models like bert and gpt have dramatically improved ai's ability to handle nuanced language.\", '4 computer vision computer vision allows ai systems to interpret and analyze visual data — images and videos.', 'This technology is essential in applications like facial recognition, medical imaging, autonomous vehicles, and even agriculture (e.', ', identifying crop diseases).', '5 robotics ai-powered robots combine physical capabilities with intelligent behavior.', 'They’re designed for tasks ranging from manufacturing and logistics to space exploration and surgical assistance.', \"Boston dynamics' robots, for instance, showcase advanced movement, balance, and decision-making abilities.\", ' real-world applications of ai ai is transforming industries, reshaping how we work, live, and interact.', 'Let’s explore some key sectors: 3.', '1 healthcare disease diagnosis: ai systems analyze medical images (e.', ', x-rays, ct scans) to detect conditions like cancer with higher accuracy and speed than human doctors.', 'Drug discovery: machine learning accelerates the development of new drugs by simulating molecular interactions.', 'Personalized medicine: ai tailors treatments based on individual genetic profiles and medical histories.', \"2 education adaptive learning platforms: ai personalizes lessons to match each student's pace and learning style, improving engagement and outcomes.\", 'Automated grading: ai reduces the burden on teachers by grading essays and quizzes.', 'Virtual tutors: intelligent tutoring systems provide instant, personalized feedback to students.'], ['Algorithmic trading: financial institutions use ai algorithms to make rapid, data-driven investment decisions.', 'Customer service: chatbots and virtual assistants handle customer queries efficiently, enhancing user experience.', '4 transportation autonomous vehicles: self-driving cars from companies like tesla and waymo rely on ai to navigate roads safely.', 'Traffic management: ai optimizes traffic flow in cities, reducing congestion and emissions.', '5 entertainment recommendation systems: netflix, spotify, and youtube use ai to recommend content based on user behavior.', 'Content generation: ai creates music, art, and even movie scripts, blurring the lines between human and machine creativity.', 'Challenges and limitations of aidespite its progress, ai faces significant challenges: 4.', '1 data dependency ai models require large datasets for training.', 'Poor-quality, biased, or insufficient data can lead to inaccurate results.', '2 interpretability and explainability many ai models, especially deep neural networks, function as \"black boxes\" — their decision-making processes are not easily interpretable by humans.', 'This raises trust and accountability issues, particularly in critical fields like healthcare and criminal justice.', '3 ethical and social implications bias and fairness: ai can inherit biases present in the training data, leading to unfair decisions in hiring, lending, or law enforcement.', 'Job displacement: automation powered by ai may eliminate certain jobs, particularly in manufacturing and customer service.', 'However, it may also create new roles that require human creativity and oversight.', 'Privacy: ai systems often require extensive personal data, posing risks to user privacy and data security.', 'The future of ai ai’s future holds extraordinary possibilities, including: 5.', '1 artificial general intelligence (agi) current ai systems, known as narrow ai, excel at specific tasks.', 'Agi, however, refers to machines with human-like intelligence, capable of performing any intellectual task a human can do.', 'Although agi remains theoretical, research continues.', '2 ai and quantum computing quantum computing has the potential to revolutionize ai by solving problems that are infeasible for classical computers.', 'This could accelerate breakthroughs in drug discovery, climate modeling, and cryptography.', '3 human-ai collaboration future ai systems are expected to work alongside humans rather than replace them.', 'Ai could handle repetitive tasks while humans focus on creativity, strategy, and empathy — qualities machines lack.', 'Conclusion artificial intelligence is redefining our world.', 'From healthcare to entertainment, it enhances efficiency, personalizes experiences, and solves complex problems.', 'Yet, its challenges — data dependency, bias, and ethical concerns — require thoughtful management.', 'With responsible development, ai holds the promise of a smarter, more connected, and equitable future.']]\n",
            "  artificial intelligence: the engine of the future 1.\n",
            "\n",
            "\n",
            "Introduction to artificial intelligence (ai) artificial intelligence (ai) is a branch of computer science that aims to create machines capable of performing tasks that typically require human intelligence.\n",
            "\n",
            "\n",
            "These tasks include learning from data, recognizing speech and images, understanding natural language, solving problems, and making decisions.\n",
            "\n",
            "\n",
            "Ai systems can adapt and improve over time, often outperforming humans in specific tasks by processing vast amounts of information quickly and accurately.\n",
            "\n",
            "\n",
            "The term \"artificial intelligence\" was coined by john mccarthy in 1956, marking the beginning of ai as an academic discipline.\n",
            "\n",
            "\n",
            "Over the decades, ai has evolved from simple rule-based programs to complex neural networks and autonomous systems, driven by breakthroughs in computing power, algorithms, and data availability.\n",
            "\n",
            "\n",
            "Key components of ai modern ai consists of several interconnected disciplines: 2.\n",
            "\n",
            "\n",
            "1 machine learning (ml) machine learning is a subset of ai that enables systems to learn from data without being explicitly programmed.\n",
            "\n",
            "\n",
            "It’s based on statistical techniques that allow machines to improve performance as they are exposed to more data.\n",
            "\n",
            "\n",
            "Supervised learning: the model learns from labeled data.\n",
            "\n",
            "\n",
            "For example, a spam filter learns to differentiate between spam and legitimate emails by analyzing thousands of labeled examples.\n",
            "\n",
            "\n",
            "Unsupervised learning: the model finds patterns in unlabeled data, like grouping similar customer behaviors for marketing strategies.\n",
            "\n",
            "\n",
            "Reinforcement learning: the model learns by interacting with its environment, receiving rewards for desirable actions — a technique used in game ai and robotics.\n",
            "\n",
            "\n",
            "2 deep learning deep learning, a powerful form of machine learning, uses neural networks with multiple layers (\"deep\" networks) to analyze data.\n",
            "\n",
            "\n",
            "Inspired by the human brain, these networks process raw data like images, sound, or text to automatically extract patterns and insights.\n",
            "\n",
            "\n",
            "Deep learning has fueled breakthroughs in computer vision, speech recognition, and natural language processing.\n",
            "\n",
            "\n",
            "3 natural language processing (nlp) nlp enables machines to understand, interpret, and generate human language.\n",
            "\n",
            "\n",
            "This technology powers virtual assistants like siri and alexa, language translation tools, sentiment analysis, and automated content generation.\n",
            "\n",
            "\n",
            "Advances in transformer models like bert and gpt have dramatically improved ai's ability to handle nuanced language.\n",
            "\n",
            "\n",
            "4 computer vision computer vision allows ai systems to interpret and analyze visual data — images and videos.\n",
            "\n",
            "\n",
            "This technology is essential in applications like facial recognition, medical imaging, autonomous vehicles, and even agriculture (e.\n",
            "\n",
            "\n",
            ", identifying crop diseases).\n",
            "\n",
            "\n",
            "5 robotics ai-powered robots combine physical capabilities with intelligent behavior.\n",
            "\n",
            "\n",
            "They’re designed for tasks ranging from manufacturing and logistics to space exploration and surgical assistance.\n",
            "\n",
            "\n",
            "Boston dynamics' robots, for instance, showcase advanced movement, balance, and decision-making abilities.\n",
            "\n",
            "\n",
            " real-world applications of ai ai is transforming industries, reshaping how we work, live, and interact.\n",
            "\n",
            "\n",
            "Let’s explore some key sectors: 3.\n",
            "\n",
            "\n",
            "1 healthcare disease diagnosis: ai systems analyze medical images (e.\n",
            "\n",
            "\n",
            ", x-rays, ct scans) to detect conditions like cancer with higher accuracy and speed than human doctors.\n",
            "\n",
            "\n",
            "Drug discovery: machine learning accelerates the development of new drugs by simulating molecular interactions.\n",
            "\n",
            "\n",
            "Personalized medicine: ai tailors treatments based on individual genetic profiles and medical histories.\n",
            "\n",
            "\n",
            "2 education adaptive learning platforms: ai personalizes lessons to match each student's pace and learning style, improving engagement and outcomes.\n",
            "\n",
            "\n",
            "Automated grading: ai reduces the burden on teachers by grading essays and quizzes.\n",
            "\n",
            "\n",
            "Virtual tutors: intelligent tutoring systems provide instant, personalized feedback to students.\n",
            "\n",
            "\n",
            "Algorithmic trading: financial institutions use ai algorithms to make rapid, data-driven investment decisions.\n",
            "\n",
            "\n",
            "Customer service: chatbots and virtual assistants handle customer queries efficiently, enhancing user experience.\n",
            "\n",
            "\n",
            "4 transportation autonomous vehicles: self-driving cars from companies like tesla and waymo rely on ai to navigate roads safely.\n",
            "\n",
            "\n",
            "Traffic management: ai optimizes traffic flow in cities, reducing congestion and emissions.\n",
            "\n",
            "\n",
            "5 entertainment recommendation systems: netflix, spotify, and youtube use ai to recommend content based on user behavior.\n",
            "\n",
            "\n",
            "Content generation: ai creates music, art, and even movie scripts, blurring the lines between human and machine creativity.\n",
            "\n",
            "\n",
            "Challenges and limitations of aidespite its progress, ai faces significant challenges: 4.\n",
            "\n",
            "\n",
            "1 data dependency ai models require large datasets for training.\n",
            "\n",
            "\n",
            "Poor-quality, biased, or insufficient data can lead to inaccurate results.\n",
            "\n",
            "\n",
            "2 interpretability and explainability many ai models, especially deep neural networks, function as \"black boxes\" — their decision-making processes are not easily interpretable by humans.\n",
            "\n",
            "\n",
            "This raises trust and accountability issues, particularly in critical fields like healthcare and criminal justice.\n",
            "\n",
            "\n",
            "3 ethical and social implications bias and fairness: ai can inherit biases present in the training data, leading to unfair decisions in hiring, lending, or law enforcement.\n",
            "\n",
            "\n",
            "Job displacement: automation powered by ai may eliminate certain jobs, particularly in manufacturing and customer service.\n",
            "\n",
            "\n",
            "However, it may also create new roles that require human creativity and oversight.\n",
            "\n",
            "\n",
            "Privacy: ai systems often require extensive personal data, posing risks to user privacy and data security.\n",
            "\n",
            "\n",
            "The future of ai ai’s future holds extraordinary possibilities, including: 5.\n",
            "\n",
            "\n",
            "1 artificial general intelligence (agi) current ai systems, known as narrow ai, excel at specific tasks.\n",
            "\n",
            "\n",
            "Agi, however, refers to machines with human-like intelligence, capable of performing any intellectual task a human can do.\n",
            "\n",
            "\n",
            "Although agi remains theoretical, research continues.\n",
            "\n",
            "\n",
            "2 ai and quantum computing quantum computing has the potential to revolutionize ai by solving problems that are infeasible for classical computers.\n",
            "\n",
            "\n",
            "This could accelerate breakthroughs in drug discovery, climate modeling, and cryptography.\n",
            "\n",
            "\n",
            "3 human-ai collaboration future ai systems are expected to work alongside humans rather than replace them.\n",
            "\n",
            "\n",
            "Ai could handle repetitive tasks while humans focus on creativity, strategy, and empathy — qualities machines lack.\n",
            "\n",
            "\n",
            "Conclusion artificial intelligence is redefining our world.\n",
            "\n",
            "\n",
            "From healthcare to entertainment, it enhances efficiency, personalizes experiences, and solves complex problems.\n",
            "\n",
            "\n",
            "Yet, its challenges — data dependency, bias, and ethical concerns — require thoughtful management.\n",
            "\n",
            "\n",
            "With responsible development, ai holds the promise of a smarter, more connected, and equitable future.\n",
            "\n",
            "\n"
          ]
        }
      ],
      "source": [
        "import re\n",
        "\n",
        "\n",
        "def tokenize_sentences_regex(text_list):\n",
        "    pattern = r'(?<!\\w\\.\\w.)(?<![A-Z][a-z]\\.)(?<=\\.|\\?|\\!)\\s'\n",
        "    long_sentences = []\n",
        "    for paragraph in text_list:\n",
        "        tot_sentence = []\n",
        "        sentences = re.split(pattern, paragraph[0])\n",
        "        for sentence in sentences:\n",
        "            if len(sentence) > 10:\n",
        "                tot_sentence.append(sentence)\n",
        "        long_sentences.append(tot_sentence)\n",
        "    return long_sentences\n",
        "\n",
        "# Tokenize sentences using regex for each paragraph in text_list\n",
        "long_sentences = tokenize_sentences_regex(text_list)\n",
        "\n",
        "print(long_sentences)\n",
        "# Print the tokenized sentences longer than 10 characters\n",
        "for sentence in long_sentences:\n",
        "  for word in sentence:\n",
        "    print(word)\n",
        "    print('\\n')\n"
      ]
    },
    {
      "cell_type": "code",
      "execution_count": null,
      "metadata": {
        "id": "l29orqCnmlbG",
        "colab": {
          "base_uri": "https://localhost:8080/"
        },
        "outputId": "87b31cba-0745-41de-81db-482de7a8dd64"
      },
      "outputs": [
        {
          "output_type": "execute_result",
          "data": {
            "text/plain": [
              "[['\\xa0 artificial intelligence: the engine of the future 1.',\n",
              "  'Introduction to artificial intelligence (ai) artificial intelligence (ai) is a branch of computer science that aims to create machines capable of performing tasks that typically require human intelligence.',\n",
              "  'These tasks include learning from data, recognizing speech and images, understanding natural language, solving problems, and making decisions.',\n",
              "  'Ai systems can adapt and improve over time, often outperforming humans in specific tasks by processing vast amounts of information quickly and accurately.',\n",
              "  'The term \"artificial intelligence\" was coined by john mccarthy in 1956, marking the beginning of ai as an academic discipline.',\n",
              "  'Over the decades, ai has evolved from simple rule-based programs to complex neural networks and autonomous systems, driven by breakthroughs in computing power, algorithms, and data availability.',\n",
              "  'Key components of ai modern ai consists of several interconnected disciplines: 2.',\n",
              "  '1 machine learning (ml) machine learning is a subset of ai that enables systems to learn from data without being explicitly programmed.',\n",
              "  'It’s based on statistical techniques that allow machines to improve performance as they are exposed to more data.',\n",
              "  'Supervised learning: the model learns from labeled data.',\n",
              "  'For example, a spam filter learns to differentiate between spam and legitimate emails by analyzing thousands of labeled examples.',\n",
              "  'Unsupervised learning: the model finds patterns in unlabeled data, like grouping similar customer behaviors for marketing strategies.',\n",
              "  'Reinforcement learning: the model learns by interacting with its environment, receiving rewards for desirable actions — a technique used in game ai and robotics.',\n",
              "  '2 deep learning deep learning, a powerful form of machine learning, uses neural networks with multiple layers (\"deep\" networks) to analyze data.',\n",
              "  'Inspired by the human brain, these networks process raw data like images, sound, or text to automatically extract patterns and insights.',\n",
              "  'Deep learning has fueled breakthroughs in computer vision, speech recognition, and natural language processing.',\n",
              "  '3 natural language processing (nlp) nlp enables machines to understand, interpret, and generate human language.',\n",
              "  'This technology powers virtual assistants like siri and alexa, language translation tools, sentiment analysis, and automated content generation.',\n",
              "  \"Advances in transformer models like bert and gpt have dramatically improved ai's ability to handle nuanced language.\",\n",
              "  '4 computer vision computer vision allows ai systems to interpret and analyze visual data — images and videos.',\n",
              "  'This technology is essential in applications like facial recognition, medical imaging, autonomous vehicles, and even agriculture (e.',\n",
              "  ', identifying crop diseases).',\n",
              "  '5 robotics ai-powered robots combine physical capabilities with intelligent behavior.',\n",
              "  'They’re designed for tasks ranging from manufacturing and logistics to space exploration and surgical assistance.',\n",
              "  \"Boston dynamics' robots, for instance, showcase advanced movement, balance, and decision-making abilities.\",\n",
              "  ' real-world applications of ai ai is transforming industries, reshaping how we work, live, and interact.',\n",
              "  'Let’s explore some key sectors: 3.',\n",
              "  '1 healthcare disease diagnosis: ai systems analyze medical images (e.',\n",
              "  ', x-rays, ct scans) to detect conditions like cancer with higher accuracy and speed than human doctors.',\n",
              "  'Drug discovery: machine learning accelerates the development of new drugs by simulating molecular interactions.',\n",
              "  'Personalized medicine: ai tailors treatments based on individual genetic profiles and medical histories.',\n",
              "  \"2 education adaptive learning platforms: ai personalizes lessons to match each student's pace and learning style, improving engagement and outcomes.\",\n",
              "  'Automated grading: ai reduces the burden on teachers by grading essays and quizzes.',\n",
              "  'Virtual tutors: intelligent tutoring systems provide instant, personalized feedback to students.'],\n",
              " ['Algorithmic trading: financial institutions use ai algorithms to make rapid, data-driven investment decisions.',\n",
              "  'Customer service: chatbots and virtual assistants handle customer queries efficiently, enhancing user experience.',\n",
              "  '4 transportation autonomous vehicles: self-driving cars from companies like tesla and waymo rely on ai to navigate roads safely.',\n",
              "  'Traffic management: ai optimizes traffic flow in cities, reducing congestion and emissions.',\n",
              "  '5 entertainment recommendation systems: netflix, spotify, and youtube use ai to recommend content based on user behavior.',\n",
              "  'Content generation: ai creates music, art, and even movie scripts, blurring the lines between human and machine creativity.',\n",
              "  'Challenges and limitations of aidespite its progress, ai faces significant challenges: 4.',\n",
              "  '1 data dependency ai models require large datasets for training.',\n",
              "  'Poor-quality, biased, or insufficient data can lead to inaccurate results.',\n",
              "  '2 interpretability and explainability many ai models, especially deep neural networks, function as \"black boxes\" — their decision-making processes are not easily interpretable by humans.',\n",
              "  'This raises trust and accountability issues, particularly in critical fields like healthcare and criminal justice.',\n",
              "  '3 ethical and social implications bias and fairness: ai can inherit biases present in the training data, leading to unfair decisions in hiring, lending, or law enforcement.',\n",
              "  'Job displacement: automation powered by ai may eliminate certain jobs, particularly in manufacturing and customer service.',\n",
              "  'However, it may also create new roles that require human creativity and oversight.',\n",
              "  'Privacy: ai systems often require extensive personal data, posing risks to user privacy and data security.',\n",
              "  'The future of ai ai’s future holds extraordinary possibilities, including: 5.',\n",
              "  '1 artificial general intelligence (agi) current ai systems, known as narrow ai, excel at specific tasks.',\n",
              "  'Agi, however, refers to machines with human-like intelligence, capable of performing any intellectual task a human can do.',\n",
              "  'Although agi remains theoretical, research continues.',\n",
              "  '2 ai and quantum computing quantum computing has the potential to revolutionize ai by solving problems that are infeasible for classical computers.',\n",
              "  'This could accelerate breakthroughs in drug discovery, climate modeling, and cryptography.',\n",
              "  '3 human-ai collaboration future ai systems are expected to work alongside humans rather than replace them.',\n",
              "  'Ai could handle repetitive tasks while humans focus on creativity, strategy, and empathy — qualities machines lack.',\n",
              "  'Conclusion artificial intelligence is redefining our world.',\n",
              "  'From healthcare to entertainment, it enhances efficiency, personalizes experiences, and solves complex problems.',\n",
              "  'Yet, its challenges — data dependency, bias, and ethical concerns — require thoughtful management.',\n",
              "  'With responsible development, ai holds the promise of a smarter, more connected, and equitable future.']]"
            ]
          },
          "metadata": {},
          "execution_count": 29
        }
      ],
      "source": [
        "long_sentences"
      ]
    },
    {
      "cell_type": "code",
      "execution_count": null,
      "metadata": {
        "id": "eDArSscpwPGq",
        "colab": {
          "base_uri": "https://localhost:8080/"
        },
        "outputId": "12dfb9dc-dcc7-494f-a0df-893bc808ebdb"
      },
      "outputs": [
        {
          "output_type": "stream",
          "name": "stdout",
          "text": [
            "[{'\\xa0 artificial intelligence: the engine of the future 1.': 0.5384615384615385, 'Introduction to artificial intelligence (ai) artificial intelligence (ai) is a branch of computer science that aims to create machines capable of performing tasks that typically require human intelligence.': 2.923076923076924, 'These tasks include learning from data, recognizing speech and images, understanding natural language, solving problems, and making decisions.': 2.230769230769231, 'Ai systems can adapt and improve over time, often outperforming humans in specific tasks by processing vast amounts of information quickly and accurately.': 2.76923076923077, 'The term \"artificial intelligence\" was coined by john mccarthy in 1956, marking the beginning of ai as an academic discipline.': 1.846153846153846, 'Over the decades, ai has evolved from simple rule-based programs to complex neural networks and autonomous systems, driven by breakthroughs in computing power, algorithms, and data availability.': 2.923076923076924, 'Key components of ai modern ai consists of several interconnected disciplines: 2.': 2.923076923076924, '1 machine learning (ml) machine learning is a subset of ai that enables systems to learn from data without being explicitly programmed.': 4.230769230769231, 'It’s based on statistical techniques that allow machines to improve performance as they are exposed to more data.': 1.153846153846154, 'Supervised learning: the model learns from labeled data.': 1.0769230769230769, 'For example, a spam filter learns to differentiate between spam and legitimate emails by analyzing thousands of labeled examples.': 1.3076923076923077, 'Unsupervised learning: the model finds patterns in unlabeled data, like grouping similar customer behaviors for marketing strategies.': 1.846153846153846, 'Reinforcement learning: the model learns by interacting with its environment, receiving rewards for desirable actions — a technique used in game ai and robotics.': 2.5384615384615383, '2 deep learning deep learning, a powerful form of machine learning, uses neural networks with multiple layers (\"deep\" networks) to analyze data.': 3.076923076923078, 'Inspired by the human brain, these networks process raw data like images, sound, or text to automatically extract patterns and insights.': 2.2307692307692304, 'Deep learning has fueled breakthroughs in computer vision, speech recognition, and natural language processing.': 2.230769230769231, '3 natural language processing (nlp) nlp enables machines to understand, interpret, and generate human language.': 1.923076923076923, 'This technology powers virtual assistants like siri and alexa, language translation tools, sentiment analysis, and automated content generation.': 1.769230769230769, \"Advances in transformer models like bert and gpt have dramatically improved ai's ability to handle nuanced language.\": 1.3846153846153841, '4 computer vision computer vision allows ai systems to interpret and analyze visual data — images and videos.': 3.5384615384615388, 'This technology is essential in applications like facial recognition, medical imaging, autonomous vehicles, and even agriculture (e.': 1.8461538461538463, ', identifying crop diseases).': 0.23076923076923078, '5 robotics ai-powered robots combine physical capabilities with intelligent behavior.': 0.7692307692307694, 'They’re designed for tasks ranging from manufacturing and logistics to space exploration and surgical assistance.': 0.9230769230769229, \"Boston dynamics' robots, for instance, showcase advanced movement, balance, and decision-making abilities.\": 0.6923076923076923, ' real-world applications of ai ai is transforming industries, reshaping how we work, live, and interact.': 2.6923076923076934, 'Let’s explore some key sectors: 3.': 0.46153846153846156, '1 healthcare disease diagnosis: ai systems analyze medical images (e.': 2.5384615384615383, ', x-rays, ct scans) to detect conditions like cancer with higher accuracy and speed than human doctors.': 1.5384615384615383, 'Drug discovery: machine learning accelerates the development of new drugs by simulating molecular interactions.': 1.538461538461538, 'Personalized medicine: ai tailors treatments based on individual genetic profiles and medical histories.': 1.9999999999999996, \"2 education adaptive learning platforms: ai personalizes lessons to match each student's pace and learning style, improving engagement and outcomes.\": 3.3076923076923093, 'Automated grading: ai reduces the burden on teachers by grading essays and quizzes.': 1.615384615384615, 'Virtual tutors: intelligent tutoring systems provide instant, personalized feedback to students.': 1.1538461538461537}, {'Algorithmic trading: financial institutions use ai algorithms to make rapid, data-driven investment decisions.': 1.588235294117647, 'Customer service: chatbots and virtual assistants handle customer queries efficiently, enhancing user experience.': 1.0, '4 transportation autonomous vehicles: self-driving cars from companies like tesla and waymo rely on ai to navigate roads safely.': 1.8823529411764708, 'Traffic management: ai optimizes traffic flow in cities, reducing congestion and emissions.': 1.5294117647058825, '5 entertainment recommendation systems: netflix, spotify, and youtube use ai to recommend content based on user behavior.': 1.9411764705882353, 'Content generation: ai creates music, art, and even movie scripts, blurring the lines between human and machine creativity.': 1.823529411764706, 'Challenges and limitations of aidespite its progress, ai faces significant challenges: 4.': 1.647058823529412, '1 data dependency ai models require large datasets for training.': 1.8823529411764706, 'Poor-quality, biased, or insufficient data can lead to inaccurate results.': 0.5294117647058824, '2 interpretability and explainability many ai models, especially deep neural networks, function as \"black boxes\" — their decision-making processes are not easily interpretable by humans.': 2.235294117647058, 'This raises trust and accountability issues, particularly in critical fields like healthcare and criminal justice.': 0.823529411764706, '3 ethical and social implications bias and fairness: ai can inherit biases present in the training data, leading to unfair decisions in hiring, lending, or law enforcement.': 2.235294117647058, 'Job displacement: automation powered by ai may eliminate certain jobs, particularly in manufacturing and customer service.': 1.7058823529411766, 'However, it may also create new roles that require human creativity and oversight.': 0.7647058823529412, 'Privacy: ai systems often require extensive personal data, posing risks to user privacy and data security.': 2.235294117647059, 'The future of ai ai’s future holds extraordinary possibilities, including: 5.': 1.9411764705882355, '1 artificial general intelligence (agi) current ai systems, known as narrow ai, excel at specific tasks.': 1.9411764705882353, 'Agi, however, refers to machines with human-like intelligence, capable of performing any intellectual task a human can do.': 0.823529411764706, 'Although agi remains theoretical, research continues.': 0.29411764705882354, '2 ai and quantum computing quantum computing has the potential to revolutionize ai by solving problems that are infeasible for classical computers.': 2.999999999999999, 'This could accelerate breakthroughs in drug discovery, climate modeling, and cryptography.': 0.411764705882353, '3 human-ai collaboration future ai systems are expected to work alongside humans rather than replace them.': 1.9411764705882353, 'Ai could handle repetitive tasks while humans focus on creativity, strategy, and empathy — qualities machines lack.': 2.0588235294117645, 'Conclusion artificial intelligence is redefining our world.': 0.35294117647058826, 'From healthcare to entertainment, it enhances efficiency, personalizes experiences, and solves complex problems.': 0.5882352941176471, 'Yet, its challenges — data dependency, bias, and ethical concerns — require thoughtful management.': 1.411764705882353, 'With responsible development, ai holds the promise of a smarter, more connected, and equitable future.': 1.5294117647058825}]\n"
          ]
        }
      ],
      "source": [
        "sentence_scores = []\n",
        "\n",
        "for sublist, word_freq in zip(long_sentences, word_freq_list):\n",
        "    nested_dict = {}\n",
        "    for sentence in sublist:\n",
        "        score = sum(word_freq.get(word.lower(), 0) for word in sentence.split())\n",
        "        nested_dict[sentence] = score\n",
        "    sentence_scores.append(nested_dict)\n",
        "\n",
        "print(sentence_scores)\n"
      ]
    },
    {
      "cell_type": "code",
      "execution_count": null,
      "metadata": {
        "id": "ndqC0kTuwR7r",
        "colab": {
          "base_uri": "https://localhost:8080/"
        },
        "outputId": "224b2736-f3b3-4aa4-f6d5-e8c9d5dc598e"
      },
      "outputs": [
        {
          "output_type": "execute_result",
          "data": {
            "text/plain": [
              "[{'\\xa0 artificial intelligence: the engine of the future 1.': 0.5384615384615385,\n",
              "  'Introduction to artificial intelligence (ai) artificial intelligence (ai) is a branch of computer science that aims to create machines capable of performing tasks that typically require human intelligence.': 2.923076923076924,\n",
              "  'These tasks include learning from data, recognizing speech and images, understanding natural language, solving problems, and making decisions.': 2.230769230769231,\n",
              "  'Ai systems can adapt and improve over time, often outperforming humans in specific tasks by processing vast amounts of information quickly and accurately.': 2.76923076923077,\n",
              "  'The term \"artificial intelligence\" was coined by john mccarthy in 1956, marking the beginning of ai as an academic discipline.': 1.846153846153846,\n",
              "  'Over the decades, ai has evolved from simple rule-based programs to complex neural networks and autonomous systems, driven by breakthroughs in computing power, algorithms, and data availability.': 2.923076923076924,\n",
              "  'Key components of ai modern ai consists of several interconnected disciplines: 2.': 2.923076923076924,\n",
              "  '1 machine learning (ml) machine learning is a subset of ai that enables systems to learn from data without being explicitly programmed.': 4.230769230769231,\n",
              "  'It’s based on statistical techniques that allow machines to improve performance as they are exposed to more data.': 1.153846153846154,\n",
              "  'Supervised learning: the model learns from labeled data.': 1.0769230769230769,\n",
              "  'For example, a spam filter learns to differentiate between spam and legitimate emails by analyzing thousands of labeled examples.': 1.3076923076923077,\n",
              "  'Unsupervised learning: the model finds patterns in unlabeled data, like grouping similar customer behaviors for marketing strategies.': 1.846153846153846,\n",
              "  'Reinforcement learning: the model learns by interacting with its environment, receiving rewards for desirable actions — a technique used in game ai and robotics.': 2.5384615384615383,\n",
              "  '2 deep learning deep learning, a powerful form of machine learning, uses neural networks with multiple layers (\"deep\" networks) to analyze data.': 3.076923076923078,\n",
              "  'Inspired by the human brain, these networks process raw data like images, sound, or text to automatically extract patterns and insights.': 2.2307692307692304,\n",
              "  'Deep learning has fueled breakthroughs in computer vision, speech recognition, and natural language processing.': 2.230769230769231,\n",
              "  '3 natural language processing (nlp) nlp enables machines to understand, interpret, and generate human language.': 1.923076923076923,\n",
              "  'This technology powers virtual assistants like siri and alexa, language translation tools, sentiment analysis, and automated content generation.': 1.769230769230769,\n",
              "  \"Advances in transformer models like bert and gpt have dramatically improved ai's ability to handle nuanced language.\": 1.3846153846153841,\n",
              "  '4 computer vision computer vision allows ai systems to interpret and analyze visual data — images and videos.': 3.5384615384615388,\n",
              "  'This technology is essential in applications like facial recognition, medical imaging, autonomous vehicles, and even agriculture (e.': 1.8461538461538463,\n",
              "  ', identifying crop diseases).': 0.23076923076923078,\n",
              "  '5 robotics ai-powered robots combine physical capabilities with intelligent behavior.': 0.7692307692307694,\n",
              "  'They’re designed for tasks ranging from manufacturing and logistics to space exploration and surgical assistance.': 0.9230769230769229,\n",
              "  \"Boston dynamics' robots, for instance, showcase advanced movement, balance, and decision-making abilities.\": 0.6923076923076923,\n",
              "  ' real-world applications of ai ai is transforming industries, reshaping how we work, live, and interact.': 2.6923076923076934,\n",
              "  'Let’s explore some key sectors: 3.': 0.46153846153846156,\n",
              "  '1 healthcare disease diagnosis: ai systems analyze medical images (e.': 2.5384615384615383,\n",
              "  ', x-rays, ct scans) to detect conditions like cancer with higher accuracy and speed than human doctors.': 1.5384615384615383,\n",
              "  'Drug discovery: machine learning accelerates the development of new drugs by simulating molecular interactions.': 1.538461538461538,\n",
              "  'Personalized medicine: ai tailors treatments based on individual genetic profiles and medical histories.': 1.9999999999999996,\n",
              "  \"2 education adaptive learning platforms: ai personalizes lessons to match each student's pace and learning style, improving engagement and outcomes.\": 3.3076923076923093,\n",
              "  'Automated grading: ai reduces the burden on teachers by grading essays and quizzes.': 1.615384615384615,\n",
              "  'Virtual tutors: intelligent tutoring systems provide instant, personalized feedback to students.': 1.1538461538461537},\n",
              " {'Algorithmic trading: financial institutions use ai algorithms to make rapid, data-driven investment decisions.': 1.588235294117647,\n",
              "  'Customer service: chatbots and virtual assistants handle customer queries efficiently, enhancing user experience.': 1.0,\n",
              "  '4 transportation autonomous vehicles: self-driving cars from companies like tesla and waymo rely on ai to navigate roads safely.': 1.8823529411764708,\n",
              "  'Traffic management: ai optimizes traffic flow in cities, reducing congestion and emissions.': 1.5294117647058825,\n",
              "  '5 entertainment recommendation systems: netflix, spotify, and youtube use ai to recommend content based on user behavior.': 1.9411764705882353,\n",
              "  'Content generation: ai creates music, art, and even movie scripts, blurring the lines between human and machine creativity.': 1.823529411764706,\n",
              "  'Challenges and limitations of aidespite its progress, ai faces significant challenges: 4.': 1.647058823529412,\n",
              "  '1 data dependency ai models require large datasets for training.': 1.8823529411764706,\n",
              "  'Poor-quality, biased, or insufficient data can lead to inaccurate results.': 0.5294117647058824,\n",
              "  '2 interpretability and explainability many ai models, especially deep neural networks, function as \"black boxes\" — their decision-making processes are not easily interpretable by humans.': 2.235294117647058,\n",
              "  'This raises trust and accountability issues, particularly in critical fields like healthcare and criminal justice.': 0.823529411764706,\n",
              "  '3 ethical and social implications bias and fairness: ai can inherit biases present in the training data, leading to unfair decisions in hiring, lending, or law enforcement.': 2.235294117647058,\n",
              "  'Job displacement: automation powered by ai may eliminate certain jobs, particularly in manufacturing and customer service.': 1.7058823529411766,\n",
              "  'However, it may also create new roles that require human creativity and oversight.': 0.7647058823529412,\n",
              "  'Privacy: ai systems often require extensive personal data, posing risks to user privacy and data security.': 2.235294117647059,\n",
              "  'The future of ai ai’s future holds extraordinary possibilities, including: 5.': 1.9411764705882355,\n",
              "  '1 artificial general intelligence (agi) current ai systems, known as narrow ai, excel at specific tasks.': 1.9411764705882353,\n",
              "  'Agi, however, refers to machines with human-like intelligence, capable of performing any intellectual task a human can do.': 0.823529411764706,\n",
              "  'Although agi remains theoretical, research continues.': 0.29411764705882354,\n",
              "  '2 ai and quantum computing quantum computing has the potential to revolutionize ai by solving problems that are infeasible for classical computers.': 2.999999999999999,\n",
              "  'This could accelerate breakthroughs in drug discovery, climate modeling, and cryptography.': 0.411764705882353,\n",
              "  '3 human-ai collaboration future ai systems are expected to work alongside humans rather than replace them.': 1.9411764705882353,\n",
              "  'Ai could handle repetitive tasks while humans focus on creativity, strategy, and empathy — qualities machines lack.': 2.0588235294117645,\n",
              "  'Conclusion artificial intelligence is redefining our world.': 0.35294117647058826,\n",
              "  'From healthcare to entertainment, it enhances efficiency, personalizes experiences, and solves complex problems.': 0.5882352941176471,\n",
              "  'Yet, its challenges — data dependency, bias, and ethical concerns — require thoughtful management.': 1.411764705882353,\n",
              "  'With responsible development, ai holds the promise of a smarter, more connected, and equitable future.': 1.5294117647058825}]"
            ]
          },
          "metadata": {},
          "execution_count": 31
        }
      ],
      "source": [
        "sentence_scores"
      ]
    },
    {
      "cell_type": "code",
      "execution_count": null,
      "metadata": {
        "id": "oT82k-OumlS-"
      },
      "outputs": [],
      "source": [
        "# select_length = int(len(sentence_tokens)*0.2)\n",
        "# select_length"
      ]
    },
    {
      "cell_type": "code",
      "execution_count": null,
      "metadata": {
        "id": "-TAm7_j01qRT"
      },
      "outputs": [],
      "source": []
    },
    {
      "cell_type": "code",
      "execution_count": null,
      "metadata": {
        "id": "PeZzmEiUmlQu",
        "colab": {
          "base_uri": "https://localhost:8080/"
        },
        "outputId": "6833504c-8d5e-4223-df93-d2ff6ad53277"
      },
      "outputs": [
        {
          "output_type": "stream",
          "name": "stdout",
          "text": [
            "Summary for nested list 1:\n",
            "1 machine learning (ml) machine learning is a subset of ai that enables systems to learn from data without being explicitly programmed.\n",
            "4 computer vision computer vision allows ai systems to interpret and analyze visual data — images and videos.\n",
            "2 education adaptive learning platforms: ai personalizes lessons to match each student's pace and learning style, improving engagement and outcomes.\n",
            "\n",
            "Summary for nested list 2:\n",
            "2 ai and quantum computing quantum computing has the potential to revolutionize ai by solving problems that are infeasible for classical computers.\n",
            "Privacy: ai systems often require extensive personal data, posing risks to user privacy and data security.\n",
            "2 interpretability and explainability many ai models, especially deep neural networks, function as \"black boxes\" — their decision-making processes are not easily interpretable by humans.\n",
            "\n"
          ]
        }
      ],
      "source": [
        "from heapq import nlargest\n",
        "\n",
        "def generate_summary(sentence_scores):\n",
        "    # Selecting the top sentences based on scores\n",
        "    summary = nlargest(3, sentence_scores, key=lambda x: sentence_scores[x])\n",
        "\n",
        "    # Extracting only the sentences from the summary\n",
        "    summary_sentences = [sentence for sentence in summary]\n",
        "\n",
        "    return summary_sentences\n",
        "\n",
        "# Generating summaries for all nested lists\n",
        "summaries = []\n",
        "for sentence_scores in sentence_scores:\n",
        "    summary = generate_summary(sentence_scores)\n",
        "    summaries.append(summary)\n",
        "\n",
        "# Printing the summaries\n",
        "for idx, summary in enumerate(summaries, 1):\n",
        "    print(f\"Summary for nested list {idx}:\")\n",
        "    for sentence in summary:\n",
        "        print(sentence)\n",
        "    print()\n",
        "\n"
      ]
    },
    {
      "cell_type": "code",
      "execution_count": null,
      "metadata": {
        "id": "mgcTNjY-mlMu",
        "colab": {
          "base_uri": "https://localhost:8080/",
          "height": 109
        },
        "outputId": "7b2e8755-f8bf-41f4-b27f-38ef824ac0c5"
      },
      "outputs": [
        {
          "output_type": "execute_result",
          "data": {
            "text/plain": [
              "'\\xa0 Artificial Intelligence: The Engine of the Future 1. Introduction to Artificial Intelligence (AI) Artificial Intelligence (AI) is a branch of computer science that aims to create machines capable of performing tasks that typically require human intelligence. These tasks include learning from data, recognizing speech and images, understanding natural language, solving problems, and making decisions. AI systems can adapt and improve over time, often outperforming humans in specific tasks by processing vast amounts of information quickly and accurately. The term \"Artificial Intelligence\" was coined by John McCarthy in 1956, marking the beginning of AI as an academic discipline. Over the decades, AI has evolved from simple rule-based programs to complex neural networks and autonomous systems, driven by breakthroughs in computing power, algorithms, and data availability.  2. Key Components of AI Modern AI consists of several interconnected disciplines: 2.1 Machine Learning (ML) Machine learning is a subset of AI that enables systems to learn from data without being explicitly programmed. It’s based on statistical techniques that allow machines to improve performance as they are exposed to more data. Supervised Learning: The model learns from labeled data. For example, a spam filter learns to differentiate between spam and legitimate emails by analyzing thousands of labeled examples.Unsupervised Learning: The model finds patterns in unlabeled data, like grouping similar customer behaviors for marketing strategies.Reinforcement Learning: The model learns by interacting with its environment, receiving rewards for desirable actions — a technique used in game AI and robotics. 2.2 Deep Learning Deep learning, a powerful form of machine learning, uses neural networks with multiple layers (\"deep\" networks) to analyze data. Inspired by the human brain, these networks process raw data like images, sound, or text to automatically extract patterns and insights. Deep learning has fueled breakthroughs in computer vision, speech recognition, and natural language processing. 2.3 Natural Language Processing (NLP) NLP enables machines to understand, interpret, and generate human language. This technology powers virtual assistants like Siri and Alexa, language translation tools, sentiment analysis, and automated content generation. Advances in transformer models like BERT and GPT have dramatically improved AI\\'s ability to handle nuanced language. 2.4 Computer Vision Computer vision allows AI systems to interpret and analyze visual data — images and videos. This technology is essential in applications like facial recognition, medical imaging, autonomous vehicles, and even agriculture (e.g., identifying crop diseases). 2.5 Robotics AI-powered robots combine physical capabilities with intelligent behavior. They’re designed for tasks ranging from manufacturing and logistics to space exploration and surgical assistance. Boston Dynamics\\' robots, for instance, showcase advanced movement, balance, and decision-making abilities. 3. Real-World Applications of AI AI is transforming industries, reshaping how we work, live, and interact. Let’s explore some key sectors: 3.1 Healthcare Disease Diagnosis: AI systems analyze medical images (e.g., X-rays, CT scans) to detect conditions like cancer with higher accuracy and speed than human doctors.Drug Discovery: Machine learning accelerates the development of new drugs by simulating molecular interactions.Personalized Medicine: AI tailors treatments based on individual genetic profiles and medical histories. 3.2 Education Adaptive Learning Platforms: AI personalizes lessons to match each student\\'s pace and learning style, improving engagement and outcomes.Automated Grading: AI reduces the burden on teachers by grading essays and quizzes.Virtual Tutors: Intelligent tutoring systems provide instant, personalized feedback to students. 3.3 Business and FinancePage N04 Fraud Detection: AI identifies unusual patterns in financial transactions, preventing credit card fraud and money laundering.Algorithmic Trading: Financial institutions use AI algorithms to make rapid, data-driven investment decisions.Customer Service: Chatbots and virtual assistants handle customer queries efficiently, enhancing user experience. 3.4 Transportation Autonomous Vehicles: Self-driving cars from companies like Tesla and Waymo rely on AI to navigate roads safely.Traffic Management: AI optimizes traffic flow in cities, reducing congestion and emissions. 3.5 Entertainment Recommendation Systems: Netflix, Spotify, and YouTube use AI to recommend content based on user behavior.Content Generation: AI creates music, art, and even movie scripts, blurring the lines between human and machine creativity. 4. Challenges and Limitations of AI Despite its progress, AI faces significant challenges: 4.1 Data Dependency AI models require large datasets for training. Poor-quality, biased, or insufficient data can lead to inaccurate results. 4.2 Interpretability and Explainability Many AI models, especially deep neural networks, function as \"black boxes\" — their decision-making processes are not easily interpretable by humans. This raises trust and accountability issues, particularly in critical fields like healthcare and criminal justice. 4.3 Ethical and Social Implications Bias and Fairness: AI can inherit biases present in the training data, leading to unfair decisions in hiring, lending, or law enforcement.Job Displacement: Automation powered by AI may eliminate certain jobs, particularly in manufacturing and customer service. However, it may also create new roles that require human creativity and oversight.Privacy: AI systems often require extensive personal data, posing risks to user privacy and data security. 5. The Future of AI AI’s future holds extraordinary possibilities, including: 5.1 Artificial General Intelligence (AGI) Current AI systems, known as narrow AI, excel at specific tasks. AGI, however, refers to machines with human-like intelligence, capable of performing any intellectual task a human can do. Although AGI remains theoretical, research continues. 5.2 AI and Quantum Computing Quantum computing has the potential to revolutionize AI by solving problems that are infeasible for classical computers. This could accelerate breakthroughs in drug discovery, climate modeling, and cryptography. 5.3 Human-AI Collaboration Future AI systems are expected to work alongside humans rather than replace them. AI could handle repetitive tasks while humans focus on creativity, strategy, and empathy — qualities machines lack. 6. Conclusion Artificial Intelligence is redefining our world. From healthcare to entertainment, it enhances efficiency, personalizes experiences, and solves complex problems. Yet, its challenges — data dependency, bias, and ethical concerns — require thoughtful management. With responsible development, AI holds the promise of a smarter, more connected, and equitable future.'"
            ],
            "application/vnd.google.colaboratory.intrinsic+json": {
              "type": "string"
            }
          },
          "metadata": {},
          "execution_count": 34
        }
      ],
      "source": [
        "text"
      ]
    },
    {
      "cell_type": "code",
      "execution_count": null,
      "metadata": {
        "id": "6va50lP34t3Z",
        "colab": {
          "base_uri": "https://localhost:8080/"
        },
        "outputId": "e4a18cb4-99eb-49e7-ee00-8a30bf765aae"
      },
      "outputs": [
        {
          "output_type": "stream",
          "name": "stdout",
          "text": [
            "['1 machine learning (ml) machine learning is a subset of ai that enables systems to learn from data without being explicitly programmed.', '4 computer vision computer vision allows ai systems to interpret and analyze visual data — images and videos.', \"2 education adaptive learning platforms: ai personalizes lessons to match each student's pace and learning style, improving engagement and outcomes.\"]\n",
            "['2 ai and quantum computing quantum computing has the potential to revolutionize ai by solving problems that are infeasible for classical computers.', 'Privacy: ai systems often require extensive personal data, posing risks to user privacy and data security.', '2 interpretability and explainability many ai models, especially deep neural networks, function as \"black boxes\" — their decision-making processes are not easily interpretable by humans.']\n"
          ]
        }
      ],
      "source": [
        "for i in summaries:\n",
        "  print(i)"
      ]
    },
    {
      "cell_type": "code",
      "execution_count": null,
      "metadata": {
        "id": "UTIgfZx0mlKu",
        "colab": {
          "base_uri": "https://localhost:8080/"
        },
        "outputId": "80f8f33d-1be2-47c0-d63d-fe8ee3138a86"
      },
      "outputs": [
        {
          "output_type": "stream",
          "name": "stdout",
          "text": [
            "1 machine learning (ml) machine learning is a subset of ai that enables systems to learn from data without being explicitly programmed.\n",
            "4 computer vision computer vision allows ai systems to interpret and analyze visual data — images and videos.\n",
            "2 education adaptive learning platforms: ai personalizes lessons to match each student's pace and learning style, improving engagement and outcomes.\n",
            "2 ai and quantum computing quantum computing has the potential to revolutionize ai by solving problems that are infeasible for classical computers.\n",
            "Privacy: ai systems often require extensive personal data, posing risks to user privacy and data security.\n",
            "2 interpretability and explainability many ai models, especially deep neural networks, function as \"black boxes\" — their decision-making processes are not easily interpretable by humans.\n"
          ]
        }
      ],
      "source": [
        "for i in summaries:\n",
        "  for j in i:\n",
        "    print(j)"
      ]
    },
    {
      "cell_type": "code",
      "execution_count": null,
      "metadata": {
        "id": "E-n40KehBTOy",
        "colab": {
          "base_uri": "https://localhost:8080/"
        },
        "outputId": "656bfc52-accd-4f1c-e13b-f1f5a26158e8"
      },
      "outputs": [
        {
          "output_type": "execute_result",
          "data": {
            "text/plain": [
              "[['\\xa0 artificial intelligence: the engine of the future 1. Introduction to artificial intelligence (ai) artificial intelligence (ai) is a branch of computer science that aims to create machines capable of performing tasks that typically require human intelligence. These tasks include learning from data, recognizing speech and images, understanding natural language, solving problems, and making decisions. Ai systems can adapt and improve over time, often outperforming humans in specific tasks by processing vast amounts of information quickly and accurately. The term \"artificial intelligence\" was coined by john mccarthy in 1956, marking the beginning of ai as an academic discipline. Over the decades, ai has evolved from simple rule-based programs to complex neural networks and autonomous systems, driven by breakthroughs in computing power, algorithms, and data availability.   2. Key components of ai modern ai consists of several interconnected disciplines: 2. 1 machine learning (ml) machine learning is a subset of ai that enables systems to learn from data without being explicitly programmed. It’s based on statistical techniques that allow machines to improve performance as they are exposed to more data. Supervised learning: the model learns from labeled data. For example, a spam filter learns to differentiate between spam and legitimate emails by analyzing thousands of labeled examples. Unsupervised learning: the model finds patterns in unlabeled data, like grouping similar customer behaviors for marketing strategies. Reinforcement learning: the model learns by interacting with its environment, receiving rewards for desirable actions — a technique used in game ai and robotics. 2. 2 deep learning deep learning, a powerful form of machine learning, uses neural networks with multiple layers (\"deep\" networks) to analyze data. Inspired by the human brain, these networks process raw data like images, sound, or text to automatically extract patterns and insights. Deep learning has fueled breakthroughs in computer vision, speech recognition, and natural language processing. 2. 3 natural language processing (nlp) nlp enables machines to understand, interpret, and generate human language. This technology powers virtual assistants like siri and alexa, language translation tools, sentiment analysis, and automated content generation. Advances in transformer models like bert and gpt have dramatically improved ai\\'s ability to handle nuanced language. 2. 4 computer vision computer vision allows ai systems to interpret and analyze visual data — images and videos. This technology is essential in applications like facial recognition, medical imaging, autonomous vehicles, and even agriculture (e. G. , identifying crop diseases). 2. 5 robotics ai-powered robots combine physical capabilities with intelligent behavior. They’re designed for tasks ranging from manufacturing and logistics to space exploration and surgical assistance. Boston dynamics\\' robots, for instance, showcase advanced movement, balance, and decision-making abilities. 3.  real-world applications of ai ai is transforming industries, reshaping how we work, live, and interact. Let’s explore some key sectors: 3. 1 healthcare disease diagnosis: ai systems analyze medical images (e. G. , x-rays, ct scans) to detect conditions like cancer with higher accuracy and speed than human doctors. Drug discovery: machine learning accelerates the development of new drugs by simulating molecular interactions. Personalized medicine: ai tailors treatments based on individual genetic profiles and medical histories. 3. 2 education adaptive learning platforms: ai personalizes lessons to match each student\\'s pace and learning style, improving engagement and outcomes. Automated grading: ai reduces the burden on teachers by grading essays and quizzes. Virtual tutors: intelligent tutoring systems provide instant, personalized feedback to students. '],\n",
              " ['Algorithmic trading: financial institutions use ai algorithms to make rapid, data-driven investment decisions. Customer service: chatbots and virtual assistants handle customer queries efficiently, enhancing user experience. 3. 4 transportation autonomous vehicles: self-driving cars from companies like tesla and waymo rely on ai to navigate roads safely. Traffic management: ai optimizes traffic flow in cities, reducing congestion and emissions. 3. 5 entertainment recommendation systems: netflix, spotify, and youtube use ai to recommend content based on user behavior. Content generation: ai creates music, art, and even movie scripts, blurring the lines between human and machine creativity. 4. Challenges and limitations of aidespite its progress, ai faces significant challenges: 4. 1 data dependency ai models require large datasets for training. Poor-quality, biased, or insufficient data can lead to inaccurate results. 4. 2 interpretability and explainability many ai models, especially deep neural networks, function as \"black boxes\" — their decision-making processes are not easily interpretable by humans. This raises trust and accountability issues, particularly in critical fields like healthcare and criminal justice. 4. 3 ethical and social implications bias and fairness: ai can inherit biases present in the training data, leading to unfair decisions in hiring, lending, or law enforcement. Job displacement: automation powered by ai may eliminate certain jobs, particularly in manufacturing and customer service. However, it may also create new roles that require human creativity and oversight. Privacy: ai systems often require extensive personal data, posing risks to user privacy and data security. 5. The future of ai ai’s future holds extraordinary possibilities, including: 5. 1 artificial general intelligence (agi) current ai systems, known as narrow ai, excel at specific tasks. Agi, however, refers to machines with human-like intelligence, capable of performing any intellectual task a human can do. Although agi remains theoretical, research continues. 5. 2 ai and quantum computing quantum computing has the potential to revolutionize ai by solving problems that are infeasible for classical computers. This could accelerate breakthroughs in drug discovery, climate modeling, and cryptography. 5. 3 human-ai collaboration future ai systems are expected to work alongside humans rather than replace them. Ai could handle repetitive tasks while humans focus on creativity, strategy, and empathy — qualities machines lack. 6. Conclusion artificial intelligence is redefining our world. From healthcare to entertainment, it enhances efficiency, personalizes experiences, and solves complex problems. Yet, its challenges — data dependency, bias, and ethical concerns — require thoughtful management. With responsible development, ai holds the promise of a smarter, more connected, and equitable future. ']]"
            ]
          },
          "metadata": {},
          "execution_count": 37
        }
      ],
      "source": [
        "text_list"
      ]
    },
    {
      "cell_type": "code",
      "execution_count": null,
      "metadata": {
        "id": "WMtzGRd8A8Mu"
      },
      "outputs": [],
      "source": [
        "text_doc = []\n",
        "for i in text_list:\n",
        "    para = []\n",
        "    for j in i:\n",
        "        para.append(nlp(str(j)))\n",
        "    text_doc.append(para)\n",
        "\n"
      ]
    },
    {
      "cell_type": "code",
      "execution_count": null,
      "metadata": {
        "id": "wvgtB7_TB1Bz",
        "colab": {
          "base_uri": "https://localhost:8080/"
        },
        "outputId": "b291ecfe-a423-4568-d481-e541f31c7013"
      },
      "outputs": [
        {
          "output_type": "execute_result",
          "data": {
            "text/plain": [
              "[[  artificial intelligence: the engine of the future 1. Introduction to artificial intelligence (ai) artificial intelligence (ai) is a branch of computer science that aims to create machines capable of performing tasks that typically require human intelligence. These tasks include learning from data, recognizing speech and images, understanding natural language, solving problems, and making decisions. Ai systems can adapt and improve over time, often outperforming humans in specific tasks by processing vast amounts of information quickly and accurately. The term \"artificial intelligence\" was coined by john mccarthy in 1956, marking the beginning of ai as an academic discipline. Over the decades, ai has evolved from simple rule-based programs to complex neural networks and autonomous systems, driven by breakthroughs in computing power, algorithms, and data availability.   2. Key components of ai modern ai consists of several interconnected disciplines: 2. 1 machine learning (ml) machine learning is a subset of ai that enables systems to learn from data without being explicitly programmed. It’s based on statistical techniques that allow machines to improve performance as they are exposed to more data. Supervised learning: the model learns from labeled data. For example, a spam filter learns to differentiate between spam and legitimate emails by analyzing thousands of labeled examples. Unsupervised learning: the model finds patterns in unlabeled data, like grouping similar customer behaviors for marketing strategies. Reinforcement learning: the model learns by interacting with its environment, receiving rewards for desirable actions — a technique used in game ai and robotics. 2. 2 deep learning deep learning, a powerful form of machine learning, uses neural networks with multiple layers (\"deep\" networks) to analyze data. Inspired by the human brain, these networks process raw data like images, sound, or text to automatically extract patterns and insights. Deep learning has fueled breakthroughs in computer vision, speech recognition, and natural language processing. 2. 3 natural language processing (nlp) nlp enables machines to understand, interpret, and generate human language. This technology powers virtual assistants like siri and alexa, language translation tools, sentiment analysis, and automated content generation. Advances in transformer models like bert and gpt have dramatically improved ai's ability to handle nuanced language. 2. 4 computer vision computer vision allows ai systems to interpret and analyze visual data — images and videos. This technology is essential in applications like facial recognition, medical imaging, autonomous vehicles, and even agriculture (e. G. , identifying crop diseases). 2. 5 robotics ai-powered robots combine physical capabilities with intelligent behavior. They’re designed for tasks ranging from manufacturing and logistics to space exploration and surgical assistance. Boston dynamics' robots, for instance, showcase advanced movement, balance, and decision-making abilities. 3.  real-world applications of ai ai is transforming industries, reshaping how we work, live, and interact. Let’s explore some key sectors: 3. 1 healthcare disease diagnosis: ai systems analyze medical images (e. G. , x-rays, ct scans) to detect conditions like cancer with higher accuracy and speed than human doctors. Drug discovery: machine learning accelerates the development of new drugs by simulating molecular interactions. Personalized medicine: ai tailors treatments based on individual genetic profiles and medical histories. 3. 2 education adaptive learning platforms: ai personalizes lessons to match each student's pace and learning style, improving engagement and outcomes. Automated grading: ai reduces the burden on teachers by grading essays and quizzes. Virtual tutors: intelligent tutoring systems provide instant, personalized feedback to students. ],\n",
              " [Algorithmic trading: financial institutions use ai algorithms to make rapid, data-driven investment decisions. Customer service: chatbots and virtual assistants handle customer queries efficiently, enhancing user experience. 3. 4 transportation autonomous vehicles: self-driving cars from companies like tesla and waymo rely on ai to navigate roads safely. Traffic management: ai optimizes traffic flow in cities, reducing congestion and emissions. 3. 5 entertainment recommendation systems: netflix, spotify, and youtube use ai to recommend content based on user behavior. Content generation: ai creates music, art, and even movie scripts, blurring the lines between human and machine creativity. 4. Challenges and limitations of aidespite its progress, ai faces significant challenges: 4. 1 data dependency ai models require large datasets for training. Poor-quality, biased, or insufficient data can lead to inaccurate results. 4. 2 interpretability and explainability many ai models, especially deep neural networks, function as \"black boxes\" — their decision-making processes are not easily interpretable by humans. This raises trust and accountability issues, particularly in critical fields like healthcare and criminal justice. 4. 3 ethical and social implications bias and fairness: ai can inherit biases present in the training data, leading to unfair decisions in hiring, lending, or law enforcement. Job displacement: automation powered by ai may eliminate certain jobs, particularly in manufacturing and customer service. However, it may also create new roles that require human creativity and oversight. Privacy: ai systems often require extensive personal data, posing risks to user privacy and data security. 5. The future of ai ai’s future holds extraordinary possibilities, including: 5. 1 artificial general intelligence (agi) current ai systems, known as narrow ai, excel at specific tasks. Agi, however, refers to machines with human-like intelligence, capable of performing any intellectual task a human can do. Although agi remains theoretical, research continues. 5. 2 ai and quantum computing quantum computing has the potential to revolutionize ai by solving problems that are infeasible for classical computers. This could accelerate breakthroughs in drug discovery, climate modeling, and cryptography. 5. 3 human-ai collaboration future ai systems are expected to work alongside humans rather than replace them. Ai could handle repetitive tasks while humans focus on creativity, strategy, and empathy — qualities machines lack. 6. Conclusion artificial intelligence is redefining our world. From healthcare to entertainment, it enhances efficiency, personalizes experiences, and solves complex problems. Yet, its challenges — data dependency, bias, and ethical concerns — require thoughtful management. With responsible development, ai holds the promise of a smarter, more connected, and equitable future. ]]"
            ]
          },
          "metadata": {},
          "execution_count": 39
        }
      ],
      "source": [
        "text_doc\n"
      ]
    },
    {
      "cell_type": "code",
      "execution_count": null,
      "metadata": {
        "id": "FUvc_Odj9EaM"
      },
      "outputs": [],
      "source": [
        "summary_doc = []\n",
        "for i in summaries:\n",
        "    summary = []\n",
        "    for j in i:\n",
        "        summary.append(nlp(str(j)))\n",
        "    summary_doc.append(summary)\n",
        "\n"
      ]
    },
    {
      "cell_type": "code",
      "execution_count": null,
      "metadata": {
        "id": "JwIbhElymQKA",
        "colab": {
          "base_uri": "https://localhost:8080/"
        },
        "outputId": "be65e683-9b14-4b6d-ee9a-d0b3e9eea11a"
      },
      "outputs": [
        {
          "output_type": "execute_result",
          "data": {
            "text/plain": [
              "[[1 machine learning (ml) machine learning is a subset of ai that enables systems to learn from data without being explicitly programmed.,\n",
              "  4 computer vision computer vision allows ai systems to interpret and analyze visual data — images and videos.,\n",
              "  2 education adaptive learning platforms: ai personalizes lessons to match each student's pace and learning style, improving engagement and outcomes.],\n",
              " [2 ai and quantum computing quantum computing has the potential to revolutionize ai by solving problems that are infeasible for classical computers.,\n",
              "  Privacy: ai systems often require extensive personal data, posing risks to user privacy and data security.,\n",
              "  2 interpretability and explainability many ai models, especially deep neural networks, function as \"black boxes\" — their decision-making processes are not easily interpretable by humans.]]"
            ]
          },
          "metadata": {},
          "execution_count": 41
        }
      ],
      "source": [
        "summary_doc"
      ]
    },
    {
      "cell_type": "code",
      "execution_count": null,
      "metadata": {
        "id": "TNReVHwOApq-"
      },
      "outputs": [],
      "source": [
        "keys = []\n",
        "for doc in text_doc:\n",
        "    k1 = []\n",
        "    for sentence in doc:\n",
        "        doc_sentence = nlp(str(sentence))\n",
        "        for word in doc_sentence.noun_chunks:\n",
        "            if word.text.lower() not in stop:\n",
        "                k1.append(word.text)\n",
        "    keys.append(k1)\n"
      ]
    },
    {
      "cell_type": "code",
      "execution_count": null,
      "metadata": {
        "id": "j--66kJ9CIU0",
        "colab": {
          "base_uri": "https://localhost:8080/"
        },
        "outputId": "0d8d206b-3d1c-4309-b7c5-69ac8206955d"
      },
      "outputs": [
        {
          "output_type": "execute_result",
          "data": {
            "text/plain": [
              "[['\\xa0 artificial intelligence',\n",
              "  'the engine',\n",
              "  'Introduction',\n",
              "  'ai',\n",
              "  'a branch',\n",
              "  'computer science',\n",
              "  'machines',\n",
              "  'tasks',\n",
              "  'human intelligence',\n",
              "  'These tasks',\n",
              "  'data',\n",
              "  'speech',\n",
              "  'images',\n",
              "  'natural language',\n",
              "  'problems',\n",
              "  'decisions',\n",
              "  'Ai systems',\n",
              "  'time',\n",
              "  'humans',\n",
              "  'specific tasks',\n",
              "  'vast amounts',\n",
              "  'information',\n",
              "  'The term \"artificial intelligence',\n",
              "  'john mccarthy',\n",
              "  'the beginning',\n",
              "  'ai',\n",
              "  'an academic discipline',\n",
              "  'the decades',\n",
              "  'ai',\n",
              "  'simple rule-based programs',\n",
              "  'complex neural networks',\n",
              "  'autonomous systems',\n",
              "  'breakthroughs',\n",
              "  'computing power',\n",
              "  'algorithms',\n",
              "  'data availability',\n",
              "  'Key components',\n",
              "  'ai',\n",
              "  'ai',\n",
              "  'several interconnected disciplines',\n",
              "  '2. 1 machine learning',\n",
              "  'ml',\n",
              "  'machine learning',\n",
              "  'a subset',\n",
              "  'ai',\n",
              "  'systems',\n",
              "  'data',\n",
              "  'statistical techniques',\n",
              "  'machines',\n",
              "  'performance',\n",
              "  'more data',\n",
              "  'Supervised learning',\n",
              "  'the model',\n",
              "  'labeled data',\n",
              "  'example',\n",
              "  'a spam filter',\n",
              "  'spam',\n",
              "  'legitimate emails',\n",
              "  'thousands',\n",
              "  'labeled examples',\n",
              "  'the model',\n",
              "  'patterns',\n",
              "  'unlabeled data',\n",
              "  'similar customer behaviors',\n",
              "  'marketing strategies',\n",
              "  'Reinforcement learning',\n",
              "  'the model',\n",
              "  'its environment',\n",
              "  'rewards',\n",
              "  'desirable actions',\n",
              "  'a technique',\n",
              "  'game ai',\n",
              "  'robotics',\n",
              "  'deep learning',\n",
              "  'a powerful form',\n",
              "  'machine learning',\n",
              "  'neural networks',\n",
              "  'multiple layers',\n",
              "  '(\"deep\" networks',\n",
              "  'data',\n",
              "  'the human brain',\n",
              "  'these networks',\n",
              "  'raw data',\n",
              "  'images',\n",
              "  'sound',\n",
              "  'text',\n",
              "  'patterns',\n",
              "  'insights',\n",
              "  'Deep learning',\n",
              "  'breakthroughs',\n",
              "  'computer vision',\n",
              "  'speech recognition',\n",
              "  'natural language processing',\n",
              "  '. 3 natural language processing',\n",
              "  '(nlp) nlp',\n",
              "  'machines',\n",
              "  'human language',\n",
              "  'This technology',\n",
              "  'virtual assistants',\n",
              "  'siri',\n",
              "  'alexa',\n",
              "  'language translation tools',\n",
              "  'sentiment analysis',\n",
              "  'automated content generation',\n",
              "  'Advances',\n",
              "  'transformer models',\n",
              "  'bert',\n",
              "  'gpt',\n",
              "  \"ai's ability\",\n",
              "  'nuanced language',\n",
              "  '. 4 computer vision computer vision',\n",
              "  'systems',\n",
              "  'visual data',\n",
              "  'images',\n",
              "  'videos',\n",
              "  'This technology',\n",
              "  'applications',\n",
              "  'facial recognition',\n",
              "  'medical imaging',\n",
              "  'autonomous vehicles',\n",
              "  'even agriculture',\n",
              "  'e. G.',\n",
              "  'crop diseases',\n",
              "  '2. 5 robotics ai-powered robots',\n",
              "  'physical capabilities',\n",
              "  'intelligent behavior',\n",
              "  'tasks',\n",
              "  'manufacturing',\n",
              "  'logistics',\n",
              "  'space exploration',\n",
              "  'surgical assistance',\n",
              "  \"Boston dynamics' robots\",\n",
              "  'instance',\n",
              "  'advanced movement',\n",
              "  'balance',\n",
              "  'decision-making abilities',\n",
              "  '3.  real-world applications',\n",
              "  'ai',\n",
              "  'ai',\n",
              "  'industries',\n",
              "  'some key sectors',\n",
              "  '3. 1 healthcare disease diagnosis',\n",
              "  'ai systems',\n",
              "  'medical images',\n",
              "  'e. G.',\n",
              "  'x',\n",
              "  'rays',\n",
              "  ', ct scans',\n",
              "  'conditions',\n",
              "  'cancer',\n",
              "  'higher accuracy',\n",
              "  'speed',\n",
              "  'human doctors',\n",
              "  'Drug discovery',\n",
              "  'machine learning',\n",
              "  'the development',\n",
              "  'new drugs',\n",
              "  'molecular interactions',\n",
              "  'Personalized medicine',\n",
              "  'individual genetic profiles',\n",
              "  'medical histories',\n",
              "  '3. 2 education adaptive learning platforms',\n",
              "  'lessons',\n",
              "  \"each student's pace\",\n",
              "  'style',\n",
              "  'engagement',\n",
              "  'outcomes',\n",
              "  'Automated grading',\n",
              "  'the burden',\n",
              "  'teachers',\n",
              "  'essays',\n",
              "  'quizzes',\n",
              "  'Virtual tutors',\n",
              "  'intelligent tutoring systems',\n",
              "  'instant, personalized feedback',\n",
              "  'students'],\n",
              " ['Algorithmic trading',\n",
              "  'financial institutions',\n",
              "  'algorithms',\n",
              "  'rapid, data-driven investment decisions',\n",
              "  'Customer service',\n",
              "  'chatbots',\n",
              "  'virtual assistants',\n",
              "  'customer queries',\n",
              "  'user experience',\n",
              "  '3. 4 transportation autonomous vehicles',\n",
              "  'self-driving cars',\n",
              "  'companies',\n",
              "  'tesla',\n",
              "  'waymo',\n",
              "  'ai',\n",
              "  'roads',\n",
              "  'Traffic management',\n",
              "  'ai',\n",
              "  'traffic flow',\n",
              "  'cities',\n",
              "  'congestion',\n",
              "  'emissions',\n",
              "  '3. 5 entertainment recommendation systems',\n",
              "  'netflix',\n",
              "  'spotify',\n",
              "  'content',\n",
              "  'user behavior',\n",
              "  'Content generation',\n",
              "  'music',\n",
              "  'art',\n",
              "  'even movie scripts',\n",
              "  'the lines',\n",
              "  'human and machine creativity',\n",
              "  'Challenges',\n",
              "  'limitations',\n",
              "  'its progress',\n",
              "  'significant challenges',\n",
              "  '4. 1 data dependency ai models',\n",
              "  'large datasets',\n",
              "  'training',\n",
              "  'Poor-quality, biased, or insufficient data',\n",
              "  'inaccurate results',\n",
              "  '4. 2 interpretability',\n",
              "  'explainability',\n",
              "  'many ai models',\n",
              "  'especially deep neural networks',\n",
              "  '\"black boxes',\n",
              "  'their decision-making processes',\n",
              "  'humans',\n",
              "  'trust and accountability issues',\n",
              "  'critical fields',\n",
              "  'healthcare',\n",
              "  'criminal justice',\n",
              "  '4. 3 ethical and social implications bias',\n",
              "  'fairness',\n",
              "  'ai',\n",
              "  'biases',\n",
              "  'the training data',\n",
              "  'unfair decisions',\n",
              "  'lending',\n",
              "  'law enforcement',\n",
              "  'automation',\n",
              "  'ai',\n",
              "  'certain jobs',\n",
              "  'manufacturing',\n",
              "  'customer service',\n",
              "  'new roles',\n",
              "  'human creativity',\n",
              "  'oversight',\n",
              "  'Privacy',\n",
              "  'ai systems',\n",
              "  'extensive personal data',\n",
              "  'risks',\n",
              "  'user privacy',\n",
              "  'data security',\n",
              "  'The future',\n",
              "  'ai ai',\n",
              "  'future',\n",
              "  'extraordinary possibilities',\n",
              "  '5. 1 artificial general intelligence (agi) current ai systems',\n",
              "  'narrow ai',\n",
              "  'specific tasks',\n",
              "  'Agi',\n",
              "  'machines',\n",
              "  'human-like intelligence',\n",
              "  'any intellectual task',\n",
              "  'a human',\n",
              "  'agi',\n",
              "  'research',\n",
              "  '5. 2 ai and quantum computing quantum computing',\n",
              "  'the potential',\n",
              "  'ai',\n",
              "  'problems',\n",
              "  'classical computers',\n",
              "  'breakthroughs',\n",
              "  'drug discovery',\n",
              "  'climate modeling',\n",
              "  'cryptography',\n",
              "  '. 3 human-ai collaboration future ai systems',\n",
              "  'humans',\n",
              "  'Ai',\n",
              "  'repetitive tasks',\n",
              "  'humans',\n",
              "  'creativity',\n",
              "  'strategy',\n",
              "  'empathy',\n",
              "  'qualities machines lack',\n",
              "  'Conclusion artificial intelligence',\n",
              "  'our world',\n",
              "  'healthcare',\n",
              "  'entertainment',\n",
              "  'efficiency',\n",
              "  'experiences',\n",
              "  'complex problems',\n",
              "  'its challenges',\n",
              "  'data dependency',\n",
              "  'bias',\n",
              "  'ethical concerns',\n",
              "  'thoughtful management',\n",
              "  'responsible development',\n",
              "  'ai',\n",
              "  'the promise',\n",
              "  'a smarter, more connected, and equitable future']]"
            ]
          },
          "metadata": {},
          "execution_count": 43
        }
      ],
      "source": [
        "keys"
      ]
    },
    {
      "cell_type": "code",
      "execution_count": null,
      "metadata": {
        "id": "p2UEKRzFAGUu",
        "colab": {
          "base_uri": "https://localhost:8080/"
        },
        "outputId": "97df492e-724d-4492-bd50-677d37733528"
      },
      "outputs": [
        {
          "output_type": "stream",
          "name": "stdout",
          "text": [
            "[['1 machine learning', 'ml', 'machine learning', 'a subset', 'ai', 'systems', 'data', '4 computer vision computer vision', 'systems', 'visual data', 'images', 'videos', '2 education adaptive learning platforms', 'lessons', \"each student's pace\", 'style', 'engagement', 'outcomes'], ['2 ai and quantum computing quantum computing', 'the potential', 'ai', 'problems', 'classical computers', 'Privacy', 'systems', 'extensive personal data', 'risks', 'user privacy', 'data security', '2 interpretability', 'explainability', 'many ai models', 'especially deep neural networks', '\"black boxes', 'their decision-making processes', 'humans']]\n"
          ]
        }
      ],
      "source": [
        "# Assuming you have imported spaCy and defined 'stop' as your list of stopwords\n",
        "keywords = []\n",
        "\n",
        "for doc in summary_doc:\n",
        "    k1 = []\n",
        "    for sentence in doc:\n",
        "        doc_sentence = nlp(str(sentence))  # Convert the sentence to a spaCy Doc object\n",
        "        for word in doc_sentence.noun_chunks:\n",
        "            if word.text.lower() not in stop:\n",
        "                k1.append(word.text)\n",
        "    keywords.append(k1)\n",
        "\n",
        "print(keywords)\n",
        "\n"
      ]
    },
    {
      "cell_type": "code",
      "execution_count": null,
      "metadata": {
        "id": "uaslx4cOssu8"
      },
      "outputs": [],
      "source": []
    },
    {
      "cell_type": "code",
      "execution_count": null,
      "metadata": {
        "id": "SJf0rfxzAg7O",
        "colab": {
          "base_uri": "https://localhost:8080/"
        },
        "outputId": "11d591be-fa3a-4d9c-ea74-ed7e501abb0a"
      },
      "outputs": [
        {
          "output_type": "stream",
          "name": "stdout",
          "text": [
            "[['style', 'lessons', 'systems', 'ml', 'data', 'images', 'engagement', 'a subset', \"each student's pace\", 'machine learning', 'ai', 'visual data', 'outcomes', 'videos'], ['humans', '\"black boxes', 'classical computers', 'their decision-making processes', 'extensive personal data', 'explainability', 'Privacy', 'risks', 'problems', 'user privacy', 'data security', 'ai', 'especially deep neural networks', 'many ai models', 'the potential']]\n"
          ]
        }
      ],
      "source": [
        "common_keywords = []\n",
        "\n",
        "for keys_list, keywords_list in zip(keys, keywords):\n",
        "    keys_set = set(keys_list)\n",
        "    keywords_set = set(keywords_list)\n",
        "    common = keys_set.intersection(keywords_set)\n",
        "    common_keywords.append(list(common))\n",
        "\n",
        "print(common_keywords)\n",
        "\n",
        "\n"
      ]
    },
    {
      "cell_type": "code",
      "execution_count": null,
      "metadata": {
        "id": "Al5ZNyV4dvC_"
      },
      "outputs": [],
      "source": []
    },
    {
      "cell_type": "code",
      "execution_count": null,
      "metadata": {
        "id": "rxiZCEBq4ihz",
        "colab": {
          "base_uri": "https://localhost:8080/"
        },
        "outputId": "895bb07e-d1b0-47ca-9838-4b71b8e100bc"
      },
      "outputs": [
        {
          "output_type": "stream",
          "name": "stdout",
          "text": [
            "Collecting fuzzywuzzy\n",
            "  Downloading fuzzywuzzy-0.18.0-py2.py3-none-any.whl.metadata (4.9 kB)\n",
            "Downloading fuzzywuzzy-0.18.0-py2.py3-none-any.whl (18 kB)\n",
            "Installing collected packages: fuzzywuzzy\n",
            "Successfully installed fuzzywuzzy-0.18.0\n"
          ]
        },
        {
          "output_type": "stream",
          "name": "stderr",
          "text": [
            "/usr/local/lib/python3.11/dist-packages/fuzzywuzzy/fuzz.py:11: UserWarning: Using slow pure-python SequenceMatcher. Install python-Levenshtein to remove this warning\n",
            "  warnings.warn('Using slow pure-python SequenceMatcher. Install python-Levenshtein to remove this warning')\n"
          ]
        },
        {
          "output_type": "execute_result",
          "data": {
            "text/plain": [
              "[['style',\n",
              "  'lessons',\n",
              "  'systems',\n",
              "  'ml',\n",
              "  'data',\n",
              "  'images',\n",
              "  'engagement',\n",
              "  'a subset',\n",
              "  \"each student's pace\",\n",
              "  'machine learning',\n",
              "  'ai',\n",
              "  'visual data',\n",
              "  'outcomes',\n",
              "  'videos'],\n",
              " ['humans',\n",
              "  '\"black boxes',\n",
              "  'classical computers',\n",
              "  'their decision-making processes',\n",
              "  'extensive personal data',\n",
              "  'explainability',\n",
              "  'risks',\n",
              "  'problems',\n",
              "  'data security',\n",
              "  'ai',\n",
              "  'especially deep neural networks',\n",
              "  'many ai models',\n",
              "  'the potential']]"
            ]
          },
          "metadata": {},
          "execution_count": 46
        }
      ],
      "source": [
        "# prompt:  apply fuzzy matching for generated keys and print filtered keys\n",
        "!pip install fuzzywuzzy\n",
        "from fuzzywuzzy import fuzz\n",
        "\n",
        "filtered_keys = []\n",
        "for key_list in common_keywords:\n",
        "    temp_keys = []\n",
        "    for key in key_list:\n",
        "        for other_key in key_list:\n",
        "            if key != other_key and fuzz.ratio(key, other_key) > 60:  # Adjust the ratio threshold as needed\n",
        "                break  # Skip this key if a similar one is already found\n",
        "        else:\n",
        "            temp_keys.append(key)  # Add the key if no similar one was found\n",
        "    filtered_keys.append(temp_keys)\n",
        "\n",
        "filtered_keys\n"
      ]
    },
    {
      "cell_type": "code",
      "execution_count": null,
      "metadata": {
        "id": "5xC26FWJ67J0",
        "colab": {
          "base_uri": "https://localhost:8080/"
        },
        "outputId": "0db84963-8d4d-4c35-c294-d6d5b69f2207"
      },
      "outputs": [
        {
          "output_type": "execute_result",
          "data": {
            "text/plain": [
              "[['style',\n",
              "  'lessons',\n",
              "  'systems',\n",
              "  'ml',\n",
              "  'data',\n",
              "  'images',\n",
              "  'engagement',\n",
              "  'a subset',\n",
              "  \"each student's pace\",\n",
              "  'machine learning',\n",
              "  'ai',\n",
              "  'visual data',\n",
              "  'outcomes',\n",
              "  'videos'],\n",
              " ['humans',\n",
              "  '\"black boxes',\n",
              "  'classical computers',\n",
              "  'their decisionmaking processes',\n",
              "  'extensive personal data',\n",
              "  'explainability',\n",
              "  'risks',\n",
              "  'problems',\n",
              "  'data security',\n",
              "  'ai',\n",
              "  'especially deep neural networks',\n",
              "  'many ai models',\n",
              "  'the potential']]"
            ]
          },
          "metadata": {},
          "execution_count": 47
        }
      ],
      "source": [
        "# prompt: eliminated the keys with special charcters like (*,/,-,+,@,!,$,%) from the filtered_keys\n",
        "\n",
        "import re\n",
        "\n",
        "generated_keys = []\n",
        "for key_list in filtered_keys:\n",
        "    temp_keys = []\n",
        "    for key in key_list:\n",
        "        # Use a regular expression to remove special characters\n",
        "        cleaned_key = re.sub(r'[*,)/;+\\-@!#.($?%]', '', key)\n",
        "        if cleaned_key:  # Check if the key is not empty after cleaning\n",
        "            temp_keys.append(cleaned_key)\n",
        "    generated_keys.append(temp_keys)\n",
        "\n",
        "generated_keys"
      ]
    },
    {
      "cell_type": "code",
      "execution_count": null,
      "metadata": {
        "id": "4Hg3IDMU3jEB",
        "colab": {
          "base_uri": "https://localhost:8080/"
        },
        "outputId": "18ac7f85-eb7f-4b7e-c619-83b05e31c6e8"
      },
      "outputs": [
        {
          "output_type": "stream",
          "name": "stdout",
          "text": [
            "Total keys generated: 27\n",
            "Number of unique keys: 26\n",
            "Uniqueness score: 96.30%\n"
          ]
        }
      ],
      "source": [
        "# prompt: calculate uniqueness of generated keys and print overall score\n",
        "\n",
        "def calculate_uniqueness(generated_keys):\n",
        "    \"\"\"\n",
        "    Calculates the uniqueness of generated keys and prints an overall score.\n",
        "\n",
        "    Args:\n",
        "        generated_keys: A list of lists, where each inner list contains generated keys.\n",
        "    \"\"\"\n",
        "\n",
        "    total_keys = 0\n",
        "    unique_keys = set()\n",
        "\n",
        "    for key_list in generated_keys:\n",
        "        total_keys += len(key_list)\n",
        "        unique_keys.update(key_list)\n",
        "\n",
        "    uniqueness_score = (len(unique_keys) / total_keys) * 100 if total_keys > 0 else 0\n",
        "\n",
        "    print(f\"Total keys generated: {total_keys}\")\n",
        "    print(f\"Number of unique keys: {len(unique_keys)}\")\n",
        "    print(f\"Uniqueness score: {uniqueness_score:.2f}%\")\n",
        "\n",
        "# Example usage (replace with your actual generated_keys)\n",
        "calculate_uniqueness(generated_keys)\n"
      ]
    },
    {
      "cell_type": "code",
      "execution_count": null,
      "metadata": {
        "id": "_1CHsh3f3jIb",
        "colab": {
          "base_uri": "https://localhost:8080/",
          "height": 755
        },
        "outputId": "88a7dc76-7268-46ca-a7f1-5847e87de5bd"
      },
      "outputs": [
        {
          "output_type": "stream",
          "name": "stdout",
          "text": [
            "Requirement already satisfied: wordcloud in /usr/local/lib/python3.11/dist-packages (1.9.4)\n",
            "Requirement already satisfied: numpy>=1.6.1 in /usr/local/lib/python3.11/dist-packages (from wordcloud) (2.0.2)\n",
            "Requirement already satisfied: pillow in /usr/local/lib/python3.11/dist-packages (from wordcloud) (11.1.0)\n",
            "Requirement already satisfied: matplotlib in /usr/local/lib/python3.11/dist-packages (from wordcloud) (3.10.0)\n",
            "Requirement already satisfied: contourpy>=1.0.1 in /usr/local/lib/python3.11/dist-packages (from matplotlib->wordcloud) (1.3.1)\n",
            "Requirement already satisfied: cycler>=0.10 in /usr/local/lib/python3.11/dist-packages (from matplotlib->wordcloud) (0.12.1)\n",
            "Requirement already satisfied: fonttools>=4.22.0 in /usr/local/lib/python3.11/dist-packages (from matplotlib->wordcloud) (4.56.0)\n",
            "Requirement already satisfied: kiwisolver>=1.3.1 in /usr/local/lib/python3.11/dist-packages (from matplotlib->wordcloud) (1.4.8)\n",
            "Requirement already satisfied: packaging>=20.0 in /usr/local/lib/python3.11/dist-packages (from matplotlib->wordcloud) (24.2)\n",
            "Requirement already satisfied: pyparsing>=2.3.1 in /usr/local/lib/python3.11/dist-packages (from matplotlib->wordcloud) (3.2.1)\n",
            "Requirement already satisfied: python-dateutil>=2.7 in /usr/local/lib/python3.11/dist-packages (from matplotlib->wordcloud) (2.8.2)\n",
            "Requirement already satisfied: six>=1.5 in /usr/local/lib/python3.11/dist-packages (from python-dateutil>=2.7->matplotlib->wordcloud) (1.17.0)\n"
          ]
        },
        {
          "output_type": "display_data",
          "data": {
            "text/plain": [
              "<Figure size 1000x500 with 1 Axes>"
            ],
            "image/png": "[encoded data removed]"
          },
          "metadata": {}
        }
      ],
      "source": [
        "# prompt: visualie word cloud for the keys generated\n",
        "\n",
        "!pip install wordcloud\n",
        "\n",
        "from wordcloud import WordCloud\n",
        "import matplotlib.pyplot as plt\n",
        "\n",
        "def visualize_wordcloud(keys):\n",
        "    # Combine all keys into a single string\n",
        "    all_keys = ' '.join([' '.join(sublist) for sublist in keys])\n",
        "\n",
        "    # Generate the word cloud\n",
        "    wordcloud = WordCloud(width=800, height=400, background_color='white').generate(all_keys)\n",
        "\n",
        "    # Display the generated image:\n",
        "    plt.figure(figsize=(10, 5), facecolor=None)\n",
        "    plt.imshow(wordcloud)\n",
        "    plt.axis(\"off\")\n",
        "    plt.tight_layout(pad=0)\n",
        "    plt.show()\n",
        "\n",
        "visualize_wordcloud(generated_keys)\n"
      ]
    },
    {
      "cell_type": "code",
      "execution_count": null,
      "metadata": {
        "id": "8HyB5tpm3jQs",
        "colab": {
          "base_uri": "https://localhost:8080/",
          "height": 607
        },
        "outputId": "75aeaa20-1d40-4a11-e380-a0dd54bc755b"
      },
      "outputs": [
        {
          "output_type": "display_data",
          "data": {
            "text/plain": [
              "<Figure size 1000x600 with 1 Axes>"
            ],
            "image/png": "[encoded data removed]"
          },
          "metadata": {}
        }
      ],
      "source": [
        "# prompt: bar graph for keys\n",
        "\n",
        "import matplotlib.pyplot as plt\n",
        "\n",
        "# Assuming 'generated_keys' is a list of lists, where each inner list contains keywords.\n",
        "# Example: generated_keys = [['key1', 'key2'], ['key3', 'key4', 'key1']]\n",
        "\n",
        "# Count keyword frequencies\n",
        "keyword_counts = {}\n",
        "for key_list in generated_keys:\n",
        "  for keyword in key_list:\n",
        "    keyword_counts[keyword] = keyword_counts.get(keyword, 0) + 1\n",
        "\n",
        "# Extract keywords and counts\n",
        "keywords = list(keyword_counts.keys())\n",
        "counts = list(keyword_counts.values())\n",
        "\n",
        "\n",
        "plt.figure(figsize=(10, 6))  # Adjust figure size as needed\n",
        "plt.bar(keywords, counts)\n",
        "plt.xlabel(\"Keywords\")\n",
        "plt.ylabel(\"Frequency\")\n",
        "plt.title(\"Keyword Frequencies\")\n",
        "plt.xticks(rotation=45, ha=\"right\")  # Rotate x-axis labels for readability\n",
        "plt.tight_layout()  # Adjust layout to prevent labels from overlapping\n",
        "plt.show()\n"
      ]
    },
    {
      "cell_type": "code",
      "execution_count": null,
      "metadata": {
        "id": "Vxh8iz8FE3ls"
      },
      "outputs": [],
      "source": [
        "# question_model = T5ForConditionalGeneration.from_pretrained('t5-large')"
      ]
    },
    {
      "cell_type": "code",
      "execution_count": null,
      "metadata": {
        "id": "Mj0c7d4YF8LC",
        "colab": {
          "base_uri": "https://localhost:8080/",
          "height": 357,
          "referenced_widgets": [
            "7acdd7e5c3854cb7865fb8960d696ff7",
            "046004c503b3415199909948e3a88c6c",
            "1d1ae39a7ef7435ba4adb15d0e840004",
            "53b856e2f4604694ad3c569536764adb",
            "362873d9673d49ee902e6c351e0398d9",
            "d22d8eae97a04702affa0c13dfbe771c",
            "a686aa1f5e2c43fba9a2f43ef9bdd829",
            "1b8486266fea4e69b69afac7806f58f8",
            "903f1124487f4e48bdcd3cc4563d02b0",
            "a1034bdcbca5463b99c02f4d78be9322",
            "47f3494b0dd14b60ac84e91d738d414d",
            "728af6b0d4fd4bde9d20f314d66e958e",
            "9525e463f537463c8e74cb6cea07c756",
            "63022677b24241fa8afddf14ea4c7644",
            "a6b50ff1bb22476987242b90d341b163",
            "c07654d60a9346d283959d35611cbe21",
            "94197067753a4cc0b8ad482bb0ea29f9",
            "c8912f490b664555b21e8e9d83bb52e7",
            "4f023456c89c437a8e4b625b3fa608e1",
            "acdd9a6257734c3ab044a2a5a70677a4",
            "ecf0d88448af41b9908327f41a576413",
            "99ce1a31b1e44118b2250f31e9d37310",
            "996c1f726cdc4bc7a4bb49a74730e312",
            "616a044ff2aa414abdecf88d6d98e857",
            "97300077c3874849861951f539e5d058",
            "bce6fd5907984bb1a3290bc454c1af32",
            "3c58bbf6edef4b17bb31a2ab747e3cdd",
            "d63dd3ac156e4a71b789ab4216ce46b2",
            "f3710b51321047a8868c5aaa0b318ae2",
            "fe885af72ab242c6a42dac82a8420fd6",
            "abc3120f41234f118633648d41d6526d",
            "ab49a61c7adb4c20be80e96aac015672",
            "f70df830eefd41d4b5dee21f7ae962fb",
            "cf96e8476f6d45adb2db93dd25a26947",
            "938b14ec577e49168130fd7eede83e8b",
            "ef865f62091848dfa62a34a763773d09",
            "f869c043f62848338f78d4e7ec13d9ae",
            "7ec41cf3cddb4049b38457032dbc0733",
            "169ef87980e844e4a42cf7ae51fb3490",
            "fa97570834a5473f9c57443f62a1281e",
            "85d81d6b5a5043aab5082bdaa1a6435e",
            "5c4faa9b1f0c47808e84d1a6b031ce22",
            "69e652768c74475281332e3cb3254af6",
            "95072db16ccb4bc3a5aab6ffc2da58ed",
            "bdc6623c117948e3adbfeb627a88f176",
            "bba596226912461c95d17947002e4a1b",
            "297d1717bd1a4545a99090deccf0bb5b",
            "03ea347982f54b5090ba2692b8961947",
            "5145791e27d7427fb49fe1b5ec2c01b1",
            "d6c4c90021e14c5093ab86107f2ad1da",
            "555791ab018e4211b55b1f60bfb77b10",
            "a085e8c419934a20a414b0e305e8fde7",
            "f8b214b6d16d4eec83edeb9d31c6ec4f",
            "d80a85c11f4340fabc59819e65ec12ff",
            "120a6dd2aff143b09652ca9a97fcf0e8",
            "aeaa5210f8c6422e9ab7f544a07fc837",
            "bc7163f7130047cba36e0f08c5ad864e",
            "2eedea9db83b4a12811d3a651a928543",
            "77ac6aa3bc0e4e67b9afa4b7eeaa0412",
            "4020802f6dfb4f86878362ee353acd09",
            "5042f86f140b4c67a0f377a3eaffd21f",
            "48a5d4d462204ea58af661e2d97dda64",
            "54c3c3ee4deb4a2b85c06c4437823e1a",
            "0898b89f0f1d48bdbbb3db2564961fac",
            "8db9f451352743e6ae356e1f6f442b68",
            "087a792b4716412ba6363901818cfe3d"
          ]
        },
        "outputId": "fdcbfe64-7269-40e6-8f5f-9e36ca97a40d"
      },
      "outputs": [
        {
          "output_type": "stream",
          "name": "stderr",
          "text": [
            "/usr/local/lib/python3.11/dist-packages/huggingface_hub/utils/_auth.py:94: UserWarning: \n",
            "The secret `HF_TOKEN` does not exist in your Colab secrets.\n",
            "To authenticate with the Hugging Face Hub, create a token in your settings tab (https://huggingface.co/settings/tokens), set it as secret in your Google Colab and restart your session.\n",
            "You will be able to reuse this secret in all of your notebooks.\n",
            "Please note that authentication is recommended but still optional to access public models or datasets.\n",
            "  warnings.warn(\n"
          ]
        },
        {
          "output_type": "display_data",
          "data": {
            "text/plain": [
              "spiece.model:   0%|          | 0.00/792k [00:00<?, ?B/s]"
            ],
            "application/vnd.jupyter.widget-view+json": {
              "version_major": 2,
              "version_minor": 0,
              "model_id": "7acdd7e5c3854cb7865fb8960d696ff7"
            }
          },
          "metadata": {}
        },
        {
          "output_type": "display_data",
          "data": {
            "text/plain": [
              "tokenizer.json:   0%|          | 0.00/1.39M [00:00<?, ?B/s]"
            ],
            "application/vnd.jupyter.widget-view+json": {
              "version_major": 2,
              "version_minor": 0,
              "model_id": "728af6b0d4fd4bde9d20f314d66e958e"
            }
          },
          "metadata": {}
        },
        {
          "output_type": "display_data",
          "data": {
            "text/plain": [
              "config.json:   0%|          | 0.00/1.21k [00:00<?, ?B/s]"
            ],
            "application/vnd.jupyter.widget-view+json": {
              "version_major": 2,
              "version_minor": 0,
              "model_id": "996c1f726cdc4bc7a4bb49a74730e312"
            }
          },
          "metadata": {}
        },
        {
          "output_type": "stream",
          "name": "stderr",
          "text": [
            "You are using the default legacy behaviour of the <class 'transformers.models.t5.tokenization_t5.T5Tokenizer'>. This is expected, and simply means that the `legacy` (previous) behavior will be used so nothing changes for you. If you want to use the new behaviour, set `legacy=False`. This should only be set if you understand what it means, and thoroughly read the reason why this was added as explained in https://github.com/huggingface/transformers/pull/24565\n"
          ]
        },
        {
          "output_type": "display_data",
          "data": {
            "text/plain": [
              "config.json:   0%|          | 0.00/1.21k [00:00<?, ?B/s]"
            ],
            "application/vnd.jupyter.widget-view+json": {
              "version_major": 2,
              "version_minor": 0,
              "model_id": "cf96e8476f6d45adb2db93dd25a26947"
            }
          },
          "metadata": {}
        },
        {
          "output_type": "display_data",
          "data": {
            "text/plain": [
              "pytorch_model.bin:   0%|          | 0.00/892M [00:00<?, ?B/s]"
            ],
            "application/vnd.jupyter.widget-view+json": {
              "version_major": 2,
              "version_minor": 0,
              "model_id": "bdc6623c117948e3adbfeb627a88f176"
            }
          },
          "metadata": {}
        },
        {
          "output_type": "display_data",
          "data": {
            "text/plain": [
              "model.safetensors:   0%|          | 0.00/892M [00:00<?, ?B/s]"
            ],
            "application/vnd.jupyter.widget-view+json": {
              "version_major": 2,
              "version_minor": 0,
              "model_id": "aeaa5210f8c6422e9ab7f544a07fc837"
            }
          },
          "metadata": {}
        }
      ],
      "source": [
        "question_tokenizer = T5Tokenizer.from_pretrained('t5-large')\n",
        "question_model = T5ForConditionalGeneration.from_pretrained('Parth/result')\n",
        "device = 'cuda' if torch.cuda.is_available() else 'cpu'\n",
        "question_models = question_model.to(device)\n"
      ]
    },
    {
      "cell_type": "code",
      "execution_count": null,
      "metadata": {
        "id": "zEqmHcEq9gBH",
        "colab": {
          "base_uri": "https://localhost:8080/",
          "height": 1000
        },
        "outputId": "3117775c-7a6c-447c-81f9-02cc9be90a83"
      },
      "outputs": [
        {
          "output_type": "stream",
          "name": "stdout",
          "text": [
            "Question: Ai personalizes lessons to match each student's pace and learning what?\n",
            "Answer: Style\n",
            "\n",
            "\n",
            "Question: What does ai personalize to match each student's pace and learning style?\n",
            "Answer: Lessons\n",
            "\n",
            "\n",
            "Question: What can learn from data without being explicitly programmed?\n",
            "Answer: Systems\n",
            "\n",
            "\n",
            "Question: What is the name of machine learning?\n",
            "Answer: Ml\n",
            "\n",
            "\n",
            "Question: Machine learning enables systems to learn from what without being explicitly programmed?\n",
            "Answer: Data\n",
            "\n",
            "\n",
            "Question: 4 computer vision allows ai systems to interpret and analyze visual data — what is it?\n",
            "Answer: Images\n",
            "\n",
            "\n",
            "Question: What does ai personalize lessons to match each student's pace and learning style improve?\n",
            "Answer: Engagement\n",
            "\n",
            "\n",
            "Question: Is machine learning a subset of ai?\n",
            "Answer: A subset\n",
            "\n",
            "\n",
            "Question: Ai personalizes lessons to match what?\n",
            "Answer: Each student's pace\n",
            "\n",
            "\n",
            "Question: What is a subset of ai?\n",
            "Answer: Machine learning\n",
            "\n",
            "\n",
            "Question: What is machine learning a subset of?\n",
            "Answer: Ai\n",
            "\n",
            "\n",
            "Question: What does 4 computer vision allow ai systems to interpret and analyze?\n",
            "Answer: Visual data\n",
            "\n",
            "\n",
            "Question: ai personalizes lessons to match each student's pace and learning style, improving engagement and what?\n",
            "Answer: Outcomes\n",
            "\n",
            "\n",
            "Question: 4 computer vision allows ai systems to interpret and analyze visual data — images and what?\n",
            "Answer: Videos\n",
            "\n",
            "\n",
            "Question: Deep neural networks function as \"black boxes\" — their decision-making processes are not easily interpretable by whom?\n",
            "Answer: Humans\n",
            "\n",
            "\n",
            "Question: Deep neural networks function as what?\n",
            "Answer: \"black boxes\n",
            "\n",
            "\n",
            "Question: Quantum computing solves problems that are infeasible for what?\n",
            "Answer: Classical computers\n",
            "\n",
            "\n",
            "Question: Why do deep neural networks function as \"black boxes\"?\n",
            "Answer: Their decisionmaking processes\n",
            "\n",
            "\n",
            "Question: What do ai systems often require?\n",
            "Answer: Extensive personal data\n",
            "\n",
            "\n",
            "Question: Many ai models, especially deep neural networks, function as \"black boxes\" — their decision-making processes are not easily interpretable by humans?\n",
            "Answer: Explainability\n",
            "\n",
            "\n",
            "Question: Ai systems often require extensive personal data, posing what to user privacy and data security?\n",
            "Answer: Risks\n",
            "\n",
            "\n",
            "Question: How can quantum computing revolutionize ai?\n",
            "Answer: Problems\n",
            "\n",
            "\n",
            "Question: ai systems often require extensive personal data, posing risks to user privacy and what?\n",
            "Answer: Data security\n",
            "\n",
            "\n",
            "Question: Quantum computing has the potential to revolutionize what?\n",
            "Answer: Ai\n",
            "\n",
            "\n",
            "Question: Why do many ai models function as \"black boxes\"?\n",
            "Answer: Especially deep neural networks\n",
            "\n",
            "\n",
            "Question: Why do deep neural networks function as \"black boxes\"?\n",
            "Answer: Many ai models\n",
            "\n",
            "\n",
            "Question: How does quantum computing revolutionize ai?\n",
            "Answer: The potential\n",
            "\n",
            "\n"
          ]
        }
      ],
      "source": [
        "def get_question(context, answer, model, tokenizer):\n",
        "    text = \"context: {} answer: {}\".format(context, answer)\n",
        "    encoding = tokenizer.encode_plus(text, max_length=384, pad_to_max_length=False, truncation=True, return_tensors=\"pt\").to(device)\n",
        "    input_ids, attention_mask = encoding[\"input_ids\"], encoding[\"attention_mask\"]\n",
        "    outs = model.generate(input_ids=input_ids,\n",
        "                            attention_mask=attention_mask,\n",
        "                            early_stopping=True,\n",
        "                            num_beams=20,\n",
        "                            num_return_sequences=1,\n",
        "                            no_repeat_ngram_size=4,\n",
        "                            max_length=100 )\n",
        "    dec = [tokenizer.decode(ids, skip_special_tokens=True) for ids in outs]\n",
        "    Question = dec[0].replace(\"question:\", \"\")\n",
        "    Question = Question.strip()\n",
        "    return Question\n",
        "\n",
        "def generate_questions(summaries, keywords, model, tokenizer):\n",
        "    que_pair = []\n",
        "    for i, summary in enumerate(summaries):\n",
        "        keys = keywords[i]\n",
        "        for answer in keys:\n",
        "            try:  # Add a try-except block to handle potential errors\n",
        "                ques = get_question(summary, answer, model, tokenizer)\n",
        "                que_pair.append((ques, answer.capitalize()))\n",
        "            except Exception as e:\n",
        "                print(f\"Error generating question for answer '{answer}': {e}\")\n",
        "                # You can choose to skip the problematic answer or handle it differently\n",
        "                # For example, append a default question or an error message\n",
        "                que_pair.append((\"Error generating question\", answer.capitalize()))\n",
        "    return que_pair\n",
        "\n",
        "questions = generate_questions(summaries, generated_keys, question_model, question_tokenizer)\n",
        "for question, answer in questions:\n",
        "    print(\"Question:\", question)\n",
        "    print(\"Answer:\", answer)\n",
        "    print(\"\\n\")\n"
      ]
    },
    {
      "cell_type": "code",
      "execution_count": null,
      "metadata": {
        "id": "IYhRKrJo9Mz5",
        "colab": {
          "base_uri": "https://localhost:8080/"
        },
        "outputId": "83425e3f-3202-4872-aec5-c986bf71ff83"
      },
      "outputs": [
        {
          "output_type": "stream",
          "name": "stdout",
          "text": [
            "total_questions: 27\n",
            "matched answers: 27\n",
            "unmatched  answers: 0\n",
            "match_rate: 100.0\n",
            "unmatched_answers:\n",
            "matched_answers:\n",
            "Style\n",
            "Lessons\n",
            "Systems\n",
            "Ml\n",
            "Data\n",
            "Images\n",
            "Engagement\n",
            "A subset\n",
            "Each student's pace\n",
            "Machine learning\n",
            "Ai\n",
            "Visual data\n",
            "Outcomes\n",
            "Videos\n",
            "Humans\n",
            "\"black boxes\n",
            "Classical computers\n",
            "Their decisionmaking processes\n",
            "Extensive personal data\n",
            "Explainability\n",
            "Risks\n",
            "Problems\n",
            "Data security\n",
            "Ai\n",
            "Especially deep neural networks\n",
            "Many ai models\n",
            "The potential\n"
          ]
        }
      ],
      "source": [
        "# prompt: performace metric for list of  qstn & answer generated\n",
        "\n",
        "def calculate_performance_metrics(questions):\n",
        "    \"\"\"\n",
        "    Calculates performance metrics for a list of question-answer pairs.\n",
        "\n",
        "    Args:\n",
        "        questions: A list of tuples, where each tuple contains a question and its corresponding answer.\n",
        "\n",
        "    Returns:\n",
        "        A dictionary containing the performance metrics.\n",
        "    \"\"\"\n",
        "\n",
        "    total_questions = len(questions)\n",
        "    unmatched_count = 0\n",
        "    matched_count = 0\n",
        "\n",
        "    unmatched_answers = []\n",
        "    matched_answers = []\n",
        "\n",
        "\n",
        "    for question, answer in questions:\n",
        "        if question == \"Error generating question\":\n",
        "            unmatched_count += 1\n",
        "            unmatched_answers.append(answer)\n",
        "        else:\n",
        "            matched_count += 1\n",
        "            matched_answers.append(answer)\n",
        "\n",
        "    metrics = {\n",
        "        \"total_questions\": total_questions,\n",
        "        \"matched answers\": matched_count,\n",
        "        \"unmatched  answers\": unmatched_count,\n",
        "        \"match_rate\": (matched_count / total_questions) * 100 if total_questions > 0 else 0,\n",
        "        \"unmatched_answers\": unmatched_answers,  # Include unmatched answers in the metrics\n",
        "        \"matched_answers\": matched_answers       # Include matched answers\n",
        "    }\n",
        "\n",
        "    return metrics\n",
        "\n",
        "# Example usage (assuming 'questions' is your list of question-answer pairs)\n",
        "performance_metrics = calculate_performance_metrics(questions)\n",
        "\n",
        "# Print the performance metrics\n",
        "for metric, value in performance_metrics.items():\n",
        "    if metric == \"unmatched_answers\" or metric == \"matched_answers\":\n",
        "        print(f\"{metric}:\")\n",
        "        for item in value:\n",
        "          print(item)\n",
        "    else:\n",
        "      print(f\"{metric}: {value}\")\n"
      ]
    },
    {
      "cell_type": "code",
      "execution_count": null,
      "metadata": {
        "id": "_LAERb5j_mam",
        "colab": {
          "base_uri": "https://localhost:8080/"
        },
        "outputId": "4e100911-2656-4d56-d66b-43db06dab716"
      },
      "outputs": [
        {
          "output_type": "execute_result",
          "data": {
            "text/plain": [
              "27"
            ]
          },
          "metadata": {},
          "execution_count": 55
        }
      ],
      "source": [
        "len(questions)"
      ]
    },
    {
      "cell_type": "code",
      "execution_count": null,
      "metadata": {
        "id": "0FV13JmA7bjQ",
        "colab": {
          "base_uri": "https://localhost:8080/"
        },
        "outputId": "36d47cd2-304b-444a-d054-62a558dec3bc"
      },
      "outputs": [
        {
          "output_type": "stream",
          "name": "stdout",
          "text": [
            "[Ai, lessons, each student's pace]\n",
            "[each student's pace, style]\n",
            "[data]\n",
            "[the name, machine learning]\n",
            "[Machine learning, systems]\n",
            "[4 computer vision, systems, visual data]\n",
            "[lessons, each student's pace, style]\n",
            "[machine, a subset, ai]\n",
            "[Ai, lessons]\n",
            "[a subset, ai]\n",
            "[machine, a subset]\n",
            "[4 computer vision, ai systems]\n",
            "[ai, lessons, each student's pace, style, engagement]\n",
            "[4 computer vision, systems, visual data, images]\n",
            "[Deep neural networks, \"black boxes, their decision-making processes]\n",
            "[Deep neural networks]\n",
            "[Quantum computing, problems]\n",
            "[deep neural networks, \"black boxes]\n",
            "[systems]\n",
            "[Many ai models, especially deep neural networks, \"black boxes, their decision-making processes, humans]\n",
            "[Ai systems, extensive personal data, what to user privacy, data security]\n",
            "[quantum computing, ai]\n",
            "[ai systems, extensive personal data, risks, user privacy]\n",
            "[Quantum computing, the potential]\n",
            "[many ai models, \"black boxes]\n",
            "[deep neural networks, \"black boxes]\n",
            "[quantum computing, ai]\n"
          ]
        }
      ],
      "source": [
        "for que,ans in questions:\n",
        "  que_doc=nlp(que)\n",
        "  que_key =[]\n",
        "  for word in que_doc.noun_chunks:\n",
        "    if word.text.lower() not in stop:\n",
        "      que_key.append(word)\n",
        "  print(que_key)\n"
      ]
    },
    {
      "cell_type": "code",
      "execution_count": null,
      "metadata": {
        "id": "u8koWZh9Ji7N",
        "colab": {
          "base_uri": "https://localhost:8080/"
        },
        "outputId": "a238df69-8cc5-4e64-fce0-aa50611baaa8"
      },
      "outputs": [
        {
          "output_type": "stream",
          "name": "stdout",
          "text": [
            "Overall Question Uniqueness Score: 96.30%\n"
          ]
        }
      ],
      "source": [
        "# prompt: calculate overall uniquess score for generated questions by t5 model\n",
        "\n",
        "def calculate_question_uniqueness(questions):\n",
        "    \"\"\"\n",
        "    Calculates the uniqueness of generated questions.\n",
        "\n",
        "    Args:\n",
        "        questions: A list of tuples, where each tuple contains a question and its corresponding answer.\n",
        "\n",
        "    Returns:\n",
        "        A float representing the uniqueness score (percentage).\n",
        "    \"\"\"\n",
        "\n",
        "    total_questions = len(questions)\n",
        "    unique_questions = set()\n",
        "\n",
        "    for question, _ in questions:\n",
        "        if question != \"Error generating question\":  # Exclude error messages\n",
        "          unique_questions.add(question)\n",
        "\n",
        "\n",
        "    uniqueness_score = (len(unique_questions) / total_questions) * 100 if total_questions > 0 else 0\n",
        "    return uniqueness_score\n",
        "\n",
        "# Example usage:\n",
        "uniqueness = calculate_question_uniqueness(questions)\n",
        "print(f\"Overall Question Uniqueness Score: {uniqueness:.2f}%\")\n"
      ]
    },
    {
      "cell_type": "code",
      "execution_count": null,
      "metadata": {
        "id": "OAexBaDCd72D",
        "colab": {
          "base_uri": "https://localhost:8080/"
        },
        "outputId": "94494424-180e-46e3-ffbf-151c662254fe"
      },
      "outputs": [
        {
          "output_type": "execute_result",
          "data": {
            "text/plain": [
              "27"
            ]
          },
          "metadata": {},
          "execution_count": 58
        }
      ],
      "source": [
        "len(questions)"
      ]
    },
    {
      "cell_type": "code",
      "execution_count": null,
      "metadata": {
        "id": "ZOv0-jXD9EKg",
        "colab": {
          "base_uri": "https://localhost:8080/"
        },
        "outputId": "41e5b096-8269-4348-a0fd-09bccc92a8d1"
      },
      "outputs": [
        {
          "output_type": "stream",
          "name": "stdout",
          "text": [
            "\u001b[31mERROR: Could not find a version that satisfies the requirement meteor-score (from versions: none)\u001b[0m\u001b[31m\n",
            "\u001b[0m\u001b[31mERROR: No matching distribution found for meteor-score\u001b[0m\u001b[31m\n",
            "\u001b[0mCollecting sacrebleu\n",
            "  Downloading sacrebleu-2.5.1-py3-none-any.whl.metadata (51 kB)\n",
            "\u001b[2K     \u001b[90m━━━━━━━━━━━━━━━━━━━━━━━━━━━━━━━━━━━━━━━━\u001b[0m \u001b[32m51.8/51.8 kB\u001b[0m \u001b[31m3.6 MB/s\u001b[0m eta \u001b[36m0:00:00\u001b[0m\n",
            "\u001b[?25hCollecting portalocker (from sacrebleu)\n",
            "  Downloading portalocker-3.1.1-py3-none-any.whl.metadata (8.6 kB)\n",
            "Requirement already satisfied: regex in /usr/local/lib/python3.11/dist-packages (from sacrebleu) (2024.11.6)\n",
            "Requirement already satisfied: tabulate>=0.8.9 in /usr/local/lib/python3.11/dist-packages (from sacrebleu) (0.9.0)\n",
            "Requirement already satisfied: numpy>=1.17 in /usr/local/lib/python3.11/dist-packages (from sacrebleu) (2.0.2)\n",
            "Collecting colorama (from sacrebleu)\n",
            "  Downloading colorama-0.4.6-py2.py3-none-any.whl.metadata (17 kB)\n",
            "Requirement already satisfied: lxml in /usr/local/lib/python3.11/dist-packages (from sacrebleu) (5.3.1)\n",
            "Downloading sacrebleu-2.5.1-py3-none-any.whl (104 kB)\n",
            "\u001b[2K   \u001b[90m━━━━━━━━━━━━━━━━━━━━━━━━━━━━━━━━━━━━━━━━\u001b[0m \u001b[32m104.1/104.1 kB\u001b[0m \u001b[31m7.4 MB/s\u001b[0m eta \u001b[36m0:00:00\u001b[0m\n",
            "\u001b[?25hDownloading colorama-0.4.6-py2.py3-none-any.whl (25 kB)\n",
            "Downloading portalocker-3.1.1-py3-none-any.whl (19 kB)\n",
            "Installing collected packages: portalocker, colorama, sacrebleu\n",
            "Successfully installed colorama-0.4.6 portalocker-3.1.1 sacrebleu-2.5.1\n",
            "Collecting rouge-score\n",
            "  Downloading rouge_score-0.1.2.tar.gz (17 kB)\n",
            "  Preparing metadata (setup.py) ... \u001b[?25l\u001b[?25hdone\n",
            "Requirement already satisfied: absl-py in /usr/local/lib/python3.11/dist-packages (from rouge-score) (1.4.0)\n",
            "Requirement already satisfied: nltk in /usr/local/lib/python3.11/dist-packages (from rouge-score) (3.9.1)\n",
            "Requirement already satisfied: numpy in /usr/local/lib/python3.11/dist-packages (from rouge-score) (2.0.2)\n",
            "Requirement already satisfied: six>=1.14.0 in /usr/local/lib/python3.11/dist-packages (from rouge-score) (1.17.0)\n",
            "Requirement already satisfied: click in /usr/local/lib/python3.11/dist-packages (from nltk->rouge-score) (8.1.8)\n",
            "Requirement already satisfied: joblib in /usr/local/lib/python3.11/dist-packages (from nltk->rouge-score) (1.4.2)\n",
            "Requirement already satisfied: regex>=2021.8.3 in /usr/local/lib/python3.11/dist-packages (from nltk->rouge-score) (2024.11.6)\n",
            "Requirement already satisfied: tqdm in /usr/local/lib/python3.11/dist-packages (from nltk->rouge-score) (4.67.1)\n",
            "Building wheels for collected packages: rouge-score\n",
            "  Building wheel for rouge-score (setup.py) ... \u001b[?25l\u001b[?25hdone\n",
            "  Created wheel for rouge-score: filename=rouge_score-0.1.2-py3-none-any.whl size=24935 sha256=5e4ee4c2475b30857437e819407ea46e77cfb64fe12bdf19a3182facab0b315b\n",
            "  Stored in directory: /root/.cache/pip/wheels/1e/19/43/8a442dc83660ca25e163e1bd1f89919284ab0d0c1475475148\n",
            "Successfully built rouge-score\n",
            "Installing collected packages: rouge-score\n",
            "Successfully installed rouge-score-0.1.2\n"
          ]
        }
      ],
      "source": [
        "# prompt: import meteor,bleu,rouge pip commands\n",
        "\n",
        "!pip install meteor-score\n",
        "!pip install sacrebleu\n",
        "!pip install rouge-score\n"
      ]
    },
    {
      "cell_type": "code",
      "execution_count": null,
      "metadata": {
        "id": "c3BTgbvIK5Ru",
        "colab": {
          "base_uri": "https://localhost:8080/"
        },
        "outputId": "dfec2901-836d-4fbd-9361-496e60226e5a"
      },
      "outputs": [
        {
          "output_type": "stream",
          "name": "stdout",
          "text": [
            "Requirement already satisfied: nltk in /usr/local/lib/python3.11/dist-packages (3.9.1)\n",
            "Requirement already satisfied: click in /usr/local/lib/python3.11/dist-packages (from nltk) (8.1.8)\n",
            "Requirement already satisfied: joblib in /usr/local/lib/python3.11/dist-packages (from nltk) (1.4.2)\n",
            "Requirement already satisfied: regex>=2021.8.3 in /usr/local/lib/python3.11/dist-packages (from nltk) (2024.11.6)\n",
            "Requirement already satisfied: tqdm in /usr/local/lib/python3.11/dist-packages (from nltk) (4.67.1)\n",
            "\u001b[31mERROR: Could not find a version that satisfies the requirement meteor-score (from versions: none)\u001b[0m\u001b[31m\n",
            "\u001b[0m\u001b[31mERROR: No matching distribution found for meteor-score\u001b[0m\u001b[31m\n",
            "\u001b[0merror: Input lists must have the same length.\n"
          ]
        },
        {
          "output_type": "stream",
          "name": "stderr",
          "text": [
            "[nltk_data] Downloading package wordnet to /root/nltk_data...\n"
          ]
        }
      ],
      "source": [
        "# prompt: list me generated questions by t5  model\n",
        "!pip install nltk\n",
        "!pip install meteor-score # Install the meteor-score package\n",
        "\n",
        "from rouge_score import rouge_scorer\n",
        "from sacrebleu.metrics import BLEU, CHRF, TER\n",
        "import nltk # import nltk to access meteor_score\n",
        "\n",
        "# download wordnet, if not already downloaded\n",
        "nltk.download('wordnet')\n",
        "from nltk.translate.meteor_score import meteor_score\n",
        "\n",
        "\n",
        "def calculate_question_quality(questions, reference_questions):\n",
        "    \"\"\"\n",
        "    Calculates the quality of generated questions using various metrics.\n",
        "\n",
        "    Args:\n",
        "      questions: A list of generated questions.\n",
        "      reference_questions: A list of reference questions (ground truth).\n",
        "\n",
        "    Returns:\n",
        "        A dictionary containing the calculated metrics.\n",
        "    \"\"\"\n",
        "\n",
        "    if not questions or not reference_questions:\n",
        "        return {\"error\": \"Empty input lists.\"}  # Handle empty input lists\n",
        "\n",
        "    if len(questions) != len(reference_questions):\n",
        "        return {\"error\": \"Input lists must have the same length.\"}\n",
        "\n",
        "    scorer = rouge_scorer.RougeScorer(['rouge1', 'rougeL'], use_stemmer=True)\n",
        "    bleu = BLEU()\n",
        "    chrf = CHRF()\n",
        "    ter = TER()\n",
        "\n",
        "    rouge1_scores = []\n",
        "    rougeL_scores = []\n",
        "    bleu_scores = []\n",
        "    chrf_scores = []\n",
        "    ter_scores = []\n",
        "    meteor_scores = []\n",
        "\n",
        "\n",
        "    for generated_question, reference_question in zip(questions, reference_questions):\n",
        "\n",
        "        # Handle cases where either the generated or reference question is an error message\n",
        "        if generated_question == \"Error generating question\" or not reference_question:\n",
        "            rouge1_scores.append(0)\n",
        "            rougeL_scores.append(0)\n",
        "            bleu_scores.append(0)\n",
        "            chrf_scores.append(0)\n",
        "            ter_scores.append(0)\n",
        "            meteor_scores.append(0)\n",
        "            continue\n",
        "\n",
        "        scores = scorer.score(reference_question, generated_question)\n",
        "        rouge1_scores.append(scores['rouge1'].fmeasure)\n",
        "        rougeL_scores.append(scores['rougeL'].fmeasure)\n",
        "\n",
        "        bleu_score = bleu.sentence_score(generated_question, [reference_question]).score\n",
        "        bleu_scores.append(bleu_score)\n",
        "\n",
        "        chrf_score = chrf.sentence_score(generated_question, [reference_question]).score\n",
        "        chrf_scores.append(chrf_score)\n",
        "\n",
        "        ter_score = ter.sentence_score(generated_question, [reference_question]).score\n",
        "        ter_scores.append(ter_score)\n",
        "\n",
        "        meteor_scores.append(meteor_score([generated_question], reference_question))\n",
        "\n",
        "    metrics = {\n",
        "        \"rouge1\": sum(rouge1_scores) / len(rouge1_scores) if rouge1_scores else 0,\n",
        "        \"rougeL\": sum(rougeL_scores) / len(rougeL_scores) if rougeL_scores else 0,\n",
        "        \"bleu\": sum(bleu_scores) / len(bleu_scores) if bleu_scores else 0,\n",
        "        \"chrf\": sum(chrf_scores) / len(chrf_scores) if chrf_scores else 0,\n",
        "        \"ter\": sum(ter_scores) / len(ter_scores) if ter_scores else 0,\n",
        "        \"meteor\": sum(meteor_scores) / len(meteor_scores) if meteor_scores else 0,\n",
        "    }\n",
        "\n",
        "    return metrics\n",
        "\n",
        "# Example usage (replace with your actual generated and reference questions):\n",
        "\n",
        "# Sample generated and reference questions (replace with your actual data)\n",
        "generated_questions = [q for q,a in questions]\n",
        "reference_questions = [\"What is the role of artificial intelligence in education?\",  # Example reference questions\n",
        "                        \"How can machine learning enhance teaching and learning?\",\n",
        "                        \"What are the ethical considerations of AI in education?\" ]\n",
        "\n",
        "\n",
        "quality_metrics = calculate_question_quality(generated_questions, reference_questions)\n",
        "\n",
        "for metric, value in quality_metrics.items():\n",
        "    print(f\"{metric}: {value}\")\n"
      ]
    },
    {
      "cell_type": "code",
      "execution_count": null,
      "metadata": {
        "id": "9j2TgHfQPy2f",
        "colab": {
          "base_uri": "https://localhost:8080/"
        },
        "outputId": "882f260d-5e47-473c-b42a-da875186b6bd"
      },
      "outputs": [
        {
          "output_type": "stream",
          "name": "stdout",
          "text": [
            "Question: Ai personalizes lessons to match each student's pace and learning what?\n",
            "Question: What does ai personalize to match each student's pace and learning style?\n",
            "Question: What can learn from data without being explicitly programmed?\n",
            "Question: What is the name of machine learning?\n",
            "Question: Machine learning enables systems to learn from what without being explicitly programmed?\n",
            "Question: 4 computer vision allows ai systems to interpret and analyze visual data — what is it?\n",
            "Question: What does ai personalize lessons to match each student's pace and learning style improve?\n",
            "Question: Is machine learning a subset of ai?\n",
            "Question: Ai personalizes lessons to match what?\n",
            "Question: What is a subset of ai?\n",
            "Question: What is machine learning a subset of?\n",
            "Question: What does 4 computer vision allow ai systems to interpret and analyze?\n",
            "Question: ai personalizes lessons to match each student's pace and learning style, improving engagement and what?\n",
            "Question: 4 computer vision allows ai systems to interpret and analyze visual data — images and what?\n",
            "Question: Deep neural networks function as \"black boxes\" — their decision-making processes are not easily interpretable by whom?\n",
            "Question: Deep neural networks function as what?\n",
            "Question: Quantum computing solves problems that are infeasible for what?\n",
            "Question: Why do deep neural networks function as \"black boxes\"?\n",
            "Question: What do ai systems often require?\n",
            "Question: Many ai models, especially deep neural networks, function as \"black boxes\" — their decision-making processes are not easily interpretable by humans?\n",
            "Question: Ai systems often require extensive personal data, posing what to user privacy and data security?\n",
            "Question: How can quantum computing revolutionize ai?\n",
            "Question: ai systems often require extensive personal data, posing risks to user privacy and what?\n",
            "Question: Quantum computing has the potential to revolutionize what?\n",
            "Question: Why do many ai models function as \"black boxes\"?\n",
            "Question: Why do deep neural networks function as \"black boxes\"?\n",
            "Question: How does quantum computing revolutionize ai?\n"
          ]
        }
      ],
      "source": [
        "# prompt: list t5 generated question\n",
        "\n",
        "for question, answer in questions:\n",
        "    print(\"Question:\", question)\n"
      ]
    },
    {
      "cell_type": "code",
      "execution_count": null,
      "metadata": {
        "id": "WVpZsaVsP3v3",
        "colab": {
          "base_uri": "https://localhost:8080/"
        },
        "outputId": "adca43f6-cf58-4485-b6cd-bbc73d03f0ff"
      },
      "outputs": [
        {
          "output_type": "stream",
          "name": "stdout",
          "text": [
            "The vocabulary richness (TTR) of the text is: 1.0000\n",
            "Question: Ai personalizes lessons to match each student's pace and learning what?\n",
            "Vocabulary Richness (TTR): 1.0000\n",
            "--------------------\n",
            "Question: What does ai personalize to match each student's pace and learning style?\n",
            "Vocabulary Richness (TTR): 1.0000\n",
            "--------------------\n",
            "Question: What can learn from data without being explicitly programmed?\n",
            "Vocabulary Richness (TTR): 1.0000\n",
            "--------------------\n",
            "Question: What is the name of machine learning?\n",
            "Vocabulary Richness (TTR): 1.0000\n",
            "--------------------\n",
            "Question: Machine learning enables systems to learn from what without being explicitly programmed?\n",
            "Vocabulary Richness (TTR): 1.0000\n",
            "--------------------\n",
            "Question: 4 computer vision allows ai systems to interpret and analyze visual data — what is it?\n",
            "Vocabulary Richness (TTR): 1.0000\n",
            "--------------------\n",
            "Question: What does ai personalize lessons to match each student's pace and learning style improve?\n",
            "Vocabulary Richness (TTR): 1.0000\n",
            "--------------------\n",
            "Question: Is machine learning a subset of ai?\n",
            "Vocabulary Richness (TTR): 1.0000\n",
            "--------------------\n",
            "Question: Ai personalizes lessons to match what?\n",
            "Vocabulary Richness (TTR): 1.0000\n",
            "--------------------\n",
            "Question: What is a subset of ai?\n",
            "Vocabulary Richness (TTR): 1.0000\n",
            "--------------------\n",
            "Question: What is machine learning a subset of?\n",
            "Vocabulary Richness (TTR): 1.0000\n",
            "--------------------\n",
            "Question: What does 4 computer vision allow ai systems to interpret and analyze?\n",
            "Vocabulary Richness (TTR): 1.0000\n",
            "--------------------\n",
            "Question: ai personalizes lessons to match each student's pace and learning style, improving engagement and what?\n",
            "Vocabulary Richness (TTR): 0.9444\n",
            "--------------------\n",
            "Question: 4 computer vision allows ai systems to interpret and analyze visual data — images and what?\n",
            "Vocabulary Richness (TTR): 0.9412\n",
            "--------------------\n",
            "Question: Deep neural networks function as \"black boxes\" — their decision-making processes are not easily interpretable by whom?\n",
            "Vocabulary Richness (TTR): 1.0000\n",
            "--------------------\n",
            "Question: Deep neural networks function as what?\n",
            "Vocabulary Richness (TTR): 1.0000\n",
            "--------------------\n",
            "Question: Quantum computing solves problems that are infeasible for what?\n",
            "Vocabulary Richness (TTR): 1.0000\n",
            "--------------------\n",
            "Question: Why do deep neural networks function as \"black boxes\"?\n",
            "Vocabulary Richness (TTR): 1.0000\n",
            "--------------------\n",
            "Question: What do ai systems often require?\n",
            "Vocabulary Richness (TTR): 1.0000\n",
            "--------------------\n",
            "Question: Many ai models, especially deep neural networks, function as \"black boxes\" — their decision-making processes are not easily interpretable by humans?\n",
            "Vocabulary Richness (TTR): 0.9615\n",
            "--------------------\n",
            "Question: Ai systems often require extensive personal data, posing what to user privacy and data security?\n",
            "Vocabulary Richness (TTR): 0.9412\n",
            "--------------------\n",
            "Question: How can quantum computing revolutionize ai?\n",
            "Vocabulary Richness (TTR): 1.0000\n",
            "--------------------\n",
            "Question: ai systems often require extensive personal data, posing risks to user privacy and what?\n",
            "Vocabulary Richness (TTR): 1.0000\n",
            "--------------------\n",
            "Question: Quantum computing has the potential to revolutionize what?\n",
            "Vocabulary Richness (TTR): 1.0000\n",
            "--------------------\n",
            "Question: Why do many ai models function as \"black boxes\"?\n",
            "Vocabulary Richness (TTR): 1.0000\n",
            "--------------------\n",
            "Question: Why do deep neural networks function as \"black boxes\"?\n",
            "Vocabulary Richness (TTR): 1.0000\n",
            "--------------------\n",
            "Question: How does quantum computing revolutionize ai?\n",
            "Vocabulary Richness (TTR): 1.0000\n",
            "--------------------\n"
          ]
        }
      ],
      "source": [
        "# prompt: vocabulary richness of qquestions\n",
        "\n",
        "def calculate_vocabulary_richness(text):\n",
        "    \"\"\"Calculates the vocabulary richness of a given text.\n",
        "\n",
        "    Args:\n",
        "        text: The input text as a string.\n",
        "\n",
        "    Returns:\n",
        "        A float representing the type-token ratio (TTR), a measure of vocabulary richness.\n",
        "    \"\"\"\n",
        "\n",
        "    words = word_tokenize(text.lower())\n",
        "    unique_words = set(words)\n",
        "\n",
        "    if not words:\n",
        "        return 0  # Handle empty text input\n",
        "\n",
        "    ttr = len(unique_words) / len(words)\n",
        "    return ttr\n",
        "\n",
        "\n",
        "# Example usage (assuming 'text' is defined in your code)\n",
        "# Replace the following with your actual text:\n",
        "text = \"This is a sample text to calculate vocabulary richness.\"\n",
        "vocabulary_richness = calculate_vocabulary_richness(text)\n",
        "print(f\"The vocabulary richness (TTR) of the text is: {vocabulary_richness:.4f}\")\n",
        "\n",
        "# Calculate vocabulary richness for all questions\n",
        "for question, answer in questions:\n",
        "    if question != \"Error generating question\":  # Exclude error messages\n",
        "        ttr = calculate_vocabulary_richness(question)\n",
        "        print(f\"Question: {question}\")\n",
        "        print(f\"Vocabulary Richness (TTR): {ttr:.4f}\")\n",
        "        print(\"-\" * 20)\n"
      ]
    },
    {
      "cell_type": "code",
      "execution_count": null,
      "metadata": {
        "id": "Yqc9WwLiRiEA"
      },
      "outputs": [],
      "source": [
        "# stores these qustion and answer\n",
        "\n",
        "import json\n",
        "\n",
        "def store_qa_pairs(questions, filename=\"qa_pairs.json\"):\n",
        "    \"\"\"Stores question-answer pairs in a JSON file.\n",
        "\n",
        "    Args:\n",
        "        questions: A list of tuples, where each tuple contains a question and its corresponding answer.\n",
        "        filename: The name of the JSON file to store the data.\n",
        "    \"\"\"\n",
        "    qa_data = []\n",
        "    for question, answer in questions:\n",
        "        qa_data.append({\"question\": question, \"answer\": answer})\n",
        "\n",
        "    with open(filename, 'w') as f:\n",
        "        json.dump(qa_data, f, indent=4)\n",
        "\n",
        "# Example usage:\n",
        "# Assuming 'questions' is your list of question-answer pairs from the previous code.\n",
        "store_qa_pairs(questions)\n"
      ]
    },
    {
      "cell_type": "code",
      "execution_count": null,
      "metadata": {
        "id": "fiW4eWu2P_yH",
        "colab": {
          "base_uri": "https://localhost:8080/"
        },
        "outputId": "057fa048-81fd-4bd6-aca2-4912a7d3b6d8"
      },
      "outputs": [
        {
          "output_type": "execute_result",
          "data": {
            "text/plain": [
              "{'keyword_uniqueness': 96.29629629629629,\n",
              " 'avg_question_richness': 0.9921605869318287,\n",
              " 'overall_richness': 58.1746420125505}"
            ]
          },
          "metadata": {},
          "execution_count": 65
        }
      ],
      "source": [
        "# overall richness\n",
        "\n",
        "def calculate_overall_richness(generated_keys, questions):\n",
        "    \"\"\"Calculates overall richness based on keyword uniqueness and question vocabulary richness.\n",
        "\n",
        "    Args:\n",
        "        generated_keys: A list of lists of keywords.\n",
        "        questions: A list of tuples, where each tuple contains a question and its corresponding answer.\n",
        "\n",
        "    Returns:\n",
        "        A dictionary containing the overall richness scores.\n",
        "    \"\"\"\n",
        "\n",
        "    # Keyword Uniqueness\n",
        "    total_keys = 0\n",
        "    unique_keys = set()\n",
        "    for key_list in generated_keys:\n",
        "        total_keys += len(key_list)\n",
        "        unique_keys.update(key_list)\n",
        "    keyword_uniqueness = (len(unique_keys) / total_keys) * 100 if total_keys > 0 else 0\n",
        "\n",
        "    # Question Vocabulary Richness\n",
        "    question_ttrs = []\n",
        "    for question, _ in questions:\n",
        "        if question != \"Error generating question\":\n",
        "            ttr = calculate_vocabulary_richness(question)\n",
        "            question_ttrs.append(ttr)\n",
        "    avg_question_richness = sum(question_ttrs) / len(question_ttrs) if question_ttrs else 0\n",
        "\n",
        "    # Overall Richness (weighted average)\n",
        "    overall_richness = 0.6 * keyword_uniqueness + 0.4 * avg_question_richness\n",
        "\n",
        "    return {\n",
        "        \"keyword_uniqueness\": keyword_uniqueness,\n",
        "        \"avg_question_richness\": avg_question_richness,\n",
        "        \"overall_richness\": overall_richness,\n",
        "    }\n",
        "\n",
        "# Example usage:\n",
        "richness_metrics = calculate_overall_richness(generated_keys, questions)\n",
        "richness_metrics\n"
      ]
    },
    {
      "cell_type": "code",
      "execution_count": null,
      "metadata": {
        "id": "JBy50RPzU7w-"
      },
      "outputs": [],
      "source": []
    },
    {
      "cell_type": "code",
      "execution_count": null,
      "metadata": {
        "id": "IcbghYS4QFm2",
        "colab": {
          "base_uri": "https://localhost:8080/"
        },
        "outputId": "eeb061dd-850b-4ee6-aa52-eab79b58ee4e"
      },
      "outputs": [
        {
          "output_type": "stream",
          "name": "stdout",
          "text": [
            "Question: Ai personalizes lessons to match each student's pace and learning what?\n",
            "Answer: Style\n",
            "\n",
            "\n",
            "Question: What does ai personalize to match each student's pace and learning style?\n",
            "Answer: Lessons\n",
            "\n",
            "\n",
            "Question: What can learn from data without being explicitly programmed?\n",
            "Answer: Systems\n",
            "\n",
            "\n",
            "Question: What is the name of machine learning?\n",
            "Answer: Ml\n",
            "\n",
            "\n",
            "Question: Machine learning enables systems to learn from what without being explicitly programmed?\n",
            "Answer: Data\n",
            "\n",
            "\n",
            "Question: 4 computer vision allows ai systems to interpret and analyze visual data — what is it?\n",
            "Answer: Images\n",
            "\n",
            "\n",
            "Question: What does ai personalize lessons to match each student's pace and learning style improve?\n",
            "Answer: Engagement\n",
            "\n",
            "\n",
            "Question: Is machine learning a subset of ai?\n",
            "Answer: A subset\n",
            "\n",
            "\n",
            "Question: Ai personalizes lessons to match what?\n",
            "Answer: Each student's pace\n",
            "\n",
            "\n",
            "Question: What is a subset of ai?\n",
            "Answer: Machine learning\n",
            "\n",
            "\n",
            "Question: What is machine learning a subset of?\n",
            "Answer: Ai\n",
            "\n",
            "\n",
            "Question: What does 4 computer vision allow ai systems to interpret and analyze?\n",
            "Answer: Visual data\n",
            "\n",
            "\n",
            "Question: Deep neural networks function as \"black boxes\" — their decision-making processes are not easily interpretable by whom?\n",
            "Answer: Humans\n",
            "\n",
            "\n",
            "Question: Deep neural networks function as what?\n",
            "Answer: \"black boxes\n",
            "\n",
            "\n",
            "Question: Quantum computing solves problems that are infeasible for what?\n",
            "Answer: Classical computers\n",
            "\n",
            "\n",
            "Question: Why do deep neural networks function as \"black boxes\"?\n",
            "Answer: Their decisionmaking processes\n",
            "\n",
            "\n",
            "Question: What do ai systems often require?\n",
            "Answer: Extensive personal data\n",
            "\n",
            "\n",
            "Question: How can quantum computing revolutionize ai?\n",
            "Answer: Problems\n",
            "\n",
            "\n",
            "Question: ai systems often require extensive personal data, posing risks to user privacy and what?\n",
            "Answer: Data security\n",
            "\n",
            "\n",
            "Question: Quantum computing has the potential to revolutionize what?\n",
            "Answer: Ai\n",
            "\n",
            "\n",
            "Question: Why do many ai models function as \"black boxes\"?\n",
            "Answer: Especially deep neural networks\n",
            "\n",
            "\n",
            "Question: Why do deep neural networks function as \"black boxes\"?\n",
            "Answer: Many ai models\n",
            "\n",
            "\n",
            "Question: How does quantum computing revolutionize ai?\n",
            "Answer: The potential\n",
            "\n",
            "\n"
          ]
        }
      ],
      "source": [
        "\n",
        "def remove_low_richness_questions(questions, threshold=0.9):\n",
        "  \"\"\"Removes questions with vocabulary richness (TTR) below a given threshold.\n",
        "\n",
        "  Args:\n",
        "      questions: A list of tuples, where each tuple contains a question and its corresponding answer.\n",
        "      threshold: The minimum TTR score for a question to be considered rich.\n",
        "\n",
        "  Returns:\n",
        "      A new list of questions that meet the richness criterion.\n",
        "  \"\"\"\n",
        "\n",
        "  filtered_questions = []\n",
        "  for question, answer in questions:\n",
        "    if question != \"Error generating question\":  # Exclude error messages\n",
        "        ttr = calculate_vocabulary_richness(question)\n",
        "        if ttr >= threshold:\n",
        "            filtered_questions.append((question, answer))\n",
        "  return filtered_questions\n",
        "\n",
        "# Example usage:\n",
        "filtered_questions = remove_low_richness_questions(questions, threshold=0.99)\n",
        "\n",
        "for question, answer in filtered_questions:\n",
        "    print(\"Question:\", question)\n",
        "    print(\"Answer:\", answer)\n",
        "    print(\"\\n\")\n"
      ]
    },
    {
      "cell_type": "code",
      "execution_count": null,
      "metadata": {
        "id": "RwdmRypcVVoN",
        "colab": {
          "base_uri": "https://localhost:8080/"
        },
        "outputId": "e3c9cd17-ddc0-4ea8-9e20-7d36a8268fc7"
      },
      "outputs": [
        {
          "output_type": "stream",
          "name": "stdout",
          "text": [
            "23\n"
          ]
        }
      ],
      "source": [
        "# prompt: count filtered_questions\n",
        "\n",
        "print(len(filtered_questions))\n"
      ]
    },
    {
      "cell_type": "code",
      "execution_count": null,
      "metadata": {
        "id": "tCHu3zSsVC0-",
        "colab": {
          "base_uri": "https://localhost:8080/"
        },
        "outputId": "e0944852-1509-42fa-fdf4-90cbd35b98e2"
      },
      "outputs": [
        {
          "output_type": "stream",
          "name": "stdout",
          "text": [
            "Reference Questions:\n",
            "Question: Why do many ai models function as \"black boxes\"?\n",
            "Answer: Especially deep neural networks\n",
            "\n",
            "\n",
            "Question: Deep neural networks function as what?\n",
            "Answer: \"black boxes\n",
            "\n",
            "\n",
            "Question: What does ai personalize to match each student's pace and learning style?\n",
            "Answer: Lessons\n",
            "\n",
            "\n",
            "Question: What does ai personalize lessons to match each student's pace and learning style improve?\n",
            "Answer: Engagement\n",
            "\n",
            "\n",
            "Question: Quantum computing solves problems that are infeasible for what?\n",
            "Answer: Classical computers\n",
            "\n",
            "\n",
            "Question: What is machine learning a subset of?\n",
            "Answer: Ai\n",
            "\n",
            "\n",
            "Question: What is a subset of ai?\n",
            "Answer: Machine learning\n",
            "\n",
            "\n",
            "Question: Is machine learning a subset of ai?\n",
            "Answer: A subset\n",
            "\n",
            "\n",
            "Question: ai systems often require extensive personal data, posing risks to user privacy and what?\n",
            "Answer: Data security\n",
            "\n",
            "\n",
            "Question: Why do deep neural networks function as \"black boxes\"?\n",
            "Answer: Their decisionmaking processes\n",
            "\n",
            "\n",
            "Question: How can quantum computing revolutionize ai?\n",
            "Answer: Problems\n",
            "\n",
            "\n",
            "Evaluation Questions:\n",
            "Question: Deep neural networks function as \"black boxes\" — their decision-making processes are not easily interpretable by whom?\n",
            "Answer: Humans\n",
            "\n",
            "\n",
            "Question: What is the name of machine learning?\n",
            "Answer: Ml\n",
            "\n",
            "\n",
            "Question: What can learn from data without being explicitly programmed?\n",
            "Answer: Systems\n",
            "\n",
            "\n",
            "Question: How does quantum computing revolutionize ai?\n",
            "Answer: The potential\n",
            "\n",
            "\n",
            "Question: What does 4 computer vision allow ai systems to interpret and analyze?\n",
            "Answer: Visual data\n",
            "\n",
            "\n",
            "Question: Quantum computing has the potential to revolutionize what?\n",
            "Answer: Ai\n",
            "\n",
            "\n",
            "Question: Ai personalizes lessons to match what?\n",
            "Answer: Each student's pace\n",
            "\n",
            "\n",
            "Question: Why do deep neural networks function as \"black boxes\"?\n",
            "Answer: Many ai models\n",
            "\n",
            "\n",
            "Question: Ai personalizes lessons to match each student's pace and learning what?\n",
            "Answer: Style\n",
            "\n",
            "\n",
            "Question: Machine learning enables systems to learn from what without being explicitly programmed?\n",
            "Answer: Data\n",
            "\n",
            "\n",
            "Question: What do ai systems often require?\n",
            "Answer: Extensive personal data\n",
            "\n",
            "\n",
            "Question: 4 computer vision allows ai systems to interpret and analyze visual data — what is it?\n",
            "Answer: Images\n",
            "\n",
            "\n"
          ]
        }
      ],
      "source": [
        "\n",
        "import random\n",
        "\n",
        "# Assuming 'filtered_questions' is your list of (question, answer) tuples.\n",
        "random.shuffle(filtered_questions)  # Shuffle the list randomly\n",
        "\n",
        "split_index = len(filtered_questions) // 2\n",
        "ref_questions = filtered_questions[:split_index]\n",
        "eval_questions = filtered_questions[split_index:]\n",
        "\n",
        "print(\"Reference Questions:\")\n",
        "for question, answer in ref_questions:\n",
        "    print(\"Question:\", question)\n",
        "    print(\"Answer:\", answer)\n",
        "    print(\"\\n\")\n",
        "\n",
        "print(\"Evaluation Questions:\")\n",
        "for question, answer in eval_questions:\n",
        "    print(\"Question:\", question)\n",
        "    print(\"Answer:\", answer)\n",
        "    print(\"\\n\")\n"
      ]
    },
    {
      "cell_type": "code",
      "execution_count": null,
      "metadata": {
        "id": "V-exAmCkWe8Q",
        "colab": {
          "base_uri": "https://localhost:8080/"
        },
        "outputId": "67f52fdc-62de-4736-d28f-825520b158fb"
      },
      "outputs": [
        {
          "output_type": "stream",
          "name": "stdout",
          "text": [
            "BLEU score: 70.71067811865478\n"
          ]
        }
      ],
      "source": [
        "import random\n",
        "from sacrebleu import corpus_bleu\n",
        "\n",
        "# Assuming 'filtered_questions' is a list of (question, answer) tuples.\n",
        "random.shuffle(filtered_questions)  # Shuffle the list\n",
        "\n",
        "# Ensure an even split\n",
        "split_index = len(filtered_questions) // 2\n",
        "ref_questions = filtered_questions[:split_index]\n",
        "eval_questions = filtered_questions[split_index:]\n",
        "\n",
        "# Extract questions for BLEU evaluation\n",
        "reference_questions = [[q] for q, a in ref_questions]  # List of lists (for multiple references)\n",
        "candidate_questions = [q for q, a in eval_questions]\n",
        "\n",
        "# Compute BLEU score\n",
        "bleu_score = corpus_bleu(candidate_questions, reference_questions).score\n",
        "\n",
        "print(f\"BLEU score: {bleu_score}\")\n"
      ]
    },
    {
      "cell_type": "code",
      "execution_count": null,
      "metadata": {
        "id": "ktWi-GYaYLZz"
      },
      "outputs": [],
      "source": []
    },
    {
      "cell_type": "code",
      "source": [],
      "metadata": {
        "id": "fSa8nqLC5K0m"
      },
      "execution_count": null,
      "outputs": []
    },
    {
      "cell_type": "code",
      "source": [],
      "metadata": {
        "id": "1KzNGZVq5K3X"
      },
      "execution_count": null,
      "outputs": []
    },
    {
      "cell_type": "code",
      "source": [],
      "metadata": {
        "id": "40j19Ap95K57"
      },
      "execution_count": null,
      "outputs": []
    },
    {
      "cell_type": "code",
      "execution_count": null,
      "metadata": {
        "id": "6bRGU61DYLlm"
      },
      "outputs": [],
      "source": []
    }
  ],
  "metadata": {
    "accelerator": "GPU",
    "colab": {
      "gpuType": "T4",
      "provenance": []
    },
    "kernelspec": {
      "display_name": "Python 3",
      "name": "python3"
    },
    "language_info": {
      "name": "python"
    },
    "widgets": {
      "application/vnd.jupyter.widget-state+json": {
        "7acdd7e5c3854cb7865fb8960d696ff7": {
          "model_module": "@jupyter-widgets/controls",
          "model_name": "HBoxModel",
          "model_module_version": "1.5.0",
          "state": {
            "_dom_classes": [],
            "_model_module": "@jupyter-widgets/controls",
            "_model_module_version": "1.5.0",
            "_model_name": "HBoxModel",
            "_view_count": null,
            "_view_module": "@jupyter-widgets/controls",
            "_view_module_version": "1.5.0",
            "_view_name": "HBoxView",
            "box_style": "",
            "children": [
              "IPY_MODEL_046004c503b3415199909948e3a88c6c",
              "IPY_MODEL_1d1ae39a7ef7435ba4adb15d0e840004",
              "IPY_MODEL_53b856e2f4604694ad3c569536764adb"
            ],
            "layout": "IPY_MODEL_362873d9673d49ee902e6c351e0398d9"
          }
        },
        "046004c503b3415199909948e3a88c6c": {
          "model_module": "@jupyter-widgets/controls",
          "model_name": "HTMLModel",
          "model_module_version": "1.5.0",
          "state": {
            "_dom_classes": [],
            "_model_module": "@jupyter-widgets/controls",
            "_model_module_version": "1.5.0",
            "_model_name": "HTMLModel",
            "_view_count": null,
            "_view_module": "@jupyter-widgets/controls",
            "_view_module_version": "1.5.0",
            "_view_name": "HTMLView",
            "description": "",
            "description_tooltip": null,
            "layout": "IPY_MODEL_d22d8eae97a04702affa0c13dfbe771c",
            "placeholder": "​",
            "style": "IPY_MODEL_a686aa1f5e2c43fba9a2f43ef9bdd829",
            "value": "spiece.model: 100%"
          }
        },
        "1d1ae39a7ef7435ba4adb15d0e840004": {
          "model_module": "@jupyter-widgets/controls",
          "model_name": "FloatProgressModel",
          "model_module_version": "1.5.0",
          "state": {
            "_dom_classes": [],
            "_model_module": "@jupyter-widgets/controls",
            "_model_module_version": "1.5.0",
            "_model_name": "FloatProgressModel",
            "_view_count": null,
            "_view_module": "@jupyter-widgets/controls",
            "_view_module_version": "1.5.0",
            "_view_name": "ProgressView",
            "bar_style": "success",
            "description": "",
            "description_tooltip": null,
            "layout": "IPY_MODEL_1b8486266fea4e69b69afac7806f58f8",
            "max": 791656,
            "min": 0,
            "orientation": "horizontal",
            "style": "IPY_MODEL_903f1124487f4e48bdcd3cc4563d02b0",
            "value": 791656
          }
        },
        "53b856e2f4604694ad3c569536764adb": {
          "model_module": "@jupyter-widgets/controls",
          "model_name": "HTMLModel",
          "model_module_version": "1.5.0",
          "state": {
            "_dom_classes": [],
            "_model_module": "@jupyter-widgets/controls",
            "_model_module_version": "1.5.0",
            "_model_name": "HTMLModel",
            "_view_count": null,
            "_view_module": "@jupyter-widgets/controls",
            "_view_module_version": "1.5.0",
            "_view_name": "HTMLView",
            "description": "",
            "description_tooltip": null,
            "layout": "IPY_MODEL_a1034bdcbca5463b99c02f4d78be9322",
            "placeholder": "​",
            "style": "IPY_MODEL_47f3494b0dd14b60ac84e91d738d414d",
            "value": " 792k/792k [00:00&lt;00:00, 3.23MB/s]"
          }
        },
        "362873d9673d49ee902e6c351e0398d9": {
          "model_module": "@jupyter-widgets/base",
          "model_name": "LayoutModel",
          "model_module_version": "1.2.0",
          "state": {
            "_model_module": "@jupyter-widgets/base",
            "_model_module_version": "1.2.0",
            "_model_name": "LayoutModel",
            "_view_count": null,
            "_view_module": "@jupyter-widgets/base",
            "_view_module_version": "1.2.0",
            "_view_name": "LayoutView",
            "align_content": null,
            "align_items": null,
            "align_self": null,
            "border": null,
            "bottom": null,
            "display": null,
            "flex": null,
            "flex_flow": null,
            "grid_area": null,
            "grid_auto_columns": null,
            "grid_auto_flow": null,
            "grid_auto_rows": null,
            "grid_column": null,
            "grid_gap": null,
            "grid_row": null,
            "grid_template_areas": null,
            "grid_template_columns": null,
            "grid_template_rows": null,
            "height": null,
            "justify_content": null,
            "justify_items": null,
            "left": null,
            "margin": null,
            "max_height": null,
            "max_width": null,
            "min_height": null,
            "min_width": null,
            "object_fit": null,
            "object_position": null,
            "order": null,
            "overflow": null,
            "overflow_x": null,
            "overflow_y": null,
            "padding": null,
            "right": null,
            "top": null,
            "visibility": null,
            "width": null
          }
        },
        "d22d8eae97a04702affa0c13dfbe771c": {
          "model_module": "@jupyter-widgets/base",
          "model_name": "LayoutModel",
          "model_module_version": "1.2.0",
          "state": {
            "_model_module": "@jupyter-widgets/base",
            "_model_module_version": "1.2.0",
            "_model_name": "LayoutModel",
            "_view_count": null,
            "_view_module": "@jupyter-widgets/base",
            "_view_module_version": "1.2.0",
            "_view_name": "LayoutView",
            "align_content": null,
            "align_items": null,
            "align_self": null,
            "border": null,
            "bottom": null,
            "display": null,
            "flex": null,
            "flex_flow": null,
            "grid_area": null,
            "grid_auto_columns": null,
            "grid_auto_flow": null,
            "grid_auto_rows": null,
            "grid_column": null,
            "grid_gap": null,
            "grid_row": null,
            "grid_template_areas": null,
            "grid_template_columns": null,
            "grid_template_rows": null,
            "height": null,
            "justify_content": null,
            "justify_items": null,
            "left": null,
            "margin": null,
            "max_height": null,
            "max_width": null,
            "min_height": null,
            "min_width": null,
            "object_fit": null,
            "object_position": null,
            "order": null,
            "overflow": null,
            "overflow_x": null,
            "overflow_y": null,
            "padding": null,
            "right": null,
            "top": null,
            "visibility": null,
            "width": null
          }
        },
        "a686aa1f5e2c43fba9a2f43ef9bdd829": {
          "model_module": "@jupyter-widgets/controls",
          "model_name": "DescriptionStyleModel",
          "model_module_version": "1.5.0",
          "state": {
            "_model_module": "@jupyter-widgets/controls",
            "_model_module_version": "1.5.0",
            "_model_name": "DescriptionStyleModel",
            "_view_count": null,
            "_view_module": "@jupyter-widgets/base",
            "_view_module_version": "1.2.0",
            "_view_name": "StyleView",
            "description_width": ""
          }
        },
        "1b8486266fea4e69b69afac7806f58f8": {
          "model_module": "@jupyter-widgets/base",
          "model_name": "LayoutModel",
          "model_module_version": "1.2.0",
          "state": {
            "_model_module": "@jupyter-widgets/base",
            "_model_module_version": "1.2.0",
            "_model_name": "LayoutModel",
            "_view_count": null,
            "_view_module": "@jupyter-widgets/base",
            "_view_module_version": "1.2.0",
            "_view_name": "LayoutView",
            "align_content": null,
            "align_items": null,
            "align_self": null,
            "border": null,
            "bottom": null,
            "display": null,
            "flex": null,
            "flex_flow": null,
            "grid_area": null,
            "grid_auto_columns": null,
            "grid_auto_flow": null,
            "grid_auto_rows": null,
            "grid_column": null,
            "grid_gap": null,
            "grid_row": null,
            "grid_template_areas": null,
            "grid_template_columns": null,
            "grid_template_rows": null,
            "height": null,
            "justify_content": null,
            "justify_items": null,
            "left": null,
            "margin": null,
            "max_height": null,
            "max_width": null,
            "min_height": null,
            "min_width": null,
            "object_fit": null,
            "object_position": null,
            "order": null,
            "overflow": null,
            "overflow_x": null,
            "overflow_y": null,
            "padding": null,
            "right": null,
            "top": null,
            "visibility": null,
            "width": null
          }
        },
        "903f1124487f4e48bdcd3cc4563d02b0": {
          "model_module": "@jupyter-widgets/controls",
          "model_name": "ProgressStyleModel",
          "model_module_version": "1.5.0",
          "state": {
            "_model_module": "@jupyter-widgets/controls",
            "_model_module_version": "1.5.0",
            "_model_name": "ProgressStyleModel",
            "_view_count": null,
            "_view_module": "@jupyter-widgets/base",
            "_view_module_version": "1.2.0",
            "_view_name": "StyleView",
            "bar_color": null,
            "description_width": ""
          }
        },
        "a1034bdcbca5463b99c02f4d78be9322": {
          "model_module": "@jupyter-widgets/base",
          "model_name": "LayoutModel",
          "model_module_version": "1.2.0",
          "state": {
            "_model_module": "@jupyter-widgets/base",
            "_model_module_version": "1.2.0",
            "_model_name": "LayoutModel",
            "_view_count": null,
            "_view_module": "@jupyter-widgets/base",
            "_view_module_version": "1.2.0",
            "_view_name": "LayoutView",
            "align_content": null,
            "align_items": null,
            "align_self": null,
            "border": null,
            "bottom": null,
            "display": null,
            "flex": null,
            "flex_flow": null,
            "grid_area": null,
            "grid_auto_columns": null,
            "grid_auto_flow": null,
            "grid_auto_rows": null,
            "grid_column": null,
            "grid_gap": null,
            "grid_row": null,
            "grid_template_areas": null,
            "grid_template_columns": null,
            "grid_template_rows": null,
            "height": null,
            "justify_content": null,
            "justify_items": null,
            "left": null,
            "margin": null,
            "max_height": null,
            "max_width": null,
            "min_height": null,
            "min_width": null,
            "object_fit": null,
            "object_position": null,
            "order": null,
            "overflow": null,
            "overflow_x": null,
            "overflow_y": null,
            "padding": null,
            "right": null,
            "top": null,
            "visibility": null,
            "width": null
          }
        },
        "47f3494b0dd14b60ac84e91d738d414d": {
          "model_module": "@jupyter-widgets/controls",
          "model_name": "DescriptionStyleModel",
          "model_module_version": "1.5.0",
          "state": {
            "_model_module": "@jupyter-widgets/controls",
            "_model_module_version": "1.5.0",
            "_model_name": "DescriptionStyleModel",
            "_view_count": null,
            "_view_module": "@jupyter-widgets/base",
            "_view_module_version": "1.2.0",
            "_view_name": "StyleView",
            "description_width": ""
          }
        },
        "728af6b0d4fd4bde9d20f314d66e958e": {
          "model_module": "@jupyter-widgets/controls",
          "model_name": "HBoxModel",
          "model_module_version": "1.5.0",
          "state": {
            "_dom_classes": [],
            "_model_module": "@jupyter-widgets/controls",
            "_model_module_version": "1.5.0",
            "_model_name": "HBoxModel",
            "_view_count": null,
            "_view_module": "@jupyter-widgets/controls",
            "_view_module_version": "1.5.0",
            "_view_name": "HBoxView",
            "box_style": "",
            "children": [
              "IPY_MODEL_9525e463f537463c8e74cb6cea07c756",
              "IPY_MODEL_63022677b24241fa8afddf14ea4c7644",
              "IPY_MODEL_a6b50ff1bb22476987242b90d341b163"
            ],
            "layout": "IPY_MODEL_c07654d60a9346d283959d35611cbe21"
          }
        },
        "9525e463f537463c8e74cb6cea07c756": {
          "model_module": "@jupyter-widgets/controls",
          "model_name": "HTMLModel",
          "model_module_version": "1.5.0",
          "state": {
            "_dom_classes": [],
            "_model_module": "@jupyter-widgets/controls",
            "_model_module_version": "1.5.0",
            "_model_name": "HTMLModel",
            "_view_count": null,
            "_view_module": "@jupyter-widgets/controls",
            "_view_module_version": "1.5.0",
            "_view_name": "HTMLView",
            "description": "",
            "description_tooltip": null,
            "layout": "IPY_MODEL_94197067753a4cc0b8ad482bb0ea29f9",
            "placeholder": "​",
            "style": "IPY_MODEL_c8912f490b664555b21e8e9d83bb52e7",
            "value": "tokenizer.json: 100%"
          }
        },
        "63022677b24241fa8afddf14ea4c7644": {
          "model_module": "@jupyter-widgets/controls",
          "model_name": "FloatProgressModel",
          "model_module_version": "1.5.0",
          "state": {
            "_dom_classes": [],
            "_model_module": "@jupyter-widgets/controls",
            "_model_module_version": "1.5.0",
            "_model_name": "FloatProgressModel",
            "_view_count": null,
            "_view_module": "@jupyter-widgets/controls",
            "_view_module_version": "1.5.0",
            "_view_name": "ProgressView",
            "bar_style": "success",
            "description": "",
            "description_tooltip": null,
            "layout": "IPY_MODEL_4f023456c89c437a8e4b625b3fa608e1",
            "max": 1389353,
            "min": 0,
            "orientation": "horizontal",
            "style": "IPY_MODEL_acdd9a6257734c3ab044a2a5a70677a4",
            "value": 1389353
          }
        },
        "a6b50ff1bb22476987242b90d341b163": {
          "model_module": "@jupyter-widgets/controls",
          "model_name": "HTMLModel",
          "model_module_version": "1.5.0",
          "state": {
            "_dom_classes": [],
            "_model_module": "@jupyter-widgets/controls",
            "_model_module_version": "1.5.0",
            "_model_name": "HTMLModel",
            "_view_count": null,
            "_view_module": "@jupyter-widgets/controls",
            "_view_module_version": "1.5.0",
            "_view_name": "HTMLView",
            "description": "",
            "description_tooltip": null,
            "layout": "IPY_MODEL_ecf0d88448af41b9908327f41a576413",
            "placeholder": "​",
            "style": "IPY_MODEL_99ce1a31b1e44118b2250f31e9d37310",
            "value": " 1.39M/1.39M [00:00&lt;00:00, 4.23MB/s]"
          }
        },
        "c07654d60a9346d283959d35611cbe21": {
          "model_module": "@jupyter-widgets/base",
          "model_name": "LayoutModel",
          "model_module_version": "1.2.0",
          "state": {
            "_model_module": "@jupyter-widgets/base",
            "_model_module_version": "1.2.0",
            "_model_name": "LayoutModel",
            "_view_count": null,
            "_view_module": "@jupyter-widgets/base",
            "_view_module_version": "1.2.0",
            "_view_name": "LayoutView",
            "align_content": null,
            "align_items": null,
            "align_self": null,
            "border": null,
            "bottom": null,
            "display": null,
            "flex": null,
            "flex_flow": null,
            "grid_area": null,
            "grid_auto_columns": null,
            "grid_auto_flow": null,
            "grid_auto_rows": null,
            "grid_column": null,
            "grid_gap": null,
            "grid_row": null,
            "grid_template_areas": null,
            "grid_template_columns": null,
            "grid_template_rows": null,
            "height": null,
            "justify_content": null,
            "justify_items": null,
            "left": null,
            "margin": null,
            "max_height": null,
            "max_width": null,
            "min_height": null,
            "min_width": null,
            "object_fit": null,
            "object_position": null,
            "order": null,
            "overflow": null,
            "overflow_x": null,
            "overflow_y": null,
            "padding": null,
            "right": null,
            "top": null,
            "visibility": null,
            "width": null
          }
        },
        "94197067753a4cc0b8ad482bb0ea29f9": {
          "model_module": "@jupyter-widgets/base",
          "model_name": "LayoutModel",
          "model_module_version": "1.2.0",
          "state": {
            "_model_module": "@jupyter-widgets/base",
            "_model_module_version": "1.2.0",
            "_model_name": "LayoutModel",
            "_view_count": null,
            "_view_module": "@jupyter-widgets/base",
            "_view_module_version": "1.2.0",
            "_view_name": "LayoutView",
            "align_content": null,
            "align_items": null,
            "align_self": null,
            "border": null,
            "bottom": null,
            "display": null,
            "flex": null,
            "flex_flow": null,
            "grid_area": null,
            "grid_auto_columns": null,
            "grid_auto_flow": null,
            "grid_auto_rows": null,
            "grid_column": null,
            "grid_gap": null,
            "grid_row": null,
            "grid_template_areas": null,
            "grid_template_columns": null,
            "grid_template_rows": null,
            "height": null,
            "justify_content": null,
            "justify_items": null,
            "left": null,
            "margin": null,
            "max_height": null,
            "max_width": null,
            "min_height": null,
            "min_width": null,
            "object_fit": null,
            "object_position": null,
            "order": null,
            "overflow": null,
            "overflow_x": null,
            "overflow_y": null,
            "padding": null,
            "right": null,
            "top": null,
            "visibility": null,
            "width": null
          }
        },
        "c8912f490b664555b21e8e9d83bb52e7": {
          "model_module": "@jupyter-widgets/controls",
          "model_name": "DescriptionStyleModel",
          "model_module_version": "1.5.0",
          "state": {
            "_model_module": "@jupyter-widgets/controls",
            "_model_module_version": "1.5.0",
            "_model_name": "DescriptionStyleModel",
            "_view_count": null,
            "_view_module": "@jupyter-widgets/base",
            "_view_module_version": "1.2.0",
            "_view_name": "StyleView",
            "description_width": ""
          }
        },
        "4f023456c89c437a8e4b625b3fa608e1": {
          "model_module": "@jupyter-widgets/base",
          "model_name": "LayoutModel",
          "model_module_version": "1.2.0",
          "state": {
            "_model_module": "@jupyter-widgets/base",
            "_model_module_version": "1.2.0",
            "_model_name": "LayoutModel",
            "_view_count": null,
            "_view_module": "@jupyter-widgets/base",
            "_view_module_version": "1.2.0",
            "_view_name": "LayoutView",
            "align_content": null,
            "align_items": null,
            "align_self": null,
            "border": null,
            "bottom": null,
            "display": null,
            "flex": null,
            "flex_flow": null,
            "grid_area": null,
            "grid_auto_columns": null,
            "grid_auto_flow": null,
            "grid_auto_rows": null,
            "grid_column": null,
            "grid_gap": null,
            "grid_row": null,
            "grid_template_areas": null,
            "grid_template_columns": null,
            "grid_template_rows": null,
            "height": null,
            "justify_content": null,
            "justify_items": null,
            "left": null,
            "margin": null,
            "max_height": null,
            "max_width": null,
            "min_height": null,
            "min_width": null,
            "object_fit": null,
            "object_position": null,
            "order": null,
            "overflow": null,
            "overflow_x": null,
            "overflow_y": null,
            "padding": null,
            "right": null,
            "top": null,
            "visibility": null,
            "width": null
          }
        },
        "acdd9a6257734c3ab044a2a5a70677a4": {
          "model_module": "@jupyter-widgets/controls",
          "model_name": "ProgressStyleModel",
          "model_module_version": "1.5.0",
          "state": {
            "_model_module": "@jupyter-widgets/controls",
            "_model_module_version": "1.5.0",
            "_model_name": "ProgressStyleModel",
            "_view_count": null,
            "_view_module": "@jupyter-widgets/base",
            "_view_module_version": "1.2.0",
            "_view_name": "StyleView",
            "bar_color": null,
            "description_width": ""
          }
        },
        "ecf0d88448af41b9908327f41a576413": {
          "model_module": "@jupyter-widgets/base",
          "model_name": "LayoutModel",
          "model_module_version": "1.2.0",
          "state": {
            "_model_module": "@jupyter-widgets/base",
            "_model_module_version": "1.2.0",
            "_model_name": "LayoutModel",
            "_view_count": null,
            "_view_module": "@jupyter-widgets/base",
            "_view_module_version": "1.2.0",
            "_view_name": "LayoutView",
            "align_content": null,
            "align_items": null,
            "align_self": null,
            "border": null,
            "bottom": null,
            "display": null,
            "flex": null,
            "flex_flow": null,
            "grid_area": null,
            "grid_auto_columns": null,
            "grid_auto_flow": null,
            "grid_auto_rows": null,
            "grid_column": null,
            "grid_gap": null,
            "grid_row": null,
            "grid_template_areas": null,
            "grid_template_columns": null,
            "grid_template_rows": null,
            "height": null,
            "justify_content": null,
            "justify_items": null,
            "left": null,
            "margin": null,
            "max_height": null,
            "max_width": null,
            "min_height": null,
            "min_width": null,
            "object_fit": null,
            "object_position": null,
            "order": null,
            "overflow": null,
            "overflow_x": null,
            "overflow_y": null,
            "padding": null,
            "right": null,
            "top": null,
            "visibility": null,
            "width": null
          }
        },
        "99ce1a31b1e44118b2250f31e9d37310": {
          "model_module": "@jupyter-widgets/controls",
          "model_name": "DescriptionStyleModel",
          "model_module_version": "1.5.0",
          "state": {
            "_model_module": "@jupyter-widgets/controls",
            "_model_module_version": "1.5.0",
            "_model_name": "DescriptionStyleModel",
            "_view_count": null,
            "_view_module": "@jupyter-widgets/base",
            "_view_module_version": "1.2.0",
            "_view_name": "StyleView",
            "description_width": ""
          }
        },
        "996c1f726cdc4bc7a4bb49a74730e312": {
          "model_module": "@jupyter-widgets/controls",
          "model_name": "HBoxModel",
          "model_module_version": "1.5.0",
          "state": {
            "_dom_classes": [],
            "_model_module": "@jupyter-widgets/controls",
            "_model_module_version": "1.5.0",
            "_model_name": "HBoxModel",
            "_view_count": null,
            "_view_module": "@jupyter-widgets/controls",
            "_view_module_version": "1.5.0",
            "_view_name": "HBoxView",
            "box_style": "",
            "children": [
              "IPY_MODEL_616a044ff2aa414abdecf88d6d98e857",
              "IPY_MODEL_97300077c3874849861951f539e5d058",
              "IPY_MODEL_bce6fd5907984bb1a3290bc454c1af32"
            ],
            "layout": "IPY_MODEL_3c58bbf6edef4b17bb31a2ab747e3cdd"
          }
        },
        "616a044ff2aa414abdecf88d6d98e857": {
          "model_module": "@jupyter-widgets/controls",
          "model_name": "HTMLModel",
          "model_module_version": "1.5.0",
          "state": {
            "_dom_classes": [],
            "_model_module": "@jupyter-widgets/controls",
            "_model_module_version": "1.5.0",
            "_model_name": "HTMLModel",
            "_view_count": null,
            "_view_module": "@jupyter-widgets/controls",
            "_view_module_version": "1.5.0",
            "_view_name": "HTMLView",
            "description": "",
            "description_tooltip": null,
            "layout": "IPY_MODEL_d63dd3ac156e4a71b789ab4216ce46b2",
            "placeholder": "​",
            "style": "IPY_MODEL_f3710b51321047a8868c5aaa0b318ae2",
            "value": "config.json: 100%"
          }
        },
        "97300077c3874849861951f539e5d058": {
          "model_module": "@jupyter-widgets/controls",
          "model_name": "FloatProgressModel",
          "model_module_version": "1.5.0",
          "state": {
            "_dom_classes": [],
            "_model_module": "@jupyter-widgets/controls",
            "_model_module_version": "1.5.0",
            "_model_name": "FloatProgressModel",
            "_view_count": null,
            "_view_module": "@jupyter-widgets/controls",
            "_view_module_version": "1.5.0",
            "_view_name": "ProgressView",
            "bar_style": "success",
            "description": "",
            "description_tooltip": null,
            "layout": "IPY_MODEL_fe885af72ab242c6a42dac82a8420fd6",
            "max": 1209,
            "min": 0,
            "orientation": "horizontal",
            "style": "IPY_MODEL_abc3120f41234f118633648d41d6526d",
            "value": 1209
          }
        },
        "bce6fd5907984bb1a3290bc454c1af32": {
          "model_module": "@jupyter-widgets/controls",
          "model_name": "HTMLModel",
          "model_module_version": "1.5.0",
          "state": {
            "_dom_classes": [],
            "_model_module": "@jupyter-widgets/controls",
            "_model_module_version": "1.5.0",
            "_model_name": "HTMLModel",
            "_view_count": null,
            "_view_module": "@jupyter-widgets/controls",
            "_view_module_version": "1.5.0",
            "_view_name": "HTMLView",
            "description": "",
            "description_tooltip": null,
            "layout": "IPY_MODEL_ab49a61c7adb4c20be80e96aac015672",
            "placeholder": "​",
            "style": "IPY_MODEL_f70df830eefd41d4b5dee21f7ae962fb",
            "value": " 1.21k/1.21k [00:00&lt;00:00, 25.5kB/s]"
          }
        },
        "3c58bbf6edef4b17bb31a2ab747e3cdd": {
          "model_module": "@jupyter-widgets/base",
          "model_name": "LayoutModel",
          "model_module_version": "1.2.0",
          "state": {
            "_model_module": "@jupyter-widgets/base",
            "_model_module_version": "1.2.0",
            "_model_name": "LayoutModel",
            "_view_count": null,
            "_view_module": "@jupyter-widgets/base",
            "_view_module_version": "1.2.0",
            "_view_name": "LayoutView",
            "align_content": null,
            "align_items": null,
            "align_self": null,
            "border": null,
            "bottom": null,
            "display": null,
            "flex": null,
            "flex_flow": null,
            "grid_area": null,
            "grid_auto_columns": null,
            "grid_auto_flow": null,
            "grid_auto_rows": null,
            "grid_column": null,
            "grid_gap": null,
            "grid_row": null,
            "grid_template_areas": null,
            "grid_template_columns": null,
            "grid_template_rows": null,
            "height": null,
            "justify_content": null,
            "justify_items": null,
            "left": null,
            "margin": null,
            "max_height": null,
            "max_width": null,
            "min_height": null,
            "min_width": null,
            "object_fit": null,
            "object_position": null,
            "order": null,
            "overflow": null,
            "overflow_x": null,
            "overflow_y": null,
            "padding": null,
            "right": null,
            "top": null,
            "visibility": null,
            "width": null
          }
        },
        "d63dd3ac156e4a71b789ab4216ce46b2": {
          "model_module": "@jupyter-widgets/base",
          "model_name": "LayoutModel",
          "model_module_version": "1.2.0",
          "state": {
            "_model_module": "@jupyter-widgets/base",
            "_model_module_version": "1.2.0",
            "_model_name": "LayoutModel",
            "_view_count": null,
            "_view_module": "@jupyter-widgets/base",
            "_view_module_version": "1.2.0",
            "_view_name": "LayoutView",
            "align_content": null,
            "align_items": null,
            "align_self": null,
            "border": null,
            "bottom": null,
            "display": null,
            "flex": null,
            "flex_flow": null,
            "grid_area": null,
            "grid_auto_columns": null,
            "grid_auto_flow": null,
            "grid_auto_rows": null,
            "grid_column": null,
            "grid_gap": null,
            "grid_row": null,
            "grid_template_areas": null,
            "grid_template_columns": null,
            "grid_template_rows": null,
            "height": null,
            "justify_content": null,
            "justify_items": null,
            "left": null,
            "margin": null,
            "max_height": null,
            "max_width": null,
            "min_height": null,
            "min_width": null,
            "object_fit": null,
            "object_position": null,
            "order": null,
            "overflow": null,
            "overflow_x": null,
            "overflow_y": null,
            "padding": null,
            "right": null,
            "top": null,
            "visibility": null,
            "width": null
          }
        },
        "f3710b51321047a8868c5aaa0b318ae2": {
          "model_module": "@jupyter-widgets/controls",
          "model_name": "DescriptionStyleModel",
          "model_module_version": "1.5.0",
          "state": {
            "_model_module": "@jupyter-widgets/controls",
            "_model_module_version": "1.5.0",
            "_model_name": "DescriptionStyleModel",
            "_view_count": null,
            "_view_module": "@jupyter-widgets/base",
            "_view_module_version": "1.2.0",
            "_view_name": "StyleView",
            "description_width": ""
          }
        },
        "fe885af72ab242c6a42dac82a8420fd6": {
          "model_module": "@jupyter-widgets/base",
          "model_name": "LayoutModel",
          "model_module_version": "1.2.0",
          "state": {
            "_model_module": "@jupyter-widgets/base",
            "_model_module_version": "1.2.0",
            "_model_name": "LayoutModel",
            "_view_count": null,
            "_view_module": "@jupyter-widgets/base",
            "_view_module_version": "1.2.0",
            "_view_name": "LayoutView",
            "align_content": null,
            "align_items": null,
            "align_self": null,
            "border": null,
            "bottom": null,
            "display": null,
            "flex": null,
            "flex_flow": null,
            "grid_area": null,
            "grid_auto_columns": null,
            "grid_auto_flow": null,
            "grid_auto_rows": null,
            "grid_column": null,
            "grid_gap": null,
            "grid_row": null,
            "grid_template_areas": null,
            "grid_template_columns": null,
            "grid_template_rows": null,
            "height": null,
            "justify_content": null,
            "justify_items": null,
            "left": null,
            "margin": null,
            "max_height": null,
            "max_width": null,
            "min_height": null,
            "min_width": null,
            "object_fit": null,
            "object_position": null,
            "order": null,
            "overflow": null,
            "overflow_x": null,
            "overflow_y": null,
            "padding": null,
            "right": null,
            "top": null,
            "visibility": null,
            "width": null
          }
        },
        "abc3120f41234f118633648d41d6526d": {
          "model_module": "@jupyter-widgets/controls",
          "model_name": "ProgressStyleModel",
          "model_module_version": "1.5.0",
          "state": {
            "_model_module": "@jupyter-widgets/controls",
            "_model_module_version": "1.5.0",
            "_model_name": "ProgressStyleModel",
            "_view_count": null,
            "_view_module": "@jupyter-widgets/base",
            "_view_module_version": "1.2.0",
            "_view_name": "StyleView",
            "bar_color": null,
            "description_width": ""
          }
        },
        "ab49a61c7adb4c20be80e96aac015672": {
          "model_module": "@jupyter-widgets/base",
          "model_name": "LayoutModel",
          "model_module_version": "1.2.0",
          "state": {
            "_model_module": "@jupyter-widgets/base",
            "_model_module_version": "1.2.0",
            "_model_name": "LayoutModel",
            "_view_count": null,
            "_view_module": "@jupyter-widgets/base",
            "_view_module_version": "1.2.0",
            "_view_name": "LayoutView",
            "align_content": null,
            "align_items": null,
            "align_self": null,
            "border": null,
            "bottom": null,
            "display": null,
            "flex": null,
            "flex_flow": null,
            "grid_area": null,
            "grid_auto_columns": null,
            "grid_auto_flow": null,
            "grid_auto_rows": null,
            "grid_column": null,
            "grid_gap": null,
            "grid_row": null,
            "grid_template_areas": null,
            "grid_template_columns": null,
            "grid_template_rows": null,
            "height": null,
            "justify_content": null,
            "justify_items": null,
            "left": null,
            "margin": null,
            "max_height": null,
            "max_width": null,
            "min_height": null,
            "min_width": null,
            "object_fit": null,
            "object_position": null,
            "order": null,
            "overflow": null,
            "overflow_x": null,
            "overflow_y": null,
            "padding": null,
            "right": null,
            "top": null,
            "visibility": null,
            "width": null
          }
        },
        "f70df830eefd41d4b5dee21f7ae962fb": {
          "model_module": "@jupyter-widgets/controls",
          "model_name": "DescriptionStyleModel",
          "model_module_version": "1.5.0",
          "state": {
            "_model_module": "@jupyter-widgets/controls",
            "_model_module_version": "1.5.0",
            "_model_name": "DescriptionStyleModel",
            "_view_count": null,
            "_view_module": "@jupyter-widgets/base",
            "_view_module_version": "1.2.0",
            "_view_name": "StyleView",
            "description_width": ""
          }
        },
        "cf96e8476f6d45adb2db93dd25a26947": {
          "model_module": "@jupyter-widgets/controls",
          "model_name": "HBoxModel",
          "model_module_version": "1.5.0",
          "state": {
            "_dom_classes": [],
            "_model_module": "@jupyter-widgets/controls",
            "_model_module_version": "1.5.0",
            "_model_name": "HBoxModel",
            "_view_count": null,
            "_view_module": "@jupyter-widgets/controls",
            "_view_module_version": "1.5.0",
            "_view_name": "HBoxView",
            "box_style": "",
            "children": [
              "IPY_MODEL_938b14ec577e49168130fd7eede83e8b",
              "IPY_MODEL_ef865f62091848dfa62a34a763773d09",
              "IPY_MODEL_f869c043f62848338f78d4e7ec13d9ae"
            ],
            "layout": "IPY_MODEL_7ec41cf3cddb4049b38457032dbc0733"
          }
        },
        "938b14ec577e49168130fd7eede83e8b": {
          "model_module": "@jupyter-widgets/controls",
          "model_name": "HTMLModel",
          "model_module_version": "1.5.0",
          "state": {
            "_dom_classes": [],
            "_model_module": "@jupyter-widgets/controls",
            "_model_module_version": "1.5.0",
            "_model_name": "HTMLModel",
            "_view_count": null,
            "_view_module": "@jupyter-widgets/controls",
            "_view_module_version": "1.5.0",
            "_view_name": "HTMLView",
            "description": "",
            "description_tooltip": null,
            "layout": "IPY_MODEL_169ef87980e844e4a42cf7ae51fb3490",
            "placeholder": "​",
            "style": "IPY_MODEL_fa97570834a5473f9c57443f62a1281e",
            "value": "config.json: 100%"
          }
        },
        "ef865f62091848dfa62a34a763773d09": {
          "model_module": "@jupyter-widgets/controls",
          "model_name": "FloatProgressModel",
          "model_module_version": "1.5.0",
          "state": {
            "_dom_classes": [],
            "_model_module": "@jupyter-widgets/controls",
            "_model_module_version": "1.5.0",
            "_model_name": "FloatProgressModel",
            "_view_count": null,
            "_view_module": "@jupyter-widgets/controls",
            "_view_module_version": "1.5.0",
            "_view_name": "ProgressView",
            "bar_style": "success",
            "description": "",
            "description_tooltip": null,
            "layout": "IPY_MODEL_85d81d6b5a5043aab5082bdaa1a6435e",
            "max": 1208,
            "min": 0,
            "orientation": "horizontal",
            "style": "IPY_MODEL_5c4faa9b1f0c47808e84d1a6b031ce22",
            "value": 1208
          }
        },
        "f869c043f62848338f78d4e7ec13d9ae": {
          "model_module": "@jupyter-widgets/controls",
          "model_name": "HTMLModel",
          "model_module_version": "1.5.0",
          "state": {
            "_dom_classes": [],
            "_model_module": "@jupyter-widgets/controls",
            "_model_module_version": "1.5.0",
            "_model_name": "HTMLModel",
            "_view_count": null,
            "_view_module": "@jupyter-widgets/controls",
            "_view_module_version": "1.5.0",
            "_view_name": "HTMLView",
            "description": "",
            "description_tooltip": null,
            "layout": "IPY_MODEL_69e652768c74475281332e3cb3254af6",
            "placeholder": "​",
            "style": "IPY_MODEL_95072db16ccb4bc3a5aab6ffc2da58ed",
            "value": " 1.21k/1.21k [00:00&lt;00:00, 20.5kB/s]"
          }
        },
        "7ec41cf3cddb4049b38457032dbc0733": {
          "model_module": "@jupyter-widgets/base",
          "model_name": "LayoutModel",
          "model_module_version": "1.2.0",
          "state": {
            "_model_module": "@jupyter-widgets/base",
            "_model_module_version": "1.2.0",
            "_model_name": "LayoutModel",
            "_view_count": null,
            "_view_module": "@jupyter-widgets/base",
            "_view_module_version": "1.2.0",
            "_view_name": "LayoutView",
            "align_content": null,
            "align_items": null,
            "align_self": null,
            "border": null,
            "bottom": null,
            "display": null,
            "flex": null,
            "flex_flow": null,
            "grid_area": null,
            "grid_auto_columns": null,
            "grid_auto_flow": null,
            "grid_auto_rows": null,
            "grid_column": null,
            "grid_gap": null,
            "grid_row": null,
            "grid_template_areas": null,
            "grid_template_columns": null,
            "grid_template_rows": null,
            "height": null,
            "justify_content": null,
            "justify_items": null,
            "left": null,
            "margin": null,
            "max_height": null,
            "max_width": null,
            "min_height": null,
            "min_width": null,
            "object_fit": null,
            "object_position": null,
            "order": null,
            "overflow": null,
            "overflow_x": null,
            "overflow_y": null,
            "padding": null,
            "right": null,
            "top": null,
            "visibility": null,
            "width": null
          }
        },
        "169ef87980e844e4a42cf7ae51fb3490": {
          "model_module": "@jupyter-widgets/base",
          "model_name": "LayoutModel",
          "model_module_version": "1.2.0",
          "state": {
            "_model_module": "@jupyter-widgets/base",
            "_model_module_version": "1.2.0",
            "_model_name": "LayoutModel",
            "_view_count": null,
            "_view_module": "@jupyter-widgets/base",
            "_view_module_version": "1.2.0",
            "_view_name": "LayoutView",
            "align_content": null,
            "align_items": null,
            "align_self": null,
            "border": null,
            "bottom": null,
            "display": null,
            "flex": null,
            "flex_flow": null,
            "grid_area": null,
            "grid_auto_columns": null,
            "grid_auto_flow": null,
            "grid_auto_rows": null,
            "grid_column": null,
            "grid_gap": null,
            "grid_row": null,
            "grid_template_areas": null,
            "grid_template_columns": null,
            "grid_template_rows": null,
            "height": null,
            "justify_content": null,
            "justify_items": null,
            "left": null,
            "margin": null,
            "max_height": null,
            "max_width": null,
            "min_height": null,
            "min_width": null,
            "object_fit": null,
            "object_position": null,
            "order": null,
            "overflow": null,
            "overflow_x": null,
            "overflow_y": null,
            "padding": null,
            "right": null,
            "top": null,
            "visibility": null,
            "width": null
          }
        },
        "fa97570834a5473f9c57443f62a1281e": {
          "model_module": "@jupyter-widgets/controls",
          "model_name": "DescriptionStyleModel",
          "model_module_version": "1.5.0",
          "state": {
            "_model_module": "@jupyter-widgets/controls",
            "_model_module_version": "1.5.0",
            "_model_name": "DescriptionStyleModel",
            "_view_count": null,
            "_view_module": "@jupyter-widgets/base",
            "_view_module_version": "1.2.0",
            "_view_name": "StyleView",
            "description_width": ""
          }
        },
        "85d81d6b5a5043aab5082bdaa1a6435e": {
          "model_module": "@jupyter-widgets/base",
          "model_name": "LayoutModel",
          "model_module_version": "1.2.0",
          "state": {
            "_model_module": "@jupyter-widgets/base",
            "_model_module_version": "1.2.0",
            "_model_name": "LayoutModel",
            "_view_count": null,
            "_view_module": "@jupyter-widgets/base",
            "_view_module_version": "1.2.0",
            "_view_name": "LayoutView",
            "align_content": null,
            "align_items": null,
            "align_self": null,
            "border": null,
            "bottom": null,
            "display": null,
            "flex": null,
            "flex_flow": null,
            "grid_area": null,
            "grid_auto_columns": null,
            "grid_auto_flow": null,
            "grid_auto_rows": null,
            "grid_column": null,
            "grid_gap": null,
            "grid_row": null,
            "grid_template_areas": null,
            "grid_template_columns": null,
            "grid_template_rows": null,
            "height": null,
            "justify_content": null,
            "justify_items": null,
            "left": null,
            "margin": null,
            "max_height": null,
            "max_width": null,
            "min_height": null,
            "min_width": null,
            "object_fit": null,
            "object_position": null,
            "order": null,
            "overflow": null,
            "overflow_x": null,
            "overflow_y": null,
            "padding": null,
            "right": null,
            "top": null,
            "visibility": null,
            "width": null
          }
        },
        "5c4faa9b1f0c47808e84d1a6b031ce22": {
          "model_module": "@jupyter-widgets/controls",
          "model_name": "ProgressStyleModel",
          "model_module_version": "1.5.0",
          "state": {
            "_model_module": "@jupyter-widgets/controls",
            "_model_module_version": "1.5.0",
            "_model_name": "ProgressStyleModel",
            "_view_count": null,
            "_view_module": "@jupyter-widgets/base",
            "_view_module_version": "1.2.0",
            "_view_name": "StyleView",
            "bar_color": null,
            "description_width": ""
          }
        },
        "69e652768c74475281332e3cb3254af6": {
          "model_module": "@jupyter-widgets/base",
          "model_name": "LayoutModel",
          "model_module_version": "1.2.0",
          "state": {
            "_model_module": "@jupyter-widgets/base",
            "_model_module_version": "1.2.0",
            "_model_name": "LayoutModel",
            "_view_count": null,
            "_view_module": "@jupyter-widgets/base",
            "_view_module_version": "1.2.0",
            "_view_name": "LayoutView",
            "align_content": null,
            "align_items": null,
            "align_self": null,
            "border": null,
            "bottom": null,
            "display": null,
            "flex": null,
            "flex_flow": null,
            "grid_area": null,
            "grid_auto_columns": null,
            "grid_auto_flow": null,
            "grid_auto_rows": null,
            "grid_column": null,
            "grid_gap": null,
            "grid_row": null,
            "grid_template_areas": null,
            "grid_template_columns": null,
            "grid_template_rows": null,
            "height": null,
            "justify_content": null,
            "justify_items": null,
            "left": null,
            "margin": null,
            "max_height": null,
            "max_width": null,
            "min_height": null,
            "min_width": null,
            "object_fit": null,
            "object_position": null,
            "order": null,
            "overflow": null,
            "overflow_x": null,
            "overflow_y": null,
            "padding": null,
            "right": null,
            "top": null,
            "visibility": null,
            "width": null
          }
        },
        "95072db16ccb4bc3a5aab6ffc2da58ed": {
          "model_module": "@jupyter-widgets/controls",
          "model_name": "DescriptionStyleModel",
          "model_module_version": "1.5.0",
          "state": {
            "_model_module": "@jupyter-widgets/controls",
            "_model_module_version": "1.5.0",
            "_model_name": "DescriptionStyleModel",
            "_view_count": null,
            "_view_module": "@jupyter-widgets/base",
            "_view_module_version": "1.2.0",
            "_view_name": "StyleView",
            "description_width": ""
          }
        },
        "bdc6623c117948e3adbfeb627a88f176": {
          "model_module": "@jupyter-widgets/controls",
          "model_name": "HBoxModel",
          "model_module_version": "1.5.0",
          "state": {
            "_dom_classes": [],
            "_model_module": "@jupyter-widgets/controls",
            "_model_module_version": "1.5.0",
            "_model_name": "HBoxModel",
            "_view_count": null,
            "_view_module": "@jupyter-widgets/controls",
            "_view_module_version": "1.5.0",
            "_view_name": "HBoxView",
            "box_style": "",
            "children": [
              "IPY_MODEL_bba596226912461c95d17947002e4a1b",
              "IPY_MODEL_297d1717bd1a4545a99090deccf0bb5b",
              "IPY_MODEL_03ea347982f54b5090ba2692b8961947"
            ],
            "layout": "IPY_MODEL_5145791e27d7427fb49fe1b5ec2c01b1"
          }
        },
        "bba596226912461c95d17947002e4a1b": {
          "model_module": "@jupyter-widgets/controls",
          "model_name": "HTMLModel",
          "model_module_version": "1.5.0",
          "state": {
            "_dom_classes": [],
            "_model_module": "@jupyter-widgets/controls",
            "_model_module_version": "1.5.0",
            "_model_name": "HTMLModel",
            "_view_count": null,
            "_view_module": "@jupyter-widgets/controls",
            "_view_module_version": "1.5.0",
            "_view_name": "HTMLView",
            "description": "",
            "description_tooltip": null,
            "layout": "IPY_MODEL_d6c4c90021e14c5093ab86107f2ad1da",
            "placeholder": "​",
            "style": "IPY_MODEL_555791ab018e4211b55b1f60bfb77b10",
            "value": "pytorch_model.bin: 100%"
          }
        },
        "297d1717bd1a4545a99090deccf0bb5b": {
          "model_module": "@jupyter-widgets/controls",
          "model_name": "FloatProgressModel",
          "model_module_version": "1.5.0",
          "state": {
            "_dom_classes": [],
            "_model_module": "@jupyter-widgets/controls",
            "_model_module_version": "1.5.0",
            "_model_name": "FloatProgressModel",
            "_view_count": null,
            "_view_module": "@jupyter-widgets/controls",
            "_view_module_version": "1.5.0",
            "_view_name": "ProgressView",
            "bar_style": "success",
            "description": "",
            "description_tooltip": null,
            "layout": "IPY_MODEL_a085e8c419934a20a414b0e305e8fde7",
            "max": 891695056,
            "min": 0,
            "orientation": "horizontal",
            "style": "IPY_MODEL_f8b214b6d16d4eec83edeb9d31c6ec4f",
            "value": 891695056
          }
        },
        "03ea347982f54b5090ba2692b8961947": {
          "model_module": "@jupyter-widgets/controls",
          "model_name": "HTMLModel",
          "model_module_version": "1.5.0",
          "state": {
            "_dom_classes": [],
            "_model_module": "@jupyter-widgets/controls",
            "_model_module_version": "1.5.0",
            "_model_name": "HTMLModel",
            "_view_count": null,
            "_view_module": "@jupyter-widgets/controls",
            "_view_module_version": "1.5.0",
            "_view_name": "HTMLView",
            "description": "",
            "description_tooltip": null,
            "layout": "IPY_MODEL_d80a85c11f4340fabc59819e65ec12ff",
            "placeholder": "​",
            "style": "IPY_MODEL_120a6dd2aff143b09652ca9a97fcf0e8",
            "value": " 892M/892M [00:06&lt;00:00, 127MB/s]"
          }
        },
        "5145791e27d7427fb49fe1b5ec2c01b1": {
          "model_module": "@jupyter-widgets/base",
          "model_name": "LayoutModel",
          "model_module_version": "1.2.0",
          "state": {
            "_model_module": "@jupyter-widgets/base",
            "_model_module_version": "1.2.0",
            "_model_name": "LayoutModel",
            "_view_count": null,
            "_view_module": "@jupyter-widgets/base",
            "_view_module_version": "1.2.0",
            "_view_name": "LayoutView",
            "align_content": null,
            "align_items": null,
            "align_self": null,
            "border": null,
            "bottom": null,
            "display": null,
            "flex": null,
            "flex_flow": null,
            "grid_area": null,
            "grid_auto_columns": null,
            "grid_auto_flow": null,
            "grid_auto_rows": null,
            "grid_column": null,
            "grid_gap": null,
            "grid_row": null,
            "grid_template_areas": null,
            "grid_template_columns": null,
            "grid_template_rows": null,
            "height": null,
            "justify_content": null,
            "justify_items": null,
            "left": null,
            "margin": null,
            "max_height": null,
            "max_width": null,
            "min_height": null,
            "min_width": null,
            "object_fit": null,
            "object_position": null,
            "order": null,
            "overflow": null,
            "overflow_x": null,
            "overflow_y": null,
            "padding": null,
            "right": null,
            "top": null,
            "visibility": null,
            "width": null
          }
        },
        "d6c4c90021e14c5093ab86107f2ad1da": {
          "model_module": "@jupyter-widgets/base",
          "model_name": "LayoutModel",
          "model_module_version": "1.2.0",
          "state": {
            "_model_module": "@jupyter-widgets/base",
            "_model_module_version": "1.2.0",
            "_model_name": "LayoutModel",
            "_view_count": null,
            "_view_module": "@jupyter-widgets/base",
            "_view_module_version": "1.2.0",
            "_view_name": "LayoutView",
            "align_content": null,
            "align_items": null,
            "align_self": null,
            "border": null,
            "bottom": null,
            "display": null,
            "flex": null,
            "flex_flow": null,
            "grid_area": null,
            "grid_auto_columns": null,
            "grid_auto_flow": null,
            "grid_auto_rows": null,
            "grid_column": null,
            "grid_gap": null,
            "grid_row": null,
            "grid_template_areas": null,
            "grid_template_columns": null,
            "grid_template_rows": null,
            "height": null,
            "justify_content": null,
            "justify_items": null,
            "left": null,
            "margin": null,
            "max_height": null,
            "max_width": null,
            "min_height": null,
            "min_width": null,
            "object_fit": null,
            "object_position": null,
            "order": null,
            "overflow": null,
            "overflow_x": null,
            "overflow_y": null,
            "padding": null,
            "right": null,
            "top": null,
            "visibility": null,
            "width": null
          }
        },
        "555791ab018e4211b55b1f60bfb77b10": {
          "model_module": "@jupyter-widgets/controls",
          "model_name": "DescriptionStyleModel",
          "model_module_version": "1.5.0",
          "state": {
            "_model_module": "@jupyter-widgets/controls",
            "_model_module_version": "1.5.0",
            "_model_name": "DescriptionStyleModel",
            "_view_count": null,
            "_view_module": "@jupyter-widgets/base",
            "_view_module_version": "1.2.0",
            "_view_name": "StyleView",
            "description_width": ""
          }
        },
        "a085e8c419934a20a414b0e305e8fde7": {
          "model_module": "@jupyter-widgets/base",
          "model_name": "LayoutModel",
          "model_module_version": "1.2.0",
          "state": {
            "_model_module": "@jupyter-widgets/base",
            "_model_module_version": "1.2.0",
            "_model_name": "LayoutModel",
            "_view_count": null,
            "_view_module": "@jupyter-widgets/base",
            "_view_module_version": "1.2.0",
            "_view_name": "LayoutView",
            "align_content": null,
            "align_items": null,
            "align_self": null,
            "border": null,
            "bottom": null,
            "display": null,
            "flex": null,
            "flex_flow": null,
            "grid_area": null,
            "grid_auto_columns": null,
            "grid_auto_flow": null,
            "grid_auto_rows": null,
            "grid_column": null,
            "grid_gap": null,
            "grid_row": null,
            "grid_template_areas": null,
            "grid_template_columns": null,
            "grid_template_rows": null,
            "height": null,
            "justify_content": null,
            "justify_items": null,
            "left": null,
            "margin": null,
            "max_height": null,
            "max_width": null,
            "min_height": null,
            "min_width": null,
            "object_fit": null,
            "object_position": null,
            "order": null,
            "overflow": null,
            "overflow_x": null,
            "overflow_y": null,
            "padding": null,
            "right": null,
            "top": null,
            "visibility": null,
            "width": null
          }
        },
        "f8b214b6d16d4eec83edeb9d31c6ec4f": {
          "model_module": "@jupyter-widgets/controls",
          "model_name": "ProgressStyleModel",
          "model_module_version": "1.5.0",
          "state": {
            "_model_module": "@jupyter-widgets/controls",
            "_model_module_version": "1.5.0",
            "_model_name": "ProgressStyleModel",
            "_view_count": null,
            "_view_module": "@jupyter-widgets/base",
            "_view_module_version": "1.2.0",
            "_view_name": "StyleView",
            "bar_color": null,
            "description_width": ""
          }
        },
        "d80a85c11f4340fabc59819e65ec12ff": {
          "model_module": "@jupyter-widgets/base",
          "model_name": "LayoutModel",
          "model_module_version": "1.2.0",
          "state": {
            "_model_module": "@jupyter-widgets/base",
            "_model_module_version": "1.2.0",
            "_model_name": "LayoutModel",
            "_view_count": null,
            "_view_module": "@jupyter-widgets/base",
            "_view_module_version": "1.2.0",
            "_view_name": "LayoutView",
            "align_content": null,
            "align_items": null,
            "align_self": null,
            "border": null,
            "bottom": null,
            "display": null,
            "flex": null,
            "flex_flow": null,
            "grid_area": null,
            "grid_auto_columns": null,
            "grid_auto_flow": null,
            "grid_auto_rows": null,
            "grid_column": null,
            "grid_gap": null,
            "grid_row": null,
            "grid_template_areas": null,
            "grid_template_columns": null,
            "grid_template_rows": null,
            "height": null,
            "justify_content": null,
            "justify_items": null,
            "left": null,
            "margin": null,
            "max_height": null,
            "max_width": null,
            "min_height": null,
            "min_width": null,
            "object_fit": null,
            "object_position": null,
            "order": null,
            "overflow": null,
            "overflow_x": null,
            "overflow_y": null,
            "padding": null,
            "right": null,
            "top": null,
            "visibility": null,
            "width": null
          }
        },
        "120a6dd2aff143b09652ca9a97fcf0e8": {
          "model_module": "@jupyter-widgets/controls",
          "model_name": "DescriptionStyleModel",
          "model_module_version": "1.5.0",
          "state": {
            "_model_module": "@jupyter-widgets/controls",
            "_model_module_version": "1.5.0",
            "_model_name": "DescriptionStyleModel",
            "_view_count": null,
            "_view_module": "@jupyter-widgets/base",
            "_view_module_version": "1.2.0",
            "_view_name": "StyleView",
            "description_width": ""
          }
        },
        "aeaa5210f8c6422e9ab7f544a07fc837": {
          "model_module": "@jupyter-widgets/controls",
          "model_name": "HBoxModel",
          "model_module_version": "1.5.0",
          "state": {
            "_dom_classes": [],
            "_model_module": "@jupyter-widgets/controls",
            "_model_module_version": "1.5.0",
            "_model_name": "HBoxModel",
            "_view_count": null,
            "_view_module": "@jupyter-widgets/controls",
            "_view_module_version": "1.5.0",
            "_view_name": "HBoxView",
            "box_style": "",
            "children": [
              "IPY_MODEL_bc7163f7130047cba36e0f08c5ad864e",
              "IPY_MODEL_2eedea9db83b4a12811d3a651a928543",
              "IPY_MODEL_77ac6aa3bc0e4e67b9afa4b7eeaa0412"
            ],
            "layout": "IPY_MODEL_4020802f6dfb4f86878362ee353acd09"
          }
        },
        "bc7163f7130047cba36e0f08c5ad864e": {
          "model_module": "@jupyter-widgets/controls",
          "model_name": "HTMLModel",
          "model_module_version": "1.5.0",
          "state": {
            "_dom_classes": [],
            "_model_module": "@jupyter-widgets/controls",
            "_model_module_version": "1.5.0",
            "_model_name": "HTMLModel",
            "_view_count": null,
            "_view_module": "@jupyter-widgets/controls",
            "_view_module_version": "1.5.0",
            "_view_name": "HTMLView",
            "description": "",
            "description_tooltip": null,
            "layout": "IPY_MODEL_5042f86f140b4c67a0f377a3eaffd21f",
            "placeholder": "​",
            "style": "IPY_MODEL_48a5d4d462204ea58af661e2d97dda64",
            "value": "model.safetensors: 100%"
          }
        },
        "2eedea9db83b4a12811d3a651a928543": {
          "model_module": "@jupyter-widgets/controls",
          "model_name": "FloatProgressModel",
          "model_module_version": "1.5.0",
          "state": {
            "_dom_classes": [],
            "_model_module": "@jupyter-widgets/controls",
            "_model_module_version": "1.5.0",
            "_model_name": "FloatProgressModel",
            "_view_count": null,
            "_view_module": "@jupyter-widgets/controls",
            "_view_module_version": "1.5.0",
            "_view_name": "ProgressView",
            "bar_style": "success",
            "description": "",
            "description_tooltip": null,
            "layout": "IPY_MODEL_54c3c3ee4deb4a2b85c06c4437823e1a",
            "max": 891646390,
            "min": 0,
            "orientation": "horizontal",
            "style": "IPY_MODEL_0898b89f0f1d48bdbbb3db2564961fac",
            "value": 891646390
          }
        },
        "77ac6aa3bc0e4e67b9afa4b7eeaa0412": {
          "model_module": "@jupyter-widgets/controls",
          "model_name": "HTMLModel",
          "model_module_version": "1.5.0",
          "state": {
            "_dom_classes": [],
            "_model_module": "@jupyter-widgets/controls",
            "_model_module_version": "1.5.0",
            "_model_name": "HTMLModel",
            "_view_count": null,
            "_view_module": "@jupyter-widgets/controls",
            "_view_module_version": "1.5.0",
            "_view_name": "HTMLView",
            "description": "",
            "description_tooltip": null,
            "layout": "IPY_MODEL_8db9f451352743e6ae356e1f6f442b68",
            "placeholder": "​",
            "style": "IPY_MODEL_087a792b4716412ba6363901818cfe3d",
            "value": " 892M/892M [00:09&lt;00:00, 95.9MB/s]"
          }
        },
        "4020802f6dfb4f86878362ee353acd09": {
          "model_module": "@jupyter-widgets/base",
          "model_name": "LayoutModel",
          "model_module_version": "1.2.0",
          "state": {
            "_model_module": "@jupyter-widgets/base",
            "_model_module_version": "1.2.0",
            "_model_name": "LayoutModel",
            "_view_count": null,
            "_view_module": "@jupyter-widgets/base",
            "_view_module_version": "1.2.0",
            "_view_name": "LayoutView",
            "align_content": null,
            "align_items": null,
            "align_self": null,
            "border": null,
            "bottom": null,
            "display": null,
            "flex": null,
            "flex_flow": null,
            "grid_area": null,
            "grid_auto_columns": null,
            "grid_auto_flow": null,
            "grid_auto_rows": null,
            "grid_column": null,
            "grid_gap": null,
            "grid_row": null,
            "grid_template_areas": null,
            "grid_template_columns": null,
            "grid_template_rows": null,
            "height": null,
            "justify_content": null,
            "justify_items": null,
            "left": null,
            "margin": null,
            "max_height": null,
            "max_width": null,
            "min_height": null,
            "min_width": null,
            "object_fit": null,
            "object_position": null,
            "order": null,
            "overflow": null,
            "overflow_x": null,
            "overflow_y": null,
            "padding": null,
            "right": null,
            "top": null,
            "visibility": null,
            "width": null
          }
        },
        "5042f86f140b4c67a0f377a3eaffd21f": {
          "model_module": "@jupyter-widgets/base",
          "model_name": "LayoutModel",
          "model_module_version": "1.2.0",
          "state": {
            "_model_module": "@jupyter-widgets/base",
            "_model_module_version": "1.2.0",
            "_model_name": "LayoutModel",
            "_view_count": null,
            "_view_module": "@jupyter-widgets/base",
            "_view_module_version": "1.2.0",
            "_view_name": "LayoutView",
            "align_content": null,
            "align_items": null,
            "align_self": null,
            "border": null,
            "bottom": null,
            "display": null,
            "flex": null,
            "flex_flow": null,
            "grid_area": null,
            "grid_auto_columns": null,
            "grid_auto_flow": null,
            "grid_auto_rows": null,
            "grid_column": null,
            "grid_gap": null,
            "grid_row": null,
            "grid_template_areas": null,
            "grid_template_columns": null,
            "grid_template_rows": null,
            "height": null,
            "justify_content": null,
            "justify_items": null,
            "left": null,
            "margin": null,
            "max_height": null,
            "max_width": null,
            "min_height": null,
            "min_width": null,
            "object_fit": null,
            "object_position": null,
            "order": null,
            "overflow": null,
            "overflow_x": null,
            "overflow_y": null,
            "padding": null,
            "right": null,
            "top": null,
            "visibility": null,
            "width": null
          }
        },
        "48a5d4d462204ea58af661e2d97dda64": {
          "model_module": "@jupyter-widgets/controls",
          "model_name": "DescriptionStyleModel",
          "model_module_version": "1.5.0",
          "state": {
            "_model_module": "@jupyter-widgets/controls",
            "_model_module_version": "1.5.0",
            "_model_name": "DescriptionStyleModel",
            "_view_count": null,
            "_view_module": "@jupyter-widgets/base",
            "_view_module_version": "1.2.0",
            "_view_name": "StyleView",
            "description_width": ""
          }
        },
        "54c3c3ee4deb4a2b85c06c4437823e1a": {
          "model_module": "@jupyter-widgets/base",
          "model_name": "LayoutModel",
          "model_module_version": "1.2.0",
          "state": {
            "_model_module": "@jupyter-widgets/base",
            "_model_module_version": "1.2.0",
            "_model_name": "LayoutModel",
            "_view_count": null,
            "_view_module": "@jupyter-widgets/base",
            "_view_module_version": "1.2.0",
            "_view_name": "LayoutView",
            "align_content": null,
            "align_items": null,
            "align_self": null,
            "border": null,
            "bottom": null,
            "display": null,
            "flex": null,
            "flex_flow": null,
            "grid_area": null,
            "grid_auto_columns": null,
            "grid_auto_flow": null,
            "grid_auto_rows": null,
            "grid_column": null,
            "grid_gap": null,
            "grid_row": null,
            "grid_template_areas": null,
            "grid_template_columns": null,
            "grid_template_rows": null,
            "height": null,
            "justify_content": null,
            "justify_items": null,
            "left": null,
            "margin": null,
            "max_height": null,
            "max_width": null,
            "min_height": null,
            "min_width": null,
            "object_fit": null,
            "object_position": null,
            "order": null,
            "overflow": null,
            "overflow_x": null,
            "overflow_y": null,
            "padding": null,
            "right": null,
            "top": null,
            "visibility": null,
            "width": null
          }
        },
        "0898b89f0f1d48bdbbb3db2564961fac": {
          "model_module": "@jupyter-widgets/controls",
          "model_name": "ProgressStyleModel",
          "model_module_version": "1.5.0",
          "state": {
            "_model_module": "@jupyter-widgets/controls",
            "_model_module_version": "1.5.0",
            "_model_name": "ProgressStyleModel",
            "_view_count": null,
            "_view_module": "@jupyter-widgets/base",
            "_view_module_version": "1.2.0",
            "_view_name": "StyleView",
            "bar_color": null,
            "description_width": ""
          }
        },
        "8db9f451352743e6ae356e1f6f442b68": {
          "model_module": "@jupyter-widgets/base",
          "model_name": "LayoutModel",
          "model_module_version": "1.2.0",
          "state": {
            "_model_module": "@jupyter-widgets/base",
            "_model_module_version": "1.2.0",
            "_model_name": "LayoutModel",
            "_view_count": null,
            "_view_module": "@jupyter-widgets/base",
            "_view_module_version": "1.2.0",
            "_view_name": "LayoutView",
            "align_content": null,
            "align_items": null,
            "align_self": null,
            "border": null,
            "bottom": null,
            "display": null,
            "flex": null,
            "flex_flow": null,
            "grid_area": null,
            "grid_auto_columns": null,
            "grid_auto_flow": null,
            "grid_auto_rows": null,
            "grid_column": null,
            "grid_gap": null,
            "grid_row": null,
            "grid_template_areas": null,
            "grid_template_columns": null,
            "grid_template_rows": null,
            "height": null,
            "justify_content": null,
            "justify_items": null,
            "left": null,
            "margin": null,
            "max_height": null,
            "max_width": null,
            "min_height": null,
            "min_width": null,
            "object_fit": null,
            "object_position": null,
            "order": null,
            "overflow": null,
            "overflow_x": null,
            "overflow_y": null,
            "padding": null,
            "right": null,
            "top": null,
            "visibility": null,
            "width": null
          }
        },
        "087a792b4716412ba6363901818cfe3d": {
          "model_module": "@jupyter-widgets/controls",
          "model_name": "DescriptionStyleModel",
          "model_module_version": "1.5.0",
          "state": {
            "_model_module": "@jupyter-widgets/controls",
            "_model_module_version": "1.5.0",
            "_model_name": "DescriptionStyleModel",
            "_view_count": null,
            "_view_module": "@jupyter-widgets/base",
            "_view_module_version": "1.2.0",
            "_view_name": "StyleView",
            "description_width": ""
          }
        }
      }
    }
  },
  "nbformat": 4,
  "nbformat_minor": 0
}